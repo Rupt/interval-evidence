{
 "cells": [
  {
   "cell_type": "code",
   "execution_count": 1,
   "id": "ddd99781",
   "metadata": {},
   "outputs": [],
   "source": [
    "import os\n",
    "import numpy\n",
    "from pyhf_stuff import (\n",
    "    fit_interval,\n",
    "    fit_linspace,\n",
    "    region,\n",
    ")\n",
    "\n",
    "from matplotlib import pyplot"
   ]
  },
  {
   "cell_type": "code",
   "execution_count": 2,
   "id": "4a4f2b40",
   "metadata": {},
   "outputs": [],
   "source": [
    "BASEPATH = \"/home/tombs/Cambridge/interval-evidence/searches/ins1852821/\""
   ]
  },
  {
   "cell_type": "code",
   "execution_count": 3,
   "id": "a5cb3285",
   "metadata": {},
   "outputs": [],
   "source": [
    "def load(name):\n",
    "    dir_region = os.path.join(BASEPATH, name)\n",
    "    return region.load(dir_region)\n",
    "    \n",
    "REGION = load(\"SR0ZZbvetoloose\")"
   ]
  },
  {
   "cell_type": "code",
   "execution_count": 4,
   "id": "0a58862a",
   "metadata": {},
   "outputs": [
    {
     "data": {
      "image/png": "[encoded data removed]",
      "text/plain": [
       "<Figure size 432x288 with 1 Axes>"
      ]
     },
     "metadata": {
      "needs_background": "light"
     },
     "output_type": "display_data"
    }
   ],
   "source": [
    "def scan(region):\n",
    "    linspace = fit_linspace.fit(region, 0, 50, 101)\n",
    "        \n",
    "    levels = numpy.array(linspace.levels)\n",
    "    levels -= levels.min()\n",
    "    \n",
    "    x = numpy.linspace(linspace.start, linspace.stop, len(linspace.levels))\n",
    "    \n",
    "    pyplot.plot(x, levels, \"k\")\n",
    "    pyplot.show()\n",
    "    \n",
    "scan(REGION)"
   ]
  },
  {
   "cell_type": "code",
   "execution_count": 5,
   "id": "d18454d4",
   "metadata": {},
   "outputs": [
    {
     "name": "stdout",
     "output_type": "stream",
     "text": [
      "False 9 Iteration limit reached\n",
      "False 8 Positive directional derivative for linesearch\n",
      "FitInterval(levels=[4.5], intervals=[[-17.74310167684794, 342446.96383568796]])\n"
     ]
    }
   ],
   "source": [
    "def interval(region):\n",
    "    inter = fit_interval.fit(region, levels=[4.5])\n",
    "    print(inter)\n",
    "    \n",
    "interval(REGION)"
   ]
  },
  {
   "cell_type": "code",
   "execution_count": null,
   "id": "742cfbde",
   "metadata": {},
   "outputs": [],
   "source": []
  }
 ],
 "metadata": {
  "kernelspec": {
   "display_name": "Python 3 (ipykernel)",
   "language": "python",
   "name": "python3"
  },
  "language_info": {
   "codemirror_mode": {
    "name": "ipython",
    "version": 3
   },
   "file_extension": ".py",
   "mimetype": "text/x-python",
   "name": "python",
   "nbconvert_exporter": "python",
   "pygments_lexer": "ipython3",
   "version": "3.10.4"
  }
 },
 "nbformat": 4,
 "nbformat_minor": 5
}
