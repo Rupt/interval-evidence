{
 "cells": [
  {
   "cell_type": "code",
   "execution_count": null,
   "id": "ffcdab09",
   "metadata": {},
   "outputs": [],
   "source": [
    "import scipy.stats\n",
    "import discohisto\n",
    "import discohisto.stats\n",
    "import lebesgue\n",
    "import numpy\n",
    "from matplotlib import pyplot"
   ]
  },
  {
   "cell_type": "code",
   "execution_count": null,
   "id": "1000ec93",
   "metadata": {},
   "outputs": [],
   "source": [
    "pyplot.rcParams.update(\n",
    "    {\n",
    "        \"text.usetex\": True,\n",
    "        \"font.family\": \"serif\",\n",
    "        \"font.size\": 10,\n",
    "        \"figure.facecolor\": \"w\",\n",
    "    }\n",
    ")"
   ]
  },
  {
   "cell_type": "code",
   "execution_count": null,
   "id": "377b3f3a",
   "metadata": {},
   "outputs": [],
   "source": [
    "def plot_poisson(n):\n",
    "    x = numpy.linspace(0, 10, 100)\n",
    "    y = discohisto.stats.poisson_log_minus_max(n, x)\n",
    "    pyplot.plot(x, y, \"k\")\n",
    "    pyplot.ylim(-8, 0.5)\n",
    "    pyplot.show()\n",
    "    \n",
    "plot_poisson(0)\n",
    "plot_poisson(1)"
   ]
  },
  {
   "cell_type": "code",
   "execution_count": null,
   "id": "8486e0fe",
   "metadata": {},
   "outputs": [],
   "source": [
    "# https://ui.adsabs.harvard.edu/abs/1998PhRvD..57.3873F/abstract\n",
    "# Table VI\n",
    "FENDMAN_COUSINS_POISSON_95 = [\n",
    "    (0.00, 3.09),\n",
    "    (0.05, 5.14), \n",
    "    (0.36, 6.72),\n",
    "    (0.82, 8.25),\n",
    "    (1.37, 9.76),\n",
    "    (1.84, 11.26),\n",
    "    (2.21,12.75),\n",
    "    (2.58,13.81),\n",
    "    (2.94,15.29),\n",
    "    (4.36,16.77),\n",
    "    (4.75,17.82),\n",
    "    (5.14,19.29),\n",
    "    (6.32,20.34),\n",
    "    (6.72,21.80),\n",
    "    (7.84,22.94),\n",
    "    (8.25,24.31),\n",
    "    (9.34,25.40),\n",
    "    (9.76,26.81),\n",
    "    (10.84,27.84),\n",
    "    (11.26,29.31),\n",
    "    (12.33,30.33),\n",
    "]\n",
    "\n",
    "\n",
    "def feldman_cousins_poisson_95(n):\n",
    "    assert n == int(n)\n",
    "    return FENDMAN_COUSINS_POISSON_95[int(n)]"
   ]
  },
  {
   "cell_type": "code",
   "execution_count": null,
   "id": "52383d96",
   "metadata": {},
   "outputs": [],
   "source": [
    "def poisson_uniform_prior_central_interval(n, level):\n",
    "    posterior = scipy.stats.gamma(n + 1)\n",
    "    return posterior.ppf([0.5 * level, 1 - 0.5 * level])"
   ]
  },
  {
   "cell_type": "code",
   "execution_count": null,
   "id": "520de8c1",
   "metadata": {},
   "outputs": [],
   "source": [
    "def plot_poisson_interval(n):\n",
    "    figure, axis = pyplot.subplots(\n",
    "        dpi=400,\n",
    "        figsize=numpy.array([4, 3]) * 0.7,\n",
    "        gridspec_kw={\n",
    "            \"top\": 0.99,\n",
    "            \"right\": 0.99,\n",
    "            \"bottom\": 0.2,\n",
    "            \"left\": 0.18,\n",
    "        },\n",
    "    )\n",
    "    \n",
    "    level = 0.05\n",
    "    \n",
    "    _, xhi = lebesgue.likelihood.poisson(n).interval(numpy.exp(-8))\n",
    "    \n",
    "    x = numpy.linspace(0, xhi, 511)\n",
    "    y = discohisto.stats.poisson_log_minus_max(n, x)\n",
    "    axis.plot(x, y, \"k\")\n",
    "    \n",
    "    # likelihood interval (yes e**-3 != 0.05, but it's close enough)\n",
    "    lo, hi = lebesgue.likelihood.poisson(n).interval(numpy.exp(-3))\n",
    "    three = axis.axvline(lo, color=\"xkcd:blue\")\n",
    "    axis.axvline(hi, color=\"xkcd:blue\")\n",
    "    \n",
    "    # another at -2\n",
    "    lo, hi = lebesgue.likelihood.poisson(n).interval(numpy.exp(-2))\n",
    "    two = axis.axvline(lo, ls=\":\", color=\"xkcd:blue\")\n",
    "    axis.axvline(hi, ls=\":\", color=\"xkcd:blue\")\n",
    "    \n",
    "    # Feldman-Cousins (constrained maximum likelihood ratio test statistic)\n",
    "    lo, hi = feldman_cousins_poisson_95(n)\n",
    "    feldman_cousins, = axis.plot([lo, hi], [-5] * 2, \"xkcd:red\")\n",
    "    \n",
    "    # Posterior with improper uniform prior\n",
    "    lo, hi = poisson_uniform_prior_central_interval(n, level)\n",
    "    print(lo, hi)\n",
    "    credible_interval, = axis.plot([lo, hi], [-6] * 2, \"xkcd:barney purple\")\n",
    "    \n",
    "    axis.text(\n",
    "        0.98,\n",
    "        0.98,\n",
    "        r\"$n=%d$\" % n,\n",
    "        horizontalalignment=\"right\",\n",
    "        verticalalignment=\"top\",\n",
    "        transform=axis.transAxes,\n",
    "    )\n",
    "    \n",
    "    axis.set_ylim(-8, 0.5)\n",
    "#     axis.set_xlim(0, xhi * 2)\n",
    "    axis.set_xlabel(r\"$\\mu$\")\n",
    "    axis.set_ylabel(r\"$\\log L(\\mu) - \\log L(\\check{\\mu})$\")\n",
    "    \n",
    "#     axis.legend(\n",
    "#         [two, three, feldman_cousins, credible_interval],\n",
    "#         [r\"$\\log R = -2$\", r\"$\\log R = -3$\", \"Feldman-Cousins\", \"Credible Interval\"],\n",
    "#         frameon=False,\n",
    "#         loc=\"upper right\",\n",
    "#     )\n",
    "    \n",
    "    figure.savefig(\"intervals_%d.png\" % n)\n",
    "    pyplot.show()\n",
    "    pyplot.close(figure)\n",
    "    \n",
    "plot_poisson_interval(0)\n",
    "plot_poisson_interval(10)"
   ]
  },
  {
   "cell_type": "code",
   "execution_count": null,
   "id": "038982df",
   "metadata": {},
   "outputs": [],
   "source": [
    "# green yellow orange red tasty colours yo"
   ]
  },
  {
   "cell_type": "code",
   "execution_count": null,
   "id": "80fac7be",
   "metadata": {},
   "outputs": [],
   "source": []
  }
 ],
 "metadata": {
  "kernelspec": {
   "display_name": "Python 3 (ipykernel)",
   "language": "python",
   "name": "python3"
  },
  "language_info": {
   "codemirror_mode": {
    "name": "ipython",
    "version": 3
   },
   "file_extension": ".py",
   "mimetype": "text/x-python",
   "name": "python",
   "nbconvert_exporter": "python",
   "pygments_lexer": "ipython3",
   "version": "3.10.4"
  }
 },
 "nbformat": 4,
 "nbformat_minor": 5
}
