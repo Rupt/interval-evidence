{
 "cells": [
  {
   "cell_type": "code",
   "execution_count": 1,
   "id": "2593ff95",
   "metadata": {},
   "outputs": [],
   "source": [
    "import weakref\n",
    "import functools\n",
    "\n",
    "import cabinetry\n",
    "import jax\n",
    "import numpy\n",
    "import scipy\n",
    "import scipy.special\n",
    "from tensorflow_probability.substrates import jax as tfp\n",
    "\n",
    "from matplotlib import pyplot\n",
    "\n",
    "from pyhf_stuff import blind, region"
   ]
  },
  {
   "cell_type": "code",
   "execution_count": 2,
   "id": "15718544",
   "metadata": {},
   "outputs": [],
   "source": [
    "\n",
    "# region functions\n",
    "\n",
    "# cache to avoid recompilation, weakref to clean up if the region object no\n",
    "# longer exists elsewhere\n",
    "# TODO make this a lazy property on region object\n",
    "_region_functions_cache = weakref.WeakKeyDictionary()\n",
    "\n",
    "\n",
    "def region_state(region):\n",
    "    if region in _region_functions_cache:\n",
    "        return _region_functions_cache[region]\n",
    "\n",
    "    result = RegionState(region)\n",
    "    _region_functions_cache[region] = result\n",
    "    return result\n",
    "\n",
    "\n",
    "class RegionState:\n",
    "    \"\"\"Parameters and jax-jitted functions for a region.\"\"\"\n",
    "\n",
    "    def __init__(self, region):\n",
    "        model = region.workspace.model()\n",
    "        data = region.workspace.data(model)\n",
    "        model_blind = blind.Model(model, {region.signal_region_name})\n",
    "\n",
    "        # parameters\n",
    "        self.init = numpy.array(model.config.suggested_init())\n",
    "        self.bounds = numpy.array(model.config.suggested_bounds())\n",
    "\n",
    "        def logpdf(x):\n",
    "            (logpdf,) = model_blind.logpdf(x, data)\n",
    "            return logpdf\n",
    "\n",
    "        self.logpdf = logpdf\n",
    "\n",
    "        # \"logpdf\" minimization objective\n",
    "        @jax.value_and_grad\n",
    "        def objective_value_and_grad(x):\n",
    "            return -logpdf(x)\n",
    "\n",
    "        def objective_value(x):\n",
    "            value, _ = objective_value_and_grad(x)\n",
    "            return value\n",
    "\n",
    "        def objective_grad(x):\n",
    "            _, grad = objective_value_and_grad(x)\n",
    "            return grad\n",
    "\n",
    "        def objective_hess_inv(x):\n",
    "            return jax.numpy.linalg.inv(jax.hessian(objective_value)(x))\n",
    "\n",
    "        # signal region yield\n",
    "        slice_ = model.config.channel_slices[region.signal_region_name]\n",
    "\n",
    "        @jax.value_and_grad\n",
    "        def yield_value_and_grad(x):\n",
    "            (result,) = model.expected_actualdata(x)[slice_]\n",
    "            return result\n",
    "\n",
    "        def yield_value(x):\n",
    "            value, _ = yield_value_and_grad(x)\n",
    "            return value\n",
    "\n",
    "        def yield_grad(x):\n",
    "            _, grad = yield_value_and_grad(x)\n",
    "            return grad\n",
    "\n",
    "        self.objective_value_and_grad = jax.jit(objective_value_and_grad)\n",
    "        self.objective_value = jax.jit(objective_value)\n",
    "        self.objective_grad = jax.jit(objective_grad)\n",
    "        self.objective_hess_inv = jax.jit(objective_hess_inv)\n",
    "\n",
    "        self.yield_value_and_grad = jax.jit(yield_value_and_grad)\n",
    "        self.yield_value = jax.jit(yield_value)\n",
    "        self.yield_grad = jax.jit(yield_grad)\n",
    "\n",
    "\n",
    "# utilities\n",
    "\n",
    "\n",
    "def filename(func):\n",
    "    return func.__name__ + \".json\"\n"
   ]
  },
  {
   "cell_type": "code",
   "execution_count": 3,
   "id": "9aaf9e24",
   "metadata": {},
   "outputs": [],
   "source": [
    "REGION = region.load(\"/home/tombs/Cambridge/interval-evidence/searches/ins1852821/SR0bvetotight\")"
   ]
  },
  {
   "cell_type": "code",
   "execution_count": 4,
   "id": "8e6ec7d5",
   "metadata": {},
   "outputs": [],
   "source": [
    "def logmeanexp(a):\n",
    "    return scipy.special.logsumexp(a) - numpy.log(len(a))\n",
    "\n",
    "def p_accept(log_accept_ratio):\n",
    "    return numpy.exp(logmeanexp(numpy.minimum(log_accept_ratio, 0)))\n"
   ]
  },
  {
   "cell_type": "code",
   "execution_count": 5,
   "id": "30d65fe9",
   "metadata": {},
   "outputs": [
    {
     "name": "stdout",
     "output_type": "stream",
     "text": [
      "-0.0\n",
      "-inf\n"
     ]
    }
   ],
   "source": [
    "def and_minus_infinity(test: bool, *, dtype=float):\n",
    "    # float cast suppresses warnings\n",
    "    big_negative = float(numpy.finfo(dtype).min)\n",
    "    return big_negative * test * 2\n",
    "\n",
    "\n",
    "def boundary(x, bounds):\n",
    "    in_bounds = (\n",
    "        (x >= bounds[:, 0]) \n",
    "        & (x <= bounds[:, 1])\n",
    "    ).all()\n",
    "    return and_minus_infinity(~in_bounds, dtype=x.dtype)\n",
    "\n",
    "print(and_minus_infinity(False))\n",
    "print(and_minus_infinity(True))"
   ]
  },
  {
   "cell_type": "code",
   "execution_count": 6,
   "id": "63df2ae2",
   "metadata": {},
   "outputs": [],
   "source": [
    "def jax_histogram(x, bins, range_, *, dtype=jax.numpy.int32):\n",
    "    # linearly find bin index\n",
    "    lo, hi = range_\n",
    "    bin_per_x = bins / (hi - lo)\n",
    "    i_float = jax.numpy.floor((x - lo) * bin_per_x)\n",
    "    i_clip = jax.numpy.clip(i_float, 0, bins - 1)\n",
    "    \n",
    "    # cast to integer for indexing\n",
    "    index_type = jax.numpy.uint32\n",
    "    assert bins <= jax.numpy.iinfo(index_type).max\n",
    "    i = i_clip.astype(index_type)\n",
    "    \n",
    "    # histogramming; only add where in bounds (no under/overflow)\n",
    "    hist = jax.numpy.zeros(bins, dtype=dtype)\n",
    "    return hist.at[i].add(i_float == i_clip)"
   ]
  },
  {
   "cell_type": "code",
   "execution_count": 275,
   "id": "6d1a348f",
   "metadata": {},
   "outputs": [
    {
     "name": "stdout",
     "output_type": "stream",
     "text": [
      "8.76575387660838\n"
     ]
    }
   ],
   "source": [
    "def n_by_variance(x, axis=0):\n",
    "    # estimate the equivalent number of independent samples,\n",
    "    # distributed as y +- sqrt(y), which would generate the\n",
    "    # precision of repeats in x\n",
    "    var = numpy.var(x, axis=axis)\n",
    "    mean = numpy.mean(x, axis=axis)\n",
    "    return mean ** 2 / numpy.maximum(var, mean)\n",
    "\n",
    "import scipy.stats\n",
    "print(n_by_variance(scipy.stats.poisson.rvs(10, size=100) * 100))"
   ]
  },
  {
   "cell_type": "code",
   "execution_count": 182,
   "id": "735ed14b",
   "metadata": {},
   "outputs": [],
   "source": [
    "def sample_hists(\n",
    "    kernel,\n",
    "    observable,\n",
    "    n_repeats,\n",
    "    seed,\n",
    "    *,\n",
    "    init,\n",
    "    bins,\n",
    "    range_, \n",
    "    num_results,\n",
    "    num_burnin_steps=0,\n",
    "    num_steps_between_results=0,\n",
    "):\n",
    "    def chain(key, chain_state):\n",
    "        _, yields = tfp.mcmc.sample_chain(\n",
    "            kernel=kernel,\n",
    "            trace_fn=lambda t, _: observable(t),\n",
    "            current_state=chain_state,\n",
    "            num_results=num_results,\n",
    "            num_burnin_steps=num_burnin_steps,\n",
    "            num_steps_between_results=num_steps_between_results,\n",
    "            seed=key,\n",
    "        )\n",
    "        return jax_histogram(yields, bins, range_)\n",
    "    \n",
    "    keys = jax.random.split(jax.random.PRNGKey(seed), n_repeats)\n",
    "    vchain = jax.jit(jax.vmap(chain, in_axes=(0, None)))\n",
    "    return vchain(keys, init)"
   ]
  },
  {
   "cell_type": "code",
   "execution_count": 55,
   "id": "7940d497",
   "metadata": {},
   "outputs": [],
   "source": [
    "def eye_coveriance_transform(mean, cov):\n",
    "    # want x(t) such that:\n",
    "    #     (x - m).T @ C^-1 @ (x - m) = t @ t    (1)\n",
    "    # cholesky decompose:\n",
    "    #     C = A @ A.T, C^-1 = A.T^-1 @ A^-1\n",
    "    # if x - m = A @ t, then\n",
    "    # (1) = t.T @ A.T @ A.T^-1 @ A^-1 @ A @ t = t @ t :)\n",
    "    # x = A @ t + m <=> t = A^-1 @ (x - m)    \n",
    "    chol = jax.numpy.linalg.cholesky(cov)\n",
    "    inv_chol = jax.numpy.linalg.inv(chol)\n",
    "    \n",
    "    def x_of_t(t):\n",
    "        return chol @ t + mean\n",
    "\n",
    "    def t_of_x(x):\n",
    "        return inv_chol @ (x - mean)\n",
    "    \n",
    "    return x_of_t, t_of_x"
   ]
  },
  {
   "cell_type": "code",
   "execution_count": 56,
   "id": "ef98f997",
   "metadata": {
    "scrolled": false
   },
   "outputs": [],
   "source": [
    "def mcmc_generic(\n",
    "    kernel_func,\n",
    "    region,\n",
    "    bins,\n",
    "    range_,\n",
    "    *, \n",
    "    nsamples=100, \n",
    "    nrepeats=100,\n",
    "    step_size=1e-3, \n",
    "    burnin=500,\n",
    "    thin=0,\n",
    "    seed=0, \n",
    "):\n",
    "    state = region_state(region)\n",
    "\n",
    "    optimum = scipy.optimize.minimize(\n",
    "        state.objective_value_and_grad,\n",
    "        state.init,\n",
    "        bounds=state.bounds,\n",
    "        jac=True,\n",
    "        method=\"L-BFGS-B\",\n",
    "    )\n",
    "\n",
    "    cov = state.objective_hess_inv(optimum.x)\n",
    "    \n",
    "    x_of_t, t_of_x = eye_coveriance_transform(optimum.x, cov)\n",
    "    \n",
    "    init = jax.numpy.zeros_like(state.init)\n",
    "    \n",
    "    def logdf(t):\n",
    "        x = x_of_t(t)\n",
    "        return state.logpdf(x) + boundary(x, state.bounds)\n",
    "    \n",
    "    def observable(t):\n",
    "        return state.yield_value(x_of_t(t))\n",
    "    \n",
    "    # mcmc chain sapling\n",
    "    def chain(key, chain_state):\n",
    "        _, yields = tfp.mcmc.sample_chain(\n",
    "            kernel=kernel_func(logdf),\n",
    "            trace_fn=lambda t, _: observable(t),\n",
    "            current_state=chain_state,\n",
    "            num_results=nsamples,\n",
    "            num_burnin_steps=burnin,\n",
    "            num_steps_between_results=thin,\n",
    "            seed=key,\n",
    "        )\n",
    "        return jax_histogram(yields, bins, range_)\n",
    "    \n",
    "    keys = jax.random.split(jax.random.PRNGKey(seed), nrepeats)\n",
    "    vchain = jax.jit(jax.vmap(chain, in_axes=(0, None)))\n",
    "    \n",
    "    yields = numpy.array(vchain(keys, init))\n",
    "    \n",
    "    # plotting TODO remove\n",
    "    bin_edges = numpy.linspace(*range_, bins + 1)\n",
    "    \n",
    "    for i in range(nrepeats)[:5]:\n",
    "        pyplot.hist(\n",
    "            bin_edges[:-1], weights=yields[i], bins=bins, range=range_, histtype=\"step\")\n",
    "    \n",
    "    print(nsamples, n_by_variance(yields).sum(), \n",
    "          n_by_variance(yields).sum() / nsamples)\n",
    "    \n",
    "    pyplot.show()\n",
    "    \n",
    "    # pack return info TODO\n"
   ]
  },
  {
   "cell_type": "code",
   "execution_count": 57,
   "id": "e38ac4c5",
   "metadata": {},
   "outputs": [
    {
     "name": "stdout",
     "output_type": "stream",
     "text": [
      "20000 7049.445529403581 0.35247227647017904\n"
     ]
    },
    {
     "data": {
      "image/png": "[encoded data removed]",
      "text/plain": [
       "<Figure size 432x288 with 1 Axes>"
      ]
     },
     "metadata": {
      "needs_background": "light"
     },
     "output_type": "display_data"
    },
    {
     "name": "stdout",
     "output_type": "stream",
     "text": [
      "CPU times: user 1min 17s, sys: 7.75 s, total: 1min 25s\n",
      "Wall time: 31.6 s\n"
     ]
    }
   ],
   "source": [
    "def mcmc_mala():\n",
    "    step_size = 0.5\n",
    "    \n",
    "    # TODO understand relationship with HMC\n",
    "    def kernel_func(logdf):\n",
    "        return tfp.mcmc.MetropolisAdjustedLangevinAlgorithm(\n",
    "            logdf,\n",
    "            step_size,\n",
    "        )\n",
    "    \n",
    "    mcmc_generic(\n",
    "        kernel_func,\n",
    "        REGION, \n",
    "        20, \n",
    "        (0., 20.), \n",
    "        nsamples=20_000,\n",
    "        nrepeats=12,\n",
    "        burnin=500, \n",
    "    )\n",
    "    \n",
    "%time mcmc_mala()"
   ]
  },
  {
   "cell_type": "code",
   "execution_count": 12,
   "id": "a80b2a10",
   "metadata": {},
   "outputs": [
    {
     "name": "stdout",
     "output_type": "stream",
     "text": [
      "20000 28569.72024542662 1.428486012271331\n"
     ]
    },
    {
     "data": {
      "image/png": "[encoded data removed]",
      "text/plain": [
       "<Figure size 432x288 with 1 Axes>"
      ]
     },
     "metadata": {
      "needs_background": "light"
     },
     "output_type": "display_data"
    },
    {
     "name": "stdout",
     "output_type": "stream",
     "text": [
      "CPU times: user 5min 45s, sys: 26.4 s, total: 6min 12s\n",
      "Wall time: 2min 38s\n"
     ]
    }
   ],
   "source": [
    "def mcmc_nuts():\n",
    "    step_size = 0.5\n",
    "    \n",
    "    def kernel_func(logdf):\n",
    "        return tfp.mcmc.NoUTurnSampler(\n",
    "            logdf,\n",
    "            step_size,\n",
    "        )\n",
    "    \n",
    "    mcmc_generic(\n",
    "        kernel_func,\n",
    "        REGION, \n",
    "        20, \n",
    "        (0., 20.), \n",
    "        nsamples=20_000,\n",
    "        nrepeats=12,\n",
    "        burnin=500, \n",
    "    )\n",
    "    \n",
    "%time mcmc_nuts()"
   ]
  },
  {
   "cell_type": "code",
   "execution_count": 19,
   "id": "aae7e7d4",
   "metadata": {},
   "outputs": [
    {
     "name": "stdout",
     "output_type": "stream",
     "text": [
      "20000 12250.990374162582 0.6125495187081291\n"
     ]
    },
    {
     "data": {
      "image/png": "[encoded data removed]",
      "text/plain": [
       "<Figure size 432x288 with 1 Axes>"
      ]
     },
     "metadata": {
      "needs_background": "light"
     },
     "output_type": "display_data"
    },
    {
     "name": "stdout",
     "output_type": "stream",
     "text": [
      "CPU times: user 2min 3s, sys: 11.6 s, total: 2min 14s\n",
      "Wall time: 53.5 s\n"
     ]
    }
   ],
   "source": [
    "def mcmc_ham():\n",
    "    step_size = 0.5\n",
    "    num_leapfrog_steps = 2\n",
    "    \n",
    "    def kernel_func(logdf):\n",
    "        return tfp.mcmc.HamiltonianMonteCarlo(\n",
    "            logdf,\n",
    "            step_size,\n",
    "            num_leapfrog_steps,\n",
    "        )\n",
    "    \n",
    "    mcmc_generic(\n",
    "        kernel_func,\n",
    "        REGION, \n",
    "        20, \n",
    "        (0., 20.), \n",
    "        nsamples=20_000,\n",
    "        nrepeats=12,\n",
    "        burnin=500, \n",
    "    )\n",
    "    \n",
    "%time mcmc_ham()"
   ]
  },
  {
   "cell_type": "code",
   "execution_count": 14,
   "id": "f3d98529",
   "metadata": {},
   "outputs": [
    {
     "name": "stdout",
     "output_type": "stream",
     "text": [
      "200000 4302.313722959345 0.021511568614796726\n"
     ]
    },
    {
     "data": {
      "image/png": "[encoded data removed]",
      "text/plain": [
       "<Figure size 432x288 with 1 Axes>"
      ]
     },
     "metadata": {
      "needs_background": "light"
     },
     "output_type": "display_data"
    },
    {
     "name": "stdout",
     "output_type": "stream",
     "text": [
      "CPU times: user 3min 56s, sys: 29.2 s, total: 4min 26s\n",
      "Wall time: 1min 32s\n"
     ]
    }
   ],
   "source": [
    "def mcmc_walk():\n",
    "    step_size = 0.2\n",
    "    \n",
    "    def kernel_func(logdf):\n",
    "        return tfp.mcmc.RandomWalkMetropolis(\n",
    "            logdf,\n",
    "            new_state_fn=tfp.mcmc.random_walk_normal_fn(scale=step_size),\n",
    "        )\n",
    "    \n",
    "    mcmc_generic(\n",
    "        kernel_func,\n",
    "        REGION, \n",
    "        20, \n",
    "        (0., 20.), \n",
    "        nsamples=200_000,\n",
    "        nrepeats=12,\n",
    "        burnin=500, \n",
    "    )\n",
    "    \n",
    "%time mcmc_walk()"
   ]
  },
  {
   "cell_type": "code",
   "execution_count": null,
   "id": "ddd592ad",
   "metadata": {},
   "outputs": [],
   "source": []
  }
 ],
 "metadata": {
  "kernelspec": {
   "display_name": "Python 3 (ipykernel)",
   "language": "python",
   "name": "python3"
  },
  "language_info": {
   "codemirror_mode": {
    "name": "ipython",
    "version": 3
   },
   "file_extension": ".py",
   "mimetype": "text/x-python",
   "name": "python",
   "nbconvert_exporter": "python",
   "pygments_lexer": "ipython3",
   "version": "3.10.4"
  }
 },
 "nbformat": 4,
 "nbformat_minor": 5
}
