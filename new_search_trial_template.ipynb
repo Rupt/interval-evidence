{
 "cells": [
  {
   "cell_type": "markdown",
   "id": "fac5d43f",
   "metadata": {},
   "source": [
    "# Fast initial tests to check good ranges and behaviours\n",
    "# with printout and visuals"
   ]
  },
  {
   "cell_type": "code",
   "execution_count": null,
   "id": "e89b5128",
   "metadata": {},
   "outputs": [],
   "source": [
    "import os\n",
    "from functools import partial\n",
    "\n",
    "import numpy\n",
    "import scipy\n",
    "from matplotlib import pyplot\n",
    "\n",
    "import os\n",
    "\n",
    "import pyhf\n",
    "import cabinetry\n",
    "\n",
    "from pyhf_stuff import (\n",
    "    fit_cabinetry,\n",
    "    fit_cabinetry_post,\n",
    "    fit_linspace,\n",
    "    fit_normal,\n",
    "    fit_signal,\n",
    "    region,\n",
    "    serial,\n",
    "    blind,\n",
    "    fit_mcmc_mix,\n",
    "    mcmc_core,\n",
    ")\n",
    "\n",
    "from pyhf_stuff.region_properties import region_properties\n",
    "from pyhf_stuff.region_fit import region_fit"
   ]
  },
  {
   "cell_type": "code",
   "execution_count": null,
   "id": "1b326332",
   "metadata": {},
   "outputs": [],
   "source": [
    "# fill me in\n",
    "BASEPATH = \"/home/tombs/Cambridge/interval-evidence/searches/ins1839446/\""
   ]
  },
  {
   "cell_type": "markdown",
   "id": "fcaefd88",
   "metadata": {},
   "source": [
    "# fits"
   ]
  },
  {
   "cell_type": "code",
   "execution_count": null,
   "id": "24bdf39f",
   "metadata": {
    "scrolled": false
   },
   "outputs": [],
   "source": [
    "def main():\n",
    "    region_name_to_scan = {\n",
    "        \"SR2JBVEM_meffInc30_gluino\": (5, 40),\n",
    "        \"SR2JBVEM_meffInc30_squark\": (40, 160),\n",
    "        \"SR4JhighxBVEM_meffInc30\": (0, 30),\n",
    "        \"SR4JlowxBVEM_meffInc30\": (0, 30),\n",
    "        \"SR6JBVEM_meffInc30_gluino\": (0, 12),\n",
    "        \"SR6JBVEM_meffInc30_squark\": (0, 12),\n",
    "    }\n",
    "\n",
    "    for name, (lo, hi) in region_name_to_scan.items():\n",
    "        print(name)\n",
    "        test(name, lo, hi)\n",
    "\n",
    "\n",
    "def test(name, lo, hi, nbins=10):\n",
    "    dir_region = os.path.join(BASEPATH, name)\n",
    "    region_1 = region.Region.load(dir_region)\n",
    "\n",
    "    dir_fit = os.path.join(dir_region, \"fit\")\n",
    "\n",
    "    # cabinetry\n",
    "    cab = fit_cabinetry.fit(region_1)\n",
    "    print(cab)\n",
    "    cab_post = fit_cabinetry_post.fit(region_1)\n",
    "    print(cab_post)\n",
    "    \n",
    "    # normal\n",
    "    norm = fit_normal.fit(region_1)\n",
    "    print(norm)\n",
    "    \n",
    "    # linspace\n",
    "    linspace = fit_linspace.fit(region_1, lo, hi, nbins + 1)\n",
    "    print(linspace)\n",
    "        \n",
    "    levels = numpy.array(linspace.levels) - region_fit(region_1).fun\n",
    "    \n",
    "    x = numpy.linspace(linspace.start, linspace.stop, len(levels))\n",
    "    pyplot.plot(x, -levels, \"k\")\n",
    "    pyplot.ylim(-8, 0)\n",
    "    pyplot.show()\n",
    "\n",
    "    \n",
    "main()"
   ]
  },
  {
   "cell_type": "markdown",
   "id": "bffb36dd",
   "metadata": {},
   "source": [
    "# mcmc"
   ]
  },
  {
   "cell_type": "code",
   "execution_count": null,
   "id": "b56d0344",
   "metadata": {
    "scrolled": false
   },
   "outputs": [],
   "source": [
    "\n",
    "def main():\n",
    "    region_name_to_scan = {\n",
    "        \"SR2JBVEM_meffInc30_gluino\": (5, 40),\n",
    "        \"SR2JBVEM_meffInc30_squark\": (40, 160),\n",
    "        \"SR4JhighxBVEM_meffInc30\": (0, 30),\n",
    "        \"SR4JlowxBVEM_meffInc30\": (0, 30),\n",
    "        \"SR6JBVEM_meffInc30_gluino\": (0, 12),\n",
    "        \"SR6JBVEM_meffInc30_squark\": (0, 12),\n",
    "    }\n",
    "\n",
    "    for name, (lo, hi) in region_name_to_scan.items():\n",
    "        print(name)\n",
    "        dump_region(name, lo, hi)\n",
    "\n",
    "\n",
    "def dump_region(name, lo, hi, nbins=50):\n",
    "    dir_region = os.path.join(BASEPATH, name)\n",
    "    region_1 = region.Region.load(dir_region)\n",
    "\n",
    "    dir_fit = os.path.join(dir_region, \"fit\")\n",
    "\n",
    "    mix = fit_mcmc_mix.fit(\n",
    "        region_1,\n",
    "        nbins,\n",
    "        (lo, hi),\n",
    "        seed=0,\n",
    "        nsamples=10_000,\n",
    "        nrepeats=8,\n",
    "        nprocesses=8,\n",
    "    )\n",
    "    # mix.dump(dir_fit)\n",
    "\n",
    "    neff = mcmc_core.n_by_fit(mix).sum()\n",
    "    nrepeats = mix.nrepeats\n",
    "    nsamples = mix.nsamples\n",
    "    total = numpy.sum(mix.yields)\n",
    "    print(\n",
    "        \"acceptance: %.2f (%d / %d)\"\n",
    "        % (total / (nrepeats * nsamples), total, nrepeats * nsamples)\n",
    "    )\n",
    "    print(\n",
    "        \"efficiency: %.2f (%.1f / %.1f)\"\n",
    "        % (nrepeats * neff / total, neff, total / nrepeats)\n",
    "    )\n",
    "    \n",
    "    x = numpy.linspace(*mix.range_, len(mix.yields) + 1)\n",
    "    y = numpy.array(mix.yields)\n",
    "    pyplot.hist(\n",
    "        x[:-1], \n",
    "        weights=y / y.max(), \n",
    "        range=mix.range_, \n",
    "        bins=len(x) - 1,\n",
    "        histtype=\"step\",\n",
    "        color=\"r\",\n",
    "        lw=2,\n",
    "    )\n",
    "    \n",
    "    pyplot.show()\n",
    "\n",
    "main()"
   ]
  },
  {
   "cell_type": "markdown",
   "id": "4aa50b1e",
   "metadata": {},
   "source": [
    "# signal scan"
   ]
  },
  {
   "cell_type": "code",
   "execution_count": null,
   "id": "d6624170",
   "metadata": {
    "scrolled": false
   },
   "outputs": [],
   "source": [
    "def main():\n",
    "    region_name_to_scan = {\n",
    "        \"SR2JBVEM_meffInc30_gluino\": (0, 35),\n",
    "        \"SR2JBVEM_meffInc30_squark\": (0, 80),\n",
    "        \"SR4JhighxBVEM_meffInc30\": (0, 25),\n",
    "        \"SR4JlowxBVEM_meffInc30\": (0, 20),\n",
    "        \"SR6JBVEM_meffInc30_gluino\": (0, 12),\n",
    "        \"SR6JBVEM_meffInc30_squark\": (0, 15),\n",
    "    }\n",
    "\n",
    "    for name, (lo, hi) in region_name_to_scan.items():\n",
    "        print(name)\n",
    "        dump_region(name, lo, hi)\n",
    "\n",
    "\n",
    "def dump_region(name, lo, hi, nbins=10):\n",
    "    dir_region = os.path.join(BASEPATH, name)\n",
    "    region_1 = region.Region.load(dir_region)\n",
    "\n",
    "    dir_fit = os.path.join(dir_region, \"fit\")\n",
    "\n",
    "    sig = fit_signal.fit(region_1, lo, hi, nbins + 1)\n",
    "    print(sig)\n",
    "    \n",
    "    levels = numpy.array(sig.levels)\n",
    "    levels -= levels.min()\n",
    "    \n",
    "    x = numpy.linspace(sig.start, sig.stop, len(levels))\n",
    "    pyplot.plot(x, levels, \"k\")\n",
    "    pyplot.ylim(0, 8)\n",
    "    pyplot.show()\n",
    "    \n",
    "main()"
   ]
  }
 ],
 "metadata": {
  "kernelspec": {
   "display_name": "Python 3 (ipykernel)",
   "language": "python",
   "name": "python3"
  },
  "language_info": {
   "codemirror_mode": {
    "name": "ipython",
    "version": 3
   },
   "file_extension": ".py",
   "mimetype": "text/x-python",
   "name": "python",
   "nbconvert_exporter": "python",
   "pygments_lexer": "ipython3",
   "version": "3.10.4"
  }
 },
 "nbformat": 4,
 "nbformat_minor": 5
}
