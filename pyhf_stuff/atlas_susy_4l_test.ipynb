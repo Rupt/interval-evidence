{
 "cells": [
  {
   "cell_type": "code",
   "execution_count": 2,
   "id": "29156c57",
   "metadata": {},
   "outputs": [],
   "source": [
    "import json\n",
    "import copy\n",
    "\n",
    "import numpy\n",
    "import matplotlib\n",
    "from matplotlib import pyplot\n",
    "import pyhf\n",
    "\n",
    "import blind\n",
    "import jsongz"
   ]
  },
  {
   "cell_type": "code",
   "execution_count": 3,
   "id": "e3b9aa8f",
   "metadata": {},
   "outputs": [],
   "source": [
    "import jax\n",
    "import scipy.optimize\n",
    "\n",
    "jax.config.update(\"jax_platform_name\", \"cpu\")\n",
    "jax.config.update(\"jax_enable_x64\", True)\n",
    "pyhf.set_backend(\"jax\")"
   ]
  },
  {
   "cell_type": "code",
   "execution_count": 4,
   "id": "a8428db8",
   "metadata": {},
   "outputs": [],
   "source": [
    "SPEC = jsongz.load(\"ins1852821_bkg.json.gz\")\n",
    "# SPEC = jsongz.load(\"ins1852821_signal.json.gz\")"
   ]
  },
  {
   "cell_type": "code",
   "execution_count": 5,
   "id": "8e30d3e4",
   "metadata": {},
   "outputs": [
    {
     "data": {
      "text/plain": [
       "['SR0bvetoloose_cuts',\n",
       " 'SR0bvetotight_cuts',\n",
       " 'SR0breq_cuts',\n",
       " 'SR1bvetoloose_cuts',\n",
       " 'SR1bvetotight_cuts',\n",
       " 'SR1breq_cuts',\n",
       " 'SR2bvetoloose_cuts',\n",
       " 'SR2bvetotight_cuts',\n",
       " 'SR2breq_cuts',\n",
       " 'SR0ZZloose_cuts',\n",
       " 'SR0ZZtight_cuts',\n",
       " 'SR0ZZbvetoloose_cuts',\n",
       " 'SR0ZZbvetotight_cuts',\n",
       " 'SR5L_cuts',\n",
       " 'CRZZ_cuts',\n",
       " 'CRttZ_cuts']"
      ]
     },
     "execution_count": 5,
     "metadata": {},
     "output_type": "execute_result"
    }
   ],
   "source": [
    "[channel[\"name\"] for channel in SPEC[\"channels\"]]"
   ]
  },
  {
   "cell_type": "code",
   "execution_count": 6,
   "id": "36fe487c",
   "metadata": {},
   "outputs": [],
   "source": [
    "SR_NAME = \"SR0bvetotight_cuts\"\n",
    "# SR_NAME = \"SR0ZZloose_cuts\"\n",
    "# SR_NAME = \"SR0ZZtight_cuts\"\n",
    "# SR_NAME = \"SR0ZZbvetotight_cuts\"\n",
    "# atlas_susy_4l presents yields without SR constraints\n",
    "# (sensibly, but violating ATLAS SUSY policy)"
   ]
  },
  {
   "cell_type": "code",
   "execution_count": 7,
   "id": "1a7d7475",
   "metadata": {},
   "outputs": [],
   "source": [
    "CHANNEL_NAMES = {\n",
    "    SR_NAME,\n",
    "    \"CRZZ_cuts\",\n",
    "    \"CRttZ_cuts\",\n",
    "}"
   ]
  },
  {
   "cell_type": "code",
   "execution_count": 8,
   "id": "12d15413",
   "metadata": {},
   "outputs": [],
   "source": [
    "POI_NAME = \"mu_ZZ\""
   ]
  },
  {
   "cell_type": "code",
   "execution_count": 9,
   "id": "30d0d7f7",
   "metadata": {},
   "outputs": [],
   "source": [
    "def get_named(seq, name):\n",
    "    for item in seq:\n",
    "        if item[\"name\"] == name:\n",
    "            return item\n",
    "    raise KeyError(name)"
   ]
  },
  {
   "cell_type": "code",
   "execution_count": 10,
   "id": "3efd0bc6",
   "metadata": {},
   "outputs": [],
   "source": [
    "def fix_poi(spec, poi_name):\n",
    "    for measurement in spec[\"measurements\"]:\n",
    "        measurement[\"config\"][\"poi\"] = poi_name\n",
    "    return spec"
   ]
  },
  {
   "cell_type": "code",
   "execution_count": 11,
   "id": "80ffa3fe",
   "metadata": {},
   "outputs": [],
   "source": [
    "def make_model_and_data(spec, poi_name, channel_names):\n",
    "    spec = copy.deepcopy(spec)\n",
    "    spec = fix_poi(spec, poi_name)\n",
    "    \n",
    "    workspace = pyhf.workspace.Workspace(spec)\n",
    "    \n",
    "    channels_prune = workspace.channel_slices.keys() - channel_names\n",
    "    \n",
    "    workspace_pruned = workspace.prune(channels=channels_prune)\n",
    "    \n",
    "    model = workspace_pruned.model()\n",
    "    data = numpy.array(workspace_pruned.data(model))\n",
    "    return model, data\n",
    "\n",
    "\n",
    "MODEL, DATA = make_model_and_data(SPEC, POI_NAME, CHANNEL_NAMES)"
   ]
  },
  {
   "cell_type": "code",
   "execution_count": 12,
   "id": "d11ecf60",
   "metadata": {},
   "outputs": [
    {
     "name": "stdout",
     "output_type": "stream",
     "text": [
      "[-105.12972977]\n",
      "[-105.12972977]\n",
      "[-102.92482288]\n",
      "[3.4405334] [1.]\n",
      "[-2.20490689]\n",
      "[-105.12972977]\n"
     ]
    }
   ],
   "source": [
    "def test_logpdf(model, data, signal_channel_name):\n",
    "    parameters = numpy.array(model.config.suggested_init())\n",
    "    \n",
    "    print(model.logpdf(parameters, data))\n",
    "    \n",
    "    print(blind.model_logpdf_blind(model, parameters, data, []))\n",
    "    \n",
    "    logf = blind.model_logpdf_blind(model, parameters, data, {signal_channel_name})\n",
    "    print(logf)\n",
    "\n",
    "    slice_ = model.config.channel_slices[signal_channel_name]\n",
    "    expected_data = model.expected_actualdata(parameters)\n",
    "    mu = expected_data[slice_]\n",
    "    nobs = data[slice_]\n",
    "    print(mu, nobs)\n",
    "\n",
    "    loglikelihood = pyhf.probability.Poisson(mu).log_prob(numpy.array(nobs))\n",
    "    print(loglikelihood)\n",
    "    print(logf + loglikelihood)\n",
    "\n",
    "\n",
    "test_logpdf(MODEL, DATA, SR_NAME)"
   ]
  },
  {
   "cell_type": "code",
   "execution_count": 13,
   "id": "c7f8f9ac",
   "metadata": {},
   "outputs": [
    {
     "name": "stdout",
     "output_type": "stream",
     "text": [
      "1.0\n"
     ]
    }
   ],
   "source": [
    "def test_hess():\n",
    "    def f(x):\n",
    "        return 0.5 * x ** 2\n",
    "    \n",
    "    print(jax.hessian(f)(0.1))\n",
    "    \n",
    "test_hess()"
   ]
  },
  {
   "cell_type": "code",
   "execution_count": 14,
   "id": "0807ab62",
   "metadata": {},
   "outputs": [],
   "source": [
    "def inner_product(x, c):\n",
    "    return x.dot(c.dot(x))"
   ]
  },
  {
   "cell_type": "code",
   "execution_count": 15,
   "id": "d1e14429",
   "metadata": {},
   "outputs": [],
   "source": [
    "def d2fdx2(fminus, f, fplus, eps):\n",
    "    return ((fplus - f) - (f - fminus)) / eps ** 2"
   ]
  },
  {
   "cell_type": "code",
   "execution_count": 16,
   "id": "de862f11",
   "metadata": {
    "scrolled": false
   },
   "outputs": [
    {
     "name": "stdout",
     "output_type": "stream",
     "text": [
      "102.92482288151945\n",
      "      fun: 81.11213874931033\n",
      " hess_inv: <97x97 LbfgsInvHessProduct with dtype=float64>\n",
      "      jac: array([-8.06199735e-05,  0.00000000e+00,  3.60513446e-05,  1.11452627e-05,\n",
      "        2.47721983e-06,  1.26287857e-08,  4.46037909e-06,  4.87671090e-06,\n",
      "        1.85042315e-06, -6.16415034e-06, -7.54430803e-06, -7.61844803e-07,\n",
      "        3.23984221e-06, -5.49700657e-07, -4.00409926e-05,  7.45346476e-06,\n",
      "       -7.86024179e-06,  2.64390600e-05,  1.15490248e-08,  2.19536265e-08,\n",
      "       -9.02345921e-07,  3.14731884e-05, -2.08915263e-05,  1.91107278e-05,\n",
      "        6.51866824e-06,  6.29715233e-06,  1.49192810e-05,  4.18082743e-06,\n",
      "        4.02525061e-06,  1.73438880e-04,  0.00000000e+00, -1.84131697e-06,\n",
      "       -1.02526869e-06,  1.89476565e-05,  0.00000000e+00,  1.92849924e-06,\n",
      "        2.34091878e-06, -1.11505002e-05, -7.69893139e-06, -8.55111218e-06,\n",
      "        1.28019028e-05, -4.49301370e-06, -6.74958812e-06, -7.13257017e-06,\n",
      "        1.95789794e-05,  1.25212454e-07,  1.81276639e-07, -3.33588111e-07,\n",
      "       -6.54102290e-09,  1.87817688e-07,  9.25796801e-08,  2.39529540e-07,\n",
      "        6.60474526e-09, -3.07334793e-06, -6.70300993e-08, -1.25535114e-04,\n",
      "       -3.74540821e-04, -6.53772977e-05, -1.53793352e-04, -5.05701168e-08,\n",
      "       -3.24154481e-08,  2.13489260e-08, -1.17992964e-09, -2.47603377e-08,\n",
      "        3.59882601e-07, -3.24624662e-06, -9.20145509e-05,  2.22152484e-04,\n",
      "       -2.00931746e-04, -1.75662057e-04,  1.48795664e-04, -3.81857606e-04,\n",
      "       -2.44281890e-04,  4.53365402e-04, -1.86389058e-10, -1.65970029e-05,\n",
      "       -6.10765261e-05,  6.69206486e-05, -1.51145887e-05,  4.32951428e-05,\n",
      "        0.00000000e+00,  8.20557942e-03, -1.34185690e-08,  1.13036065e-09,\n",
      "       -2.22082830e-08,  1.95952471e-08, -2.23745842e-09,  1.05752878e-09,\n",
      "       -1.79799629e-10,  2.36010472e-08,  9.03398423e-06,  3.52560018e-04,\n",
      "        3.36122340e-03,  2.20511750e-07,  2.46258683e-05,  8.96383698e-05,\n",
      "        5.05294538e-05])\n",
      "  message: 'CONVERGENCE: REL_REDUCTION_OF_F_<=_FACTR*EPSMCH'\n",
      "     nfev: 71\n",
      "      nit: 61\n",
      "     njev: 71\n",
      "   status: 0\n",
      "  success: True\n",
      "        x: array([ 9.99999982e-01,  1.00000000e+00,  3.66857949e-05,  1.13564738e-05,\n",
      "        2.52489707e-06,  1.28631297e-08,  4.55719855e-06,  4.98616435e-06,\n",
      "        1.89571953e-06, -6.27304501e-06, -7.68016006e-06, -7.70778216e-07,\n",
      "        3.30367904e-06, -5.56158254e-07, -4.07817768e-05,  7.58326822e-06,\n",
      "       -8.01514085e-06,  2.69483049e-05,  1.17277934e-08,  2.30837395e-08,\n",
      "       -9.19164699e-07,  3.20570095e-05, -2.12786158e-05,  1.94648895e-05,\n",
      "        6.63942692e-06,  6.41385296e-06,  1.51952435e-05,  4.25813344e-06,\n",
      "        4.09943887e-06,  1.76654359e-04,  0.00000000e+00, -1.87543801e-06,\n",
      "       -1.04477263e-06,  1.92991305e-05,  0.00000000e+00,  1.96360418e-06,\n",
      "        2.43524218e-06, -1.13571723e-05, -7.78103764e-06, -8.98154970e-06,\n",
      "        1.30393525e-05, -4.57637947e-06, -6.87475884e-06, -7.26487808e-06,\n",
      "        1.99421811e-05,  1.27535938e-07,  1.84640491e-07, -3.39778291e-07,\n",
      "       -6.66239895e-09,  1.91302918e-07,  9.42909102e-08,  2.43354970e-07,\n",
      "        6.67325263e-09, -3.12768989e-06, -7.52183167e-08, -1.28117329e-04,\n",
      "       -3.82238110e-04, -6.67426385e-05, -1.56907311e-04, -5.12516315e-08,\n",
      "       -3.33537713e-08,  2.19677392e-08, -1.21127988e-09, -2.54752096e-08,\n",
      "        3.66331852e-07, -3.30616131e-06,  1.05910650e+00,  2.29680040e-04,\n",
      "       -2.07660398e-04, -1.81477008e-04,  1.60083564e-04, -3.53994673e-04,\n",
      "       -2.21016587e-04,  1.14756536e+00, -1.91341294e-10, -1.70343494e-05,\n",
      "       -6.27388524e-05,  6.79382570e-05, -1.57134103e-05,  4.40174538e-05,\n",
      "        1.00000000e+00,  1.00000003e+00, -1.39764867e-08,  1.16039387e-09,\n",
      "       -2.28519073e-08,  2.01634288e-08, -2.29690676e-09,  1.08562688e-09,\n",
      "       -1.84576789e-10,  2.42824484e-08,  9.15599294e-06,  1.00001242e+00,\n",
      "        1.00000049e+00,  2.24603616e-07,  2.50805901e-05,  9.12931515e-05,\n",
      "        1.00000799e+00])\n",
      "3.440533404442249\n",
      "3.5235764570506993\n",
      "std\n",
      "11.282793402462715\n",
      "2.04466005326529\n"
     ]
    }
   ],
   "source": [
    "def test_opt(model, data, signal_channel_name):\n",
    "    blind_bins = {signal_channel_name}\n",
    "    \n",
    "    def f(x):\n",
    "        logy, = blind.model_logpdf_blind(model, x, data, blind_bins)\n",
    "        return -logy\n",
    "    \n",
    "    fjit = jax.jit(jax.value_and_grad(f))\n",
    "          \n",
    "    parameters = numpy.array(model.config.suggested_init())\n",
    "    bounds = numpy.array(model.config.suggested_bounds())\n",
    "    \n",
    "    print(fjit(parameters)[0])\n",
    "\n",
    "    result = scipy.optimize.minimize(\n",
    "        fjit,\n",
    "        parameters,\n",
    "        bounds=bounds,\n",
    "        jac=True,\n",
    "        method=\"L-BFGS-B\",\n",
    "        options=dict(ftol=1e-10, gtol=1e-10),\n",
    "    )\n",
    "    \n",
    "    print(result)\n",
    "    \n",
    "    # SR yields\n",
    "    slice_ = model.config.channel_slices[signal_channel_name]\n",
    "    \n",
    "    def y(x):\n",
    "        expected_data = model.expected_actualdata(x)\n",
    "        yres, = expected_data[slice_]\n",
    "        return yres\n",
    "    \n",
    "    print(y(parameters))\n",
    "    print(y(result.x))\n",
    "    \n",
    "    ygrad = jax.grad(y)(result.x)\n",
    "    \n",
    "    def cov_jax(x):\n",
    "        hess = jax.hessian(f)(x)\n",
    "        return jax.numpy.linalg.inv(hess)\n",
    "    \n",
    "    cov_lbfgs = result.hess_inv.todense()\n",
    "    cov = numpy.array(cov_jax(result.x))\n",
    "    \n",
    "    var_lbfgs = inner_product(ygrad, result.hess_inv)\n",
    "    var = inner_product(ygrad, cov)\n",
    "    \n",
    "    print(\"std\")\n",
    "    print(var_lbfgs ** 0.5)\n",
    "    # jax hessian is better now we have no unused parameters :)\n",
    "    print(var ** 0.5)\n",
    "\n",
    "\n",
    "test_opt(MODEL, DATA, SR_NAME)"
   ]
  },
  {
   "cell_type": "markdown",
   "id": "421a8ad5",
   "metadata": {},
   "source": [
    "# optimize with constraints"
   ]
  },
  {
   "cell_type": "code",
   "execution_count": 17,
   "id": "62d184c7",
   "metadata": {},
   "outputs": [],
   "source": [
    "def piecewise_linear_roots(f, x):\n",
    "    \"\"\"Return a list of points for which f(x) = 0 in a linear interpolation.\"\"\"\n",
    "    results = []\n",
    "    for f1, f2, x1, x2 in zip(f[:-1], f[1:], x[:-1], x[1:]):\n",
    "        # root implies that f1 f2 change sign\n",
    "        if not f1 * f2 <= 0:\n",
    "            continue\n",
    "        # zero step special case\n",
    "        if x1 == x2:\n",
    "            if f1 == 0:\n",
    "                results.append(x1)\n",
    "            continue\n",
    "        # zero change special case\n",
    "        if f1 == f2:\n",
    "            if f1 == 0:\n",
    "                # panic! entire line segment is a root\n",
    "                results.append(numpy.nan)\n",
    "            continue\n",
    "        # approx f = f1 + (x - x1) * (f2 - f1) / (x2 - x1)\n",
    "        #          = f1 + (x - x1) * dfdx\n",
    "        # f = 0 =>\n",
    "        #        x = x1 + (0 - f1) / dfdfx\n",
    "        xroot = x1 - f1 * (x2 - x1) / (f2 - f1)\n",
    "        results.append(xroot)\n",
    "    return results"
   ]
  },
  {
   "cell_type": "code",
   "execution_count": 18,
   "id": "cdede6c0",
   "metadata": {
    "scrolled": false
   },
   "outputs": [
    {
     "name": "stdout",
     "output_type": "stream",
     "text": [
      "f =  81.11213895662664\n",
      "y =  3.5235419571638955\n",
      "f =  81.13650134322033\n",
      "y =  3.9999999413776024\n"
     ]
    },
    {
     "name": "stderr",
     "output_type": "stream",
     "text": [
      "/home/tombs/Cambridge/interval-evidence/env/lib/python3.10/site-packages/scipy/optimize/_optimize.py:284: RuntimeWarning: Values in x were outside bounds during a minimize step, clipping to bounds\n",
      "  warnings.warn(\"Values in x were outside bounds during a \"\n"
     ]
    },
    {
     "name": "stdout",
     "output_type": "stream",
     "text": [
      "2.0101597853190163 6.4773782077039534\n",
      "0.0 85.48754626818753\n",
      "1.0 83.33749390559007\n",
      "2.0 81.55292162477858\n",
      "3.0 81.14965233737587\n",
      "4.0 81.13650134322033\n",
      "5.0 81.30486231033036\n",
      "6.0 81.5736363708307\n",
      "7.0 81.90427196684699\n",
      "8.0 82.27577930702289\n",
      "9.0 82.675598023625\n",
      "10.0 83.09568260745101\n",
      "11.0 83.53061175475081\n",
      "12.0 83.97658626258658\n",
      "13.0 84.4308596169041\n",
      "14.0 84.89139543907885\n",
      "15.0 85.3566525890591\n",
      "16.0 85.82544405014829\n",
      "17.0 86.29684205543731\n",
      "18.0 86.77011358006138\n",
      "19.0 87.24467272218688\n",
      "20.0 87.72004939192483\n"
     ]
    },
    {
     "data": {
      "image/png": "[encoded data removed]",
      "text/plain": [
       "<Figure size 432x288 with 1 Axes>"
      ]
     },
     "metadata": {
      "needs_background": "light"
     },
     "output_type": "display_data"
    },
    {
     "name": "stderr",
     "output_type": "stream",
     "text": [
      "/tmp/ipykernel_41487/2945315957.py:129: RuntimeWarning: divide by zero encountered in log\n",
      "  pyplot.plot(numpy.log(ypoints), fs - result.fun, \"k\")\n"
     ]
    },
    {
     "data": {
      "image/png": "[encoded data removed]",
      "text/plain": [
       "<Figure size 432x288 with 1 Axes>"
      ]
     },
     "metadata": {
      "needs_background": "light"
     },
     "output_type": "display_data"
    },
    {
     "data": {
      "image/png": "[encoded data removed]",
      "text/plain": [
       "<Figure size 432x288 with 1 Axes>"
      ]
     },
     "metadata": {
      "needs_background": "light"
     },
     "output_type": "display_data"
    },
    {
     "name": "stdout",
     "output_type": "stream",
     "text": [
      "[1.9668170729284595, 6.116450213648629]\n"
     ]
    }
   ],
   "source": [
    "def test_opt_constrain(model, data, signal_channel_name):\n",
    "    blind_bins = {signal_channel_name}\n",
    "    \n",
    "    # optimization\n",
    "    def f(x):\n",
    "        logy, = blind.model_logpdf_blind(model, x, data, blind_bins)\n",
    "        return -logy\n",
    "    \n",
    "    fjit = jax.jit(jax.value_and_grad(f))\n",
    "          \n",
    "    parameters = numpy.array(model.config.suggested_init())\n",
    "    bounds = numpy.array(model.config.suggested_bounds())\n",
    "    \n",
    "    result = scipy.optimize.minimize(\n",
    "        fjit,\n",
    "        parameters,\n",
    "        bounds=bounds,\n",
    "        jac=True,\n",
    "        method=\"L-BFGS-B\",\n",
    "    )\n",
    "    \n",
    "    # SR yields\n",
    "    slice_ = model.config.channel_slices[signal_channel_name]\n",
    "    \n",
    "    def y(x):\n",
    "        expected_data = model.expected_actualdata(x)\n",
    "        yres, = expected_data[slice_]\n",
    "        return yres\n",
    "    \n",
    "    yjit = jax.jit(y)\n",
    "    \n",
    "    print(\"f = \", result.fun)\n",
    "    print(\"y = \", yjit(result.x))\n",
    "    \n",
    "    # constrain\n",
    "    ygrad = jax.jit(jax.grad(y))\n",
    "    \n",
    "    yfix = 4.0\n",
    "    fix = scipy.optimize.NonlinearConstraint(y, yfix, yfix, jac=ygrad)\n",
    "        \n",
    "    result2 = scipy.optimize.minimize(\n",
    "        fjit,\n",
    "        parameters,\n",
    "        bounds=bounds,\n",
    "        jac=True,\n",
    "        method=\"SLSQP\",\n",
    "        constraints=fix,\n",
    "    )\n",
    "\n",
    "    print(\"f = \", result2.fun)\n",
    "    print(\"y = \", yjit(result2.x))\n",
    "    \n",
    "    # solve for thresholds\n",
    "    ybothgradjit = jax.jit(jax.value_and_grad(y))\n",
    "    fvaluejit = jax.jit(f)\n",
    "    fgradjit = jax.jit(jax.grad(f))\n",
    "    \n",
    "    def yminmax_given_ffix(ffix):\n",
    "        fix = scipy.optimize.NonlinearConstraint(\n",
    "            fvaluejit, \n",
    "            ffix, \n",
    "            ffix, \n",
    "            jac=fgradjit,\n",
    "        )\n",
    "        \n",
    "        result_lo = scipy.optimize.minimize(\n",
    "            ybothgradjit,\n",
    "            parameters,\n",
    "            bounds=bounds,\n",
    "            jac=True,\n",
    "            method=\"SLSQP\",\n",
    "            constraints=fix,\n",
    "        )\n",
    "        \n",
    "        def ymax(x):\n",
    "            value, grad = ybothgradjit(x)\n",
    "            return -value, -grad\n",
    "        \n",
    "        result_hi = scipy.optimize.minimize(\n",
    "            ymax,\n",
    "            parameters,\n",
    "            bounds=bounds,\n",
    "            jac=True,\n",
    "            method=\"SLSQP\",\n",
    "            constraints=fix,\n",
    "        )\n",
    "        \n",
    "        return result_lo.fun, -result_hi.fun\n",
    "    \n",
    "    lo, hi = yminmax_given_ffix(result.fun + 0.5)\n",
    "    print(lo, hi)\n",
    "\n",
    "    # scan\n",
    "    def fmin_given_yfix(yfix):\n",
    "        fix = scipy.optimize.NonlinearConstraint(\n",
    "            y, \n",
    "            yfix, \n",
    "            yfix, \n",
    "            jac=ygrad,\n",
    "        )\n",
    "\n",
    "        result = scipy.optimize.minimize(\n",
    "            fjit,\n",
    "            parameters,\n",
    "            bounds=bounds,\n",
    "            jac=True,\n",
    "            method=\"SLSQP\",\n",
    "            constraints=fix,\n",
    "        )\n",
    "        \n",
    "        return result.fun\n",
    "    \n",
    "    ypoints = numpy.linspace(0., 20., 21)\n",
    "    \n",
    "    fs = []\n",
    "    for yfix in ypoints:\n",
    "        fmin = fmin_given_yfix(yfix)\n",
    "        print(yfix, fmin)\n",
    "        fs.append(fmin)\n",
    "        \n",
    "    fs = numpy.array(fs)\n",
    "    \n",
    "    pyplot.plot(ypoints, fs - result.fun, \"k\")\n",
    "    for sigma in (0, 1, 2, 3):\n",
    "        fsigma = 0.5 * sigma ** 2\n",
    "        pyplot.axhline(fsigma)\n",
    "    pyplot.show()   \n",
    "    \n",
    "    pyplot.plot(numpy.log(ypoints), fs - result.fun, \"k\")\n",
    "    for sigma in (0, 1, 2, 3):\n",
    "        fsigma = 0.5 * sigma ** 2\n",
    "        pyplot.axhline(fsigma)\n",
    "    pyplot.show()\n",
    "    \n",
    "    pyplot.plot(ypoints, numpy.exp(result.fun - fs), \"b\")\n",
    "    pyplot.show()   \n",
    "    \n",
    "    print(piecewise_linear_roots(fs - result.fun - 0.5, ypoints))\n",
    "    \n",
    "\n",
    "test_opt_constrain(MODEL, DATA, SR_NAME)"
   ]
  },
  {
   "cell_type": "code",
   "execution_count": 19,
   "id": "c485bc59",
   "metadata": {},
   "outputs": [
    {
     "name": "stdout",
     "output_type": "stream",
     "text": [
      "3.5 +3.0 -1.5\n"
     ]
    }
   ],
   "source": [
    "def print_fit_stuff():\n",
    "    lo, hi = 2.0101597853190163, 6.4773782077039534\n",
    "    mid = 3.52361816023076\n",
    "    \n",
    "    err_lo = lo - mid\n",
    "    err_hi = hi - mid\n",
    "    print(\"%.1f %+.1f %+.1f\" % (mid, err_hi, err_lo))\n",
    "\n",
    "print_fit_stuff()"
   ]
  },
  {
   "cell_type": "markdown",
   "id": "a21b6179",
   "metadata": {},
   "source": [
    "# cabinetry"
   ]
  },
  {
   "cell_type": "code",
   "execution_count": 20,
   "id": "bc3783ef",
   "metadata": {},
   "outputs": [],
   "source": [
    "import cabinetry\n",
    "import logging\n",
    "import io\n",
    "\n",
    "from contextlib import contextmanager"
   ]
  },
  {
   "cell_type": "code",
   "execution_count": 21,
   "id": "414f26c5",
   "metadata": {},
   "outputs": [],
   "source": [
    "@contextmanager\n",
    "def capture_log(log, level=logging.INFO):\n",
    "    \"\"\"Gather logginfo from log into a buffer in this context.\"\"\"\n",
    "    buffer = io.StringIO()\n",
    "    handler = logging.StreamHandler(buffer)\n",
    "    \n",
    "    level_old = log.level\n",
    "    propagate_old = log.propagate\n",
    "    log.setLevel(level)\n",
    "    log.addHandler(handler)\n",
    "    log.propagate = False\n",
    "    \n",
    "    try:\n",
    "        yield buffer\n",
    "    finally:\n",
    "        log.setLevel(level_old)\n",
    "        log.removeHandler(handler)\n",
    "        log.propagate = propagate_old\n",
    "\n",
    "\n",
    "def cabinetry_yields_table(prediction, data):\n",
    "    with capture_log(cabinetry.tabulate.log) as buffer:\n",
    "        cabinetry.tabulate.yields(prediction, data)    \n",
    "    return buffer.getvalue()"
   ]
  },
  {
   "cell_type": "code",
   "execution_count": 22,
   "id": "7b7b725f",
   "metadata": {
    "scrolled": false
   },
   "outputs": [
    {
     "name": "stdout",
     "output_type": "stream",
     "text": [
      "yields per bin for post-fit model prediction:\n",
      "╒════════════════════╤═════════════════╤══════════════╤══════════════════════╕\n",
      "│ sample             │ CRZZ_cuts       │ CRttZ_cuts   │ SR0bvetotight_cuts   │\n",
      "│                    │ bin 1           │ bin 1        │ bin 1                │\n",
      "╞════════════════════╪═════════════════╪══════════════╪══════════════════════╡\n",
      "│ MG5Py8_4t          │ 0.00            │ 0.12         │ 0.00                 │\n",
      "├────────────────────┼─────────────────┼──────────────┼──────────────────────┤\n",
      "│ MG5Py8_tZ_3l       │ 0.00            │ 0.01         │ 0.00                 │\n",
      "├────────────────────┼─────────────────┼──────────────┼──────────────────────┤\n",
      "│ MG5Py8_ttXX        │ 0.01            │ 0.74         │ 0.01                 │\n",
      "├────────────────────┼─────────────────┼──────────────┼──────────────────────┤\n",
      "│ PowHegPy8_WH       │ 0.05            │ 0.01         │ 0.00                 │\n",
      "├────────────────────┼─────────────────┼──────────────┼──────────────────────┤\n",
      "│ PowHegPy8_ZHtautau │ 0.54            │ 0.03         │ 0.01                 │\n",
      "├────────────────────┼─────────────────┼──────────────┼──────────────────────┤\n",
      "│ PowHegPy8_ggH      │ 0.00            │ 0.01         │ 0.00                 │\n",
      "├────────────────────┼─────────────────┼──────────────┼──────────────────────┤\n",
      "│ PowHegPy8_ttH      │ 0.02            │ 1.53         │ 0.01                 │\n",
      "├────────────────────┼─────────────────┼──────────────┼──────────────────────┤\n",
      "│ Reducible          │ 45.87           │ 9.49         │ 1.37                 │\n",
      "├────────────────────┼─────────────────┼──────────────┼──────────────────────┤\n",
      "│ Sherpa221_VVV      │ 21.19           │ 0.98         │ 0.21                 │\n",
      "├────────────────────┼─────────────────┼──────────────┼──────────────────────┤\n",
      "│ Sherpa222_VV       │ 2306.46         │ 0.98         │ 0.59                 │\n",
      "├────────────────────┼─────────────────┼──────────────┼──────────────────────┤\n",
      "│ Sherpa222_ggZZnoH  │ 180.00          │ 0.05         │ 0.00                 │\n",
      "├────────────────────┼─────────────────┼──────────────┼──────────────────────┤\n",
      "│ aMCatNLOPy8_ttZ    │ 0.49            │ 41.25        │ 0.02                 │\n",
      "├────────────────────┼─────────────────┼──────────────┼──────────────────────┤\n",
      "│ aMcAtNlo_tWZ       │ 0.16            │ 6.76         │ 0.02                 │\n",
      "├────────────────────┼─────────────────┼──────────────┼──────────────────────┤\n",
      "│ total              │ 2554.80 ± 52.23 │ 61.97 ± 7.85 │ 2.24 ± 0.95          │\n",
      "├────────────────────┼─────────────────┼──────────────┼──────────────────────┤\n",
      "│ data               │ 2555.00         │ 62.00        │ 1.00                 │\n",
      "╘════════════════════╧═════════════════╧══════════════╧══════════════════════╛\n",
      "\n"
     ]
    }
   ],
   "source": [
    "def fit_cabinetry(model, data):\n",
    "    fit_results = cabinetry.fit.fit(model, data)\n",
    "\n",
    "    postfit = cabinetry.model_utils.prediction(model, fit_results=fit_results)\n",
    "\n",
    "    table_postfit = cabinetry_yields_table(postfit, data)\n",
    "    print(table_postfit)\n",
    "\n",
    "fit_cabinetry(MODEL, DATA)"
   ]
  },
  {
   "cell_type": "code",
   "execution_count": 23,
   "id": "8fa2eb1f",
   "metadata": {},
   "outputs": [],
   "source": [
    "MODEL_NO_SR, DATA_NO_SR = make_model_and_data(SPEC, POI_NAME, {\"CRZZ_cuts\", \"CRttZ_cuts\"})"
   ]
  },
  {
   "cell_type": "code",
   "execution_count": 41,
   "id": "469d7da9",
   "metadata": {
    "scrolled": false
   },
   "outputs": [
    {
     "name": "stdout",
     "output_type": "stream",
     "text": [
      "ModelPrediction(model=<pyhf.pdf.Model object at 0x7f534601a6e0>, model_yields=[[[0.0], [0.0017450385798500976], [0.011749091434400201], [0.04847773388141086], [0.5432347412297001], [0.0022157844802960856], [0.0170222644153537], [51.113291949662205], [21.294419634840217], [2302.8807056993414], [178.24059513874667], [0.4889263209331237], [0.159688910453072]], [[0.11771413145754141], [0.00998087510759887], [0.7382603203593608], [0.012333187473739123], [0.03112120545499784], [0.014633508007693563], [1.5318300030151537], [9.57216654216746], [0.9906638243820607], [1.0070350126930265], [0.05424325670625883], [41.16318232746551], [6.759112665581873]], [[0.0031622402038706367], [0.0], [0.00888303186987786], [0.0004617457125591381], [0.008150597091243864], [0.0005636106171346064], [0.010376008497377456], [2.602972781242437], [0.21077255104221612], [0.632985913198053], [0.002729002136552078], [0.020295571865319002], [0.019759403931741044]]], total_stdev_model_bins=[[50.538161367007675], [7.855859243090271], [2.0414304485081716]], total_stdev_model_channels=[50.538161367007675, 7.855859243090271, 2.0414304485081716], label='post-fit')\n",
      "[2554.80207231   62.00227686    3.52111246]\n",
      "yields per bin for post-fit model prediction:\n",
      "╒════════════════════╤═════════════════╤══════════════╤══════════════════════╕\n",
      "│ sample             │ CRZZ_cuts       │ CRttZ_cuts   │ SR0bvetotight_cuts   │\n",
      "│                    │ bin 1           │ bin 1        │ bin 1                │\n",
      "╞════════════════════╪═════════════════╪══════════════╪══════════════════════╡\n",
      "│ MG5Py8_4t          │ 0.00            │ 0.12         │ 0.00                 │\n",
      "├────────────────────┼─────────────────┼──────────────┼──────────────────────┤\n",
      "│ MG5Py8_tZ_3l       │ 0.00            │ 0.01         │ 0.00                 │\n",
      "├────────────────────┼─────────────────┼──────────────┼──────────────────────┤\n",
      "│ MG5Py8_ttXX        │ 0.01            │ 0.74         │ 0.01                 │\n",
      "├────────────────────┼─────────────────┼──────────────┼──────────────────────┤\n",
      "│ PowHegPy8_WH       │ 0.05            │ 0.01         │ 0.00                 │\n",
      "├────────────────────┼─────────────────┼──────────────┼──────────────────────┤\n",
      "│ PowHegPy8_ZHtautau │ 0.54            │ 0.03         │ 0.01                 │\n",
      "├────────────────────┼─────────────────┼──────────────┼──────────────────────┤\n",
      "│ PowHegPy8_ggH      │ 0.00            │ 0.01         │ 0.00                 │\n",
      "├────────────────────┼─────────────────┼──────────────┼──────────────────────┤\n",
      "│ PowHegPy8_ttH      │ 0.02            │ 1.53         │ 0.01                 │\n",
      "├────────────────────┼─────────────────┼──────────────┼──────────────────────┤\n",
      "│ Reducible          │ 51.11           │ 9.57         │ 2.60                 │\n",
      "├────────────────────┼─────────────────┼──────────────┼──────────────────────┤\n",
      "│ Sherpa221_VVV      │ 21.29           │ 0.99         │ 0.21                 │\n",
      "├────────────────────┼─────────────────┼──────────────┼──────────────────────┤\n",
      "│ Sherpa222_VV       │ 2302.88         │ 1.01         │ 0.63                 │\n",
      "├────────────────────┼─────────────────┼──────────────┼──────────────────────┤\n",
      "│ Sherpa222_ggZZnoH  │ 178.24          │ 0.05         │ 0.00                 │\n",
      "├────────────────────┼─────────────────┼──────────────┼──────────────────────┤\n",
      "│ aMCatNLOPy8_ttZ    │ 0.49            │ 41.16        │ 0.02                 │\n",
      "├────────────────────┼─────────────────┼──────────────┼──────────────────────┤\n",
      "│ aMcAtNlo_tWZ       │ 0.16            │ 6.76         │ 0.02                 │\n",
      "├────────────────────┼─────────────────┼──────────────┼──────────────────────┤\n",
      "│ total              │ 2554.80 ± 50.54 │ 62.00 ± 7.86 │ 3.52 ± 2.04          │\n",
      "├────────────────────┼─────────────────┼──────────────┼──────────────────────┤\n",
      "│ data               │ 2555.00         │ 62.00        │ 1.00                 │\n",
      "╘════════════════════╧═════════════════╧══════════════╧══════════════════════╛\n",
      "\n",
      "yields per bin for post-fit model prediction:\n",
      "╒════════════════════╤═════════════════╤══════════════╤══════════════════════╕\n",
      "│ sample             │ CRZZ_cuts       │ CRttZ_cuts   │ SR0bvetotight_cuts   │\n",
      "│                    │ bin 1           │ bin 1        │ bin 1                │\n",
      "╞════════════════════╪═════════════════╪══════════════╪══════════════════════╡\n",
      "│ MG5Py8_4t          │ 0.00            │ 0.12         │ 0.00                 │\n",
      "├────────────────────┼─────────────────┼──────────────┼──────────────────────┤\n",
      "│ MG5Py8_tZ_3l       │ 0.00            │ 0.01         │ 0.00                 │\n",
      "├────────────────────┼─────────────────┼──────────────┼──────────────────────┤\n",
      "│ MG5Py8_ttXX        │ 0.01            │ 0.74         │ 0.01                 │\n",
      "├────────────────────┼─────────────────┼──────────────┼──────────────────────┤\n",
      "│ PowHegPy8_WH       │ 0.05            │ 0.01         │ 0.00                 │\n",
      "├────────────────────┼─────────────────┼──────────────┼──────────────────────┤\n",
      "│ PowHegPy8_ZHtautau │ 0.54            │ 0.03         │ 0.01                 │\n",
      "├────────────────────┼─────────────────┼──────────────┼──────────────────────┤\n",
      "│ PowHegPy8_ggH      │ 0.00            │ 0.01         │ 0.00                 │\n",
      "├────────────────────┼─────────────────┼──────────────┼──────────────────────┤\n",
      "│ PowHegPy8_ttH      │ 0.02            │ 1.53         │ 0.01                 │\n",
      "├────────────────────┼─────────────────┼──────────────┼──────────────────────┤\n",
      "│ Reducible          │ 45.87           │ 9.49         │ 1.37                 │\n",
      "├────────────────────┼─────────────────┼──────────────┼──────────────────────┤\n",
      "│ Sherpa221_VVV      │ 21.19           │ 0.98         │ 0.21                 │\n",
      "├────────────────────┼─────────────────┼──────────────┼──────────────────────┤\n",
      "│ Sherpa222_VV       │ 2306.46         │ 0.98         │ 0.59                 │\n",
      "├────────────────────┼─────────────────┼──────────────┼──────────────────────┤\n",
      "│ Sherpa222_ggZZnoH  │ 180.00          │ 0.05         │ 0.00                 │\n",
      "├────────────────────┼─────────────────┼──────────────┼──────────────────────┤\n",
      "│ aMCatNLOPy8_ttZ    │ 0.49            │ 41.25        │ 0.02                 │\n",
      "├────────────────────┼─────────────────┼──────────────┼──────────────────────┤\n",
      "│ aMcAtNlo_tWZ       │ 0.16            │ 6.76         │ 0.02                 │\n",
      "├────────────────────┼─────────────────┼──────────────┼──────────────────────┤\n",
      "│ total              │ 2554.80 ± 52.23 │ 61.97 ± 7.85 │ 2.24 ± 0.95          │\n",
      "├────────────────────┼─────────────────┼──────────────┼──────────────────────┤\n",
      "│ data               │ 2555.00         │ 62.00        │ 1.00                 │\n",
      "╘════════════════════╧═════════════════╧══════════════╧══════════════════════╛\n",
      "\n"
     ]
    }
   ],
   "source": [
    "def fit_cabinetry_no_sr(model_no_sr, data_no_sr, model, data):\n",
    "    fit_results_no_sr = cabinetry.fit.fit(model_no_sr, data_no_sr)\n",
    "    fit_results = cabinetry.fit.fit(model, data)\n",
    "    \n",
    "    \n",
    "    fit_results_vr = cabinetry.model_utils.match_fit_results(model, fit_results_no_sr)\n",
    "\n",
    "    prefit = cabinetry.model_utils.prediction(model, fit_results=fit_results_vr)\n",
    "    print(prefit)\n",
    "    print(numpy.sum(prefit.model_yields, axis=(1, 2)))\n",
    "    table_prefit = cabinetry_yields_table(prefit, data)\n",
    "    print(table_prefit)\n",
    "    \n",
    "    postfit = cabinetry.model_utils.prediction(model, fit_results=fit_results)\n",
    "    \n",
    "    table_postfit = cabinetry_yields_table(postfit, data)\n",
    "    print(table_postfit)\n",
    "\n",
    "\n",
    "fit_cabinetry_no_sr(MODEL_NO_SR, DATA_NO_SR, MODEL, DATA)"
   ]
  },
  {
   "cell_type": "markdown",
   "id": "7d66376d",
   "metadata": {},
   "source": [
    "# TODO: minimal reproduction for 4L\n",
    "# TODO: extract SR yields only\n",
    "# TODO: print all (not wrong CRs for  5L)"
   ]
  }
 ],
 "metadata": {
  "kernelspec": {
   "display_name": "Python 3 (ipykernel)",
   "language": "python",
   "name": "python3"
  },
  "language_info": {
   "codemirror_mode": {
    "name": "ipython",
    "version": 3
   },
   "file_extension": ".py",
   "mimetype": "text/x-python",
   "name": "python",
   "nbconvert_exporter": "python",
   "pygments_lexer": "ipython3",
   "version": "3.10.4"
  }
 },
 "nbformat": 4,
 "nbformat_minor": 5
}
