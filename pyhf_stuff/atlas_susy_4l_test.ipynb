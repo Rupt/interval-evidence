{
 "cells": [
  {
   "cell_type": "code",
   "execution_count": 1,
   "id": "29156c57",
   "metadata": {},
   "outputs": [],
   "source": [
    "import json\n",
    "import copy\n",
    "\n",
    "import numpy\n",
    "import matplotlib\n",
    "from matplotlib import pyplot\n",
    "import pyhf\n",
    "\n",
    "import blind\n",
    "import jsongz"
   ]
  },
  {
   "cell_type": "code",
   "execution_count": 2,
   "id": "e3b9aa8f",
   "metadata": {},
   "outputs": [],
   "source": [
    "import jax\n",
    "import scipy.optimize\n",
    "\n",
    "jax.config.update(\"jax_platform_name\", \"cpu\")\n",
    "jax.config.update(\"jax_enable_x64\", True)\n",
    "pyhf.set_backend(\"jax\")"
   ]
  },
  {
   "cell_type": "code",
   "execution_count": 3,
   "id": "a8428db8",
   "metadata": {},
   "outputs": [],
   "source": [
    "SPEC = jsongz.load(\"ins1852821_bkg.json.gz\")\n",
    "# SPEC = jsongz.load(\"ins1852821_signal.json.gz\")"
   ]
  },
  {
   "cell_type": "code",
   "execution_count": 4,
   "id": "8e30d3e4",
   "metadata": {},
   "outputs": [
    {
     "data": {
      "text/plain": [
       "['SR0bvetoloose_cuts',\n",
       " 'SR0bvetotight_cuts',\n",
       " 'SR0breq_cuts',\n",
       " 'SR1bvetoloose_cuts',\n",
       " 'SR1bvetotight_cuts',\n",
       " 'SR1breq_cuts',\n",
       " 'SR2bvetoloose_cuts',\n",
       " 'SR2bvetotight_cuts',\n",
       " 'SR2breq_cuts',\n",
       " 'SR0ZZloose_cuts',\n",
       " 'SR0ZZtight_cuts',\n",
       " 'SR0ZZbvetoloose_cuts',\n",
       " 'SR0ZZbvetotight_cuts',\n",
       " 'SR5L_cuts',\n",
       " 'CRZZ_cuts',\n",
       " 'CRttZ_cuts']"
      ]
     },
     "execution_count": 4,
     "metadata": {},
     "output_type": "execute_result"
    }
   ],
   "source": [
    "[channel[\"name\"] for channel in SPEC[\"channels\"]]"
   ]
  },
  {
   "cell_type": "code",
   "execution_count": 5,
   "id": "36fe487c",
   "metadata": {},
   "outputs": [],
   "source": [
    "SR_NAME = \"SR0bvetotight_cuts\"\n",
    "# SR_NAME = \"SR0ZZloose_cuts\"\n",
    "# SR_NAME = \"SR0ZZtight_cuts\"\n",
    "# SR_NAME = \"SR0ZZbvetotight_cuts\"\n",
    "# atlas_susy_4l presents yields without SR constraints\n",
    "# (sensibly, but violating ATLAS SUSY policy)"
   ]
  },
  {
   "cell_type": "code",
   "execution_count": 6,
   "id": "1a7d7475",
   "metadata": {},
   "outputs": [],
   "source": [
    "CHANNEL_NAMES = {\n",
    "    SR_NAME,\n",
    "    \"CRZZ_cuts\",\n",
    "    \"CRttZ_cuts\",\n",
    "}"
   ]
  },
  {
   "cell_type": "code",
   "execution_count": 7,
   "id": "12d15413",
   "metadata": {},
   "outputs": [],
   "source": [
    "POI_NAME = \"mu_ZZ\""
   ]
  },
  {
   "cell_type": "code",
   "execution_count": 8,
   "id": "30d0d7f7",
   "metadata": {},
   "outputs": [],
   "source": [
    "def get_named(seq, name):\n",
    "    for item in seq:\n",
    "        if item[\"name\"] == name:\n",
    "            return item\n",
    "    raise KeyError(name)"
   ]
  },
  {
   "cell_type": "code",
   "execution_count": 9,
   "id": "3efd0bc6",
   "metadata": {},
   "outputs": [],
   "source": [
    "def select_channels(spec, channel_names):\n",
    "    channels = spec[\"channels\"]\n",
    "    spec[\"channels\"] = [\n",
    "        channel\n",
    "        for channel in channels\n",
    "        if channel[\"name\"] in channel_names\n",
    "    ]\n",
    "    return spec\n",
    "\n",
    "\n",
    "def clear_poi(spec):\n",
    "    for measurement in spec[\"measurements\"]:\n",
    "        measurement[\"config\"][\"poi\"] = \"\"\n",
    "    return spec"
   ]
  },
  {
   "cell_type": "code",
   "execution_count": 10,
   "id": "80ffa3fe",
   "metadata": {},
   "outputs": [],
   "source": [
    "def make_model_and_data(spec, poi_name, channel_names):\n",
    "    spec = copy.deepcopy(spec)\n",
    "    spec = select_channels(spec, channel_names)\n",
    "    spec = clear_poi(spec)\n",
    "    \n",
    "    workspace = pyhf.workspace.Workspace(spec)\n",
    "    \n",
    "    channels_prune = workspace.channel_slices.keys() - channel_names\n",
    "    \n",
    "    workspace_pruned = workspace.prune(channels=channels_prune)\n",
    "    \n",
    "    model = workspace_pruned.model()\n",
    "    data = numpy.array(workspace_pruned.data(model))\n",
    "    return model, data\n",
    "\n",
    "\n",
    "MODEL, DATA = make_model_and_data(SPEC, POI_NAME, CHANNEL_NAMES)"
   ]
  },
  {
   "cell_type": "code",
   "execution_count": 11,
   "id": "d11ecf60",
   "metadata": {},
   "outputs": [
    {
     "name": "stdout",
     "output_type": "stream",
     "text": [
      "[-105.12972977]\n",
      "[-105.12972977]\n",
      "[-102.92482288]\n",
      "[3.4405334] [1.]\n",
      "[-2.20490689]\n",
      "[-105.12972977]\n"
     ]
    }
   ],
   "source": [
    "def test_logpdf(model, data, signal_channel_name):\n",
    "    parameters = numpy.array(model.config.suggested_init())\n",
    "    \n",
    "    print(model.logpdf(parameters, data))\n",
    "    \n",
    "    print(blind.model_logpdf_blind(model, parameters, data, []))\n",
    "    \n",
    "    logf = blind.model_logpdf_blind(model, parameters, data, {signal_channel_name})\n",
    "    print(logf)\n",
    "\n",
    "    slice_ = model.config.channel_slices[signal_channel_name]\n",
    "    expected_data = model.expected_actualdata(parameters)\n",
    "    mu = expected_data[slice_]\n",
    "    nobs = data[slice_]\n",
    "    print(mu, nobs)\n",
    "\n",
    "    loglikelihood = pyhf.probability.Poisson(mu).log_prob(numpy.array(nobs))\n",
    "    print(loglikelihood)\n",
    "    print(logf + loglikelihood)\n",
    "\n",
    "\n",
    "test_logpdf(MODEL, DATA, SR_NAME)"
   ]
  },
  {
   "cell_type": "code",
   "execution_count": 12,
   "id": "c7f8f9ac",
   "metadata": {},
   "outputs": [
    {
     "name": "stdout",
     "output_type": "stream",
     "text": [
      "1.0\n"
     ]
    }
   ],
   "source": [
    "def test_hess():\n",
    "    def f(x):\n",
    "        return 0.5 * x ** 2\n",
    "    \n",
    "    print(jax.hessian(f)(0.1))\n",
    "    \n",
    "test_hess()"
   ]
  },
  {
   "cell_type": "code",
   "execution_count": 13,
   "id": "0807ab62",
   "metadata": {},
   "outputs": [],
   "source": [
    "def inner_product(x, c):\n",
    "    return x.dot(c.dot(x))"
   ]
  },
  {
   "cell_type": "code",
   "execution_count": 14,
   "id": "d1e14429",
   "metadata": {},
   "outputs": [],
   "source": [
    "def d2fdx2(fminus, f, fplus, eps):\n",
    "    return ((fplus - f) - (f - fminus)) / eps ** 2"
   ]
  },
  {
   "cell_type": "code",
   "execution_count": 15,
   "id": "de862f11",
   "metadata": {
    "scrolled": false
   },
   "outputs": [
    {
     "name": "stdout",
     "output_type": "stream",
     "text": [
      "102.92482288151945\n",
      "      fun: 81.11213901403168\n",
      " hess_inv: <97x97 LbfgsInvHessProduct with dtype=float64>\n",
      "      jac: array([ 4.79088556e-05,  6.17421128e-06,  2.28929389e-06, -8.22721353e-06,\n",
      "       -1.00153606e-05, -1.07198219e-06,  4.22216918e-06, -8.04890524e-07,\n",
      "       -5.28586243e-05,  3.24974300e-06,  9.93245876e-06, -1.02503663e-05,\n",
      "        5.73597117e-06,  2.86205760e-08,  2.53831131e-06, -1.18912132e-06,\n",
      "       -6.71268788e-08, -1.77371195e-08,  4.14936555e-05, -2.75563030e-05,\n",
      "        2.52029053e-05,  8.59481842e-06,  8.30866199e-06,  4.77005158e-07,\n",
      "        1.96746410e-05,  0.00000000e+00,  1.46909572e-05,  3.46092799e-05,\n",
      "       -4.26945060e-06,  5.30018679e-06, -2.42391605e-06,  9.26010782e-09,\n",
      "        5.50327811e-06,  1.55940927e-08, -1.35202806e-06, -4.05940361e-06,\n",
      "       -2.30705978e-10, -2.22549809e-10,  1.39915057e-09, -2.92133956e-08,\n",
      "       -4.26041110e-08,  2.80860030e-08, -1.46050662e-09,  2.57853518e-08,\n",
      "       -2.76950697e-09,  1.30900036e-09,  1.68871051e-05, -5.92761749e-06,\n",
      "       -8.90192113e-06, -9.40906329e-06, -2.00419420e-05,  1.26483992e-05,\n",
      "       -7.34844353e-05,  9.25949200e-05, -1.52352522e-05,  5.85550505e-05,\n",
      "        2.57105179e-06, -1.07685918e-05,  2.74033676e-04, -2.47468545e-04,\n",
      "       -2.17872903e-04,  1.48565789e-04, -6.20986429e-04, -4.21956239e-04,\n",
      "       -1.66953014e-04, -4.97970108e-04, -8.73819252e-05, -2.03504831e-04,\n",
      "        2.90863859e-07,  1.66578768e-08,  1.65160270e-07,  2.39111693e-07,\n",
      "       -4.40016314e-07, -8.62784201e-09,  2.47739585e-07,  3.26477759e-05,\n",
      "        1.18828697e-04, -1.47081840e-05,  0.00000000e+00,  1.14456909e-03,\n",
      "        2.63622247e-03, -5.68690642e-04,  2.49950822e-05,  3.22239867e-07,\n",
      "       -1.79681812e-08,  1.22188515e-07,  2.58266836e-05, -8.52372376e-06,\n",
      "       -3.24830614e-08,  3.09621910e-08,  2.28775764e-04,  3.39634089e-04,\n",
      "       -1.25903563e-04,  0.00000000e+00, -1.99415944e-02,  1.97944463e-03,\n",
      "        0.00000000e+00])\n",
      "  message: 'CONVERGENCE: REL_REDUCTION_OF_F_<=_FACTR*EPSMCH'\n",
      "     nfev: 95\n",
      "      nit: 81\n",
      "     njev: 95\n",
      "   status: 0\n",
      "  success: True\n",
      "        x: array([ 5.18714430e-05,  6.82465248e-06,  2.55483265e-06, -8.90808518e-06,\n",
      "       -1.08603853e-05, -1.13376018e-06,  4.61194035e-06, -8.50957300e-07,\n",
      "       -5.74404182e-05,  3.54227014e-06,  1.07457783e-05, -1.11950794e-05,\n",
      "        6.31678793e-06,  3.48586102e-08,  2.75528129e-06, -1.29295942e-06,\n",
      "       -7.16048455e-08, -2.08756725e-08,  4.51001564e-05, -2.99486349e-05,\n",
      "        2.73914863e-05,  9.34094639e-06,  9.03009841e-06,  5.17136567e-07,\n",
      "        2.13804459e-05,  0.00000000e+00,  1.59916700e-05,  3.77289055e-05,\n",
      "       -4.63894406e-06,  5.75843975e-06, -2.63442381e-06,  9.74861682e-09,\n",
      "        5.98054678e-06,  1.67417021e-08, -1.47205217e-06, -4.39711746e-06,\n",
      "       -2.59510760e-10, -2.50336254e-10,  1.57383952e-09, -3.29569637e-08,\n",
      "       -4.80617636e-08,  3.16852605e-08, -1.64285610e-09,  2.90901162e-08,\n",
      "       -3.11528973e-09,  1.47243364e-09,  1.83546534e-05, -6.44287225e-06,\n",
      "       -9.67547996e-06, -1.02267965e-05, -2.25857705e-05,  1.34568154e-05,\n",
      "       -8.30723940e-05,  9.92112363e-05, -1.85467513e-05,  6.31125835e-05,\n",
      "        3.09279888e-06, -1.13485914e-05,  3.17821566e-04, -2.86582317e-04,\n",
      "       -2.51693978e-04,  2.14174144e-04, -4.59109596e-04, -2.86815447e-04,\n",
      "       -1.82911773e-04, -5.45539701e-04, -9.58253702e-05, -2.22737780e-04,\n",
      "        3.16151411e-07,  1.81061125e-08,  1.79519302e-07,  2.59900163e-07,\n",
      "       -4.78271361e-07, -9.37794035e-09,  2.69278161e-07,  3.54579189e-05,\n",
      "        1.29054997e-04, -1.59854111e-05,  0.00000000e+00,  1.00000037e+00,\n",
      "        1.14756169e+00,  1.05906512e+00,  2.71673673e-05,  3.46627726e-07,\n",
      "       -6.02021783e-08,  1.32772340e-07,  2.80713864e-05, -1.08556469e-05,\n",
      "       -3.66410369e-08,  3.49254879e-08,  2.48649529e-04,  1.00001006e+00,\n",
      "        1.00000156e+00,  1.00000000e+00,  9.99999902e-01,  1.00000041e+00,\n",
      "        1.00000000e+00])\n",
      "3.440533404442249\n",
      "3.523584256335109\n",
      "std\n",
      "13.101334494845473\n",
      "2.0653180371493662\n"
     ]
    }
   ],
   "source": [
    "def test_opt(model, data, signal_channel_name):\n",
    "    blind_bins = {signal_channel_name}\n",
    "    \n",
    "    def f(x):\n",
    "        logy, = blind.model_logpdf_blind(model, x, data, blind_bins)\n",
    "        return -logy\n",
    "    \n",
    "    fjit = jax.jit(jax.value_and_grad(f))\n",
    "          \n",
    "    parameters = numpy.array(model.config.suggested_init())\n",
    "    bounds = numpy.array(model.config.suggested_bounds())\n",
    "    \n",
    "    print(fjit(parameters)[0])\n",
    "\n",
    "    result = scipy.optimize.minimize(\n",
    "        fjit,\n",
    "        parameters,\n",
    "        bounds=bounds,\n",
    "        jac=True,\n",
    "        method=\"L-BFGS-B\",\n",
    "        options=dict(ftol=1e-10, gtol=1e-10),\n",
    "    )\n",
    "    \n",
    "    print(result)\n",
    "    \n",
    "    # SR yields\n",
    "    slice_ = model.config.channel_slices[signal_channel_name]\n",
    "    \n",
    "    def y(x):\n",
    "        expected_data = model.expected_actualdata(x)\n",
    "        yres, = expected_data[slice_]\n",
    "        return yres\n",
    "    \n",
    "    print(y(parameters))\n",
    "    print(y(result.x))\n",
    "    \n",
    "    ygrad = jax.grad(y)(result.x)\n",
    "    \n",
    "    def cov_jax(x):\n",
    "        hess = jax.hessian(f)(x)\n",
    "        return jax.numpy.linalg.inv(hess)\n",
    "    \n",
    "    cov_lbfgs = result.hess_inv.todense()\n",
    "    cov = numpy.array(cov_jax(result.x))\n",
    "    \n",
    "    var_lbfgs = inner_product(ygrad, result.hess_inv)\n",
    "    var = inner_product(ygrad, cov)\n",
    "    \n",
    "    print(\"std\")\n",
    "    print(var_lbfgs ** 0.5)\n",
    "    # jax hessian is better now we have no unused parameters :)\n",
    "    print(var ** 0.5)\n",
    "\n",
    "\n",
    "test_opt(MODEL, DATA, SR_NAME)"
   ]
  },
  {
   "cell_type": "markdown",
   "id": "421a8ad5",
   "metadata": {},
   "source": [
    "# optimize with constraints"
   ]
  },
  {
   "cell_type": "code",
   "execution_count": 16,
   "id": "62d184c7",
   "metadata": {},
   "outputs": [],
   "source": [
    "def piecewise_linear_roots(f, x):\n",
    "    \"\"\"Return a list of points for which f(x) = 0 in a linear interpolation.\"\"\"\n",
    "    results = []\n",
    "    for f1, f2, x1, x2 in zip(f[:-1], f[1:], x[:-1], x[1:]):\n",
    "        # root implies that f1 f2 change sign\n",
    "        if not f1 * f2 <= 0:\n",
    "            continue\n",
    "        # zero step special case\n",
    "        if x1 == x2:\n",
    "            if f1 == 0:\n",
    "                results.append(x1)\n",
    "            continue\n",
    "        # zero change special case\n",
    "        if f1 == f2:\n",
    "            if f1 == 0:\n",
    "                # panic! entire line segment is a root\n",
    "                results.append(numpy.nan)\n",
    "            continue\n",
    "        # approx f = f1 + (x - x1) * (f2 - f1) / (x2 - x1)\n",
    "        #          = f1 + (x - x1) * dfdx\n",
    "        # f = 0 =>\n",
    "        #        x = x1 + (0 - f1) / dfdfx\n",
    "        xroot = x1 - f1 * (x2 - x1) / (f2 - f1)\n",
    "        results.append(xroot)\n",
    "    return results"
   ]
  },
  {
   "cell_type": "code",
   "execution_count": 17,
   "id": "cdede6c0",
   "metadata": {
    "scrolled": false
   },
   "outputs": [
    {
     "name": "stdout",
     "output_type": "stream",
     "text": [
      "f =  81.11213909735622\n",
      "y =  3.5235415438600377\n",
      "f =  81.13599101655853\n",
      "y =  3.999999939654941\n",
      "1.9165886285355695 6.166153610215982\n",
      "0.0 85.49325851944684\n",
      "1.0 83.30647739395523\n",
      "2.0 81.54602664229294\n",
      "3.0 81.14895411729808\n",
      "4.0 81.13599101655853\n",
      "5.0 81.30044338951352\n",
      "6.0 81.56220113186767\n",
      "7.0 81.88325410097742\n",
      "8.0 82.24295546528128\n",
      "9.0 82.62898760253137\n",
      "10.0 83.03349209079842\n",
      "11.0 83.45119771285663\n",
      "12.0 83.87843123370459\n",
      "13.0 84.31255246283378\n",
      "14.0 84.75161783462603\n",
      "15.0 85.194167960408\n",
      "16.0 85.63908813422043\n",
      "17.0 86.08551647761328\n",
      "18.0 86.53277750330327\n",
      "19.0 86.9803384556309\n",
      "20.0 87.427776343381\n"
     ]
    },
    {
     "data": {
      "image/png": "[encoded data removed]",
      "text/plain": [
       "<Figure size 432x288 with 1 Axes>"
      ]
     },
     "metadata": {
      "needs_background": "light"
     },
     "output_type": "display_data"
    },
    {
     "name": "stderr",
     "output_type": "stream",
     "text": [
      "/tmp/ipykernel_41768/2945315957.py:129: RuntimeWarning: divide by zero encountered in log\n",
      "  pyplot.plot(numpy.log(ypoints), fs - result.fun, \"k\")\n"
     ]
    },
    {
     "data": {
      "image/png": "[encoded data removed]",
      "text/plain": [
       "<Figure size 432x288 with 1 Axes>"
      ]
     },
     "metadata": {
      "needs_background": "light"
     },
     "output_type": "display_data"
    },
    {
     "data": {
      "image/png": "[encoded data removed]",
      "text/plain": [
       "<Figure size 432x288 with 1 Axes>"
      ]
     },
     "metadata": {
      "needs_background": "light"
     },
     "output_type": "display_data"
    },
    {
     "name": "stdout",
     "output_type": "stream",
     "text": [
      "[1.962445723062204, 6.155544319141558]\n"
     ]
    }
   ],
   "source": [
    "def test_opt_constrain(model, data, signal_channel_name):\n",
    "    blind_bins = {signal_channel_name}\n",
    "    \n",
    "    # optimization\n",
    "    def f(x):\n",
    "        logy, = blind.model_logpdf_blind(model, x, data, blind_bins)\n",
    "        return -logy\n",
    "    \n",
    "    fjit = jax.jit(jax.value_and_grad(f))\n",
    "          \n",
    "    parameters = numpy.array(model.config.suggested_init())\n",
    "    bounds = numpy.array(model.config.suggested_bounds())\n",
    "    \n",
    "    result = scipy.optimize.minimize(\n",
    "        fjit,\n",
    "        parameters,\n",
    "        bounds=bounds,\n",
    "        jac=True,\n",
    "        method=\"L-BFGS-B\",\n",
    "    )\n",
    "    \n",
    "    # SR yields\n",
    "    slice_ = model.config.channel_slices[signal_channel_name]\n",
    "    \n",
    "    def y(x):\n",
    "        expected_data = model.expected_actualdata(x)\n",
    "        yres, = expected_data[slice_]\n",
    "        return yres\n",
    "    \n",
    "    yjit = jax.jit(y)\n",
    "    \n",
    "    print(\"f = \", result.fun)\n",
    "    print(\"y = \", yjit(result.x))\n",
    "    \n",
    "    # constrain\n",
    "    ygrad = jax.jit(jax.grad(y))\n",
    "    \n",
    "    yfix = 4.0\n",
    "    fix = scipy.optimize.NonlinearConstraint(y, yfix, yfix, jac=ygrad)\n",
    "        \n",
    "    result2 = scipy.optimize.minimize(\n",
    "        fjit,\n",
    "        parameters,\n",
    "        bounds=bounds,\n",
    "        jac=True,\n",
    "        method=\"SLSQP\",\n",
    "        constraints=fix,\n",
    "    )\n",
    "\n",
    "    print(\"f = \", result2.fun)\n",
    "    print(\"y = \", yjit(result2.x))\n",
    "    \n",
    "    # solve for thresholds\n",
    "    ybothgradjit = jax.jit(jax.value_and_grad(y))\n",
    "    fvaluejit = jax.jit(f)\n",
    "    fgradjit = jax.jit(jax.grad(f))\n",
    "    \n",
    "    def yminmax_given_ffix(ffix):\n",
    "        fix = scipy.optimize.NonlinearConstraint(\n",
    "            fvaluejit, \n",
    "            ffix, \n",
    "            ffix, \n",
    "            jac=fgradjit,\n",
    "        )\n",
    "        \n",
    "        result_lo = scipy.optimize.minimize(\n",
    "            ybothgradjit,\n",
    "            parameters,\n",
    "            bounds=bounds,\n",
    "            jac=True,\n",
    "            method=\"SLSQP\",\n",
    "            constraints=fix,\n",
    "        )\n",
    "        \n",
    "        def ymax(x):\n",
    "            value, grad = ybothgradjit(x)\n",
    "            return -value, -grad\n",
    "        \n",
    "        result_hi = scipy.optimize.minimize(\n",
    "            ymax,\n",
    "            parameters,\n",
    "            bounds=bounds,\n",
    "            jac=True,\n",
    "            method=\"SLSQP\",\n",
    "            constraints=fix,\n",
    "        )\n",
    "        \n",
    "        return result_lo.fun, -result_hi.fun\n",
    "    \n",
    "    lo, hi = yminmax_given_ffix(result.fun + 0.5)\n",
    "    print(lo, hi)\n",
    "\n",
    "    # scan\n",
    "    def fmin_given_yfix(yfix):\n",
    "        fix = scipy.optimize.NonlinearConstraint(\n",
    "            y, \n",
    "            yfix, \n",
    "            yfix, \n",
    "            jac=ygrad,\n",
    "        )\n",
    "\n",
    "        result = scipy.optimize.minimize(\n",
    "            fjit,\n",
    "            parameters,\n",
    "            bounds=bounds,\n",
    "            jac=True,\n",
    "            method=\"SLSQP\",\n",
    "            constraints=fix,\n",
    "        )\n",
    "        \n",
    "        return result.fun\n",
    "    \n",
    "    ypoints = numpy.linspace(0., 20., 21)\n",
    "    \n",
    "    fs = []\n",
    "    for yfix in ypoints:\n",
    "        fmin = fmin_given_yfix(yfix)\n",
    "        print(yfix, fmin)\n",
    "        fs.append(fmin)\n",
    "        \n",
    "    fs = numpy.array(fs)\n",
    "    \n",
    "    pyplot.plot(ypoints, fs - result.fun, \"k\")\n",
    "    for sigma in (0, 1, 2, 3):\n",
    "        fsigma = 0.5 * sigma ** 2\n",
    "        pyplot.axhline(fsigma)\n",
    "    pyplot.show()   \n",
    "    \n",
    "    pyplot.plot(numpy.log(ypoints), fs - result.fun, \"k\")\n",
    "    for sigma in (0, 1, 2, 3):\n",
    "        fsigma = 0.5 * sigma ** 2\n",
    "        pyplot.axhline(fsigma)\n",
    "    pyplot.show()\n",
    "    \n",
    "    pyplot.plot(ypoints, numpy.exp(result.fun - fs), \"b\")\n",
    "    pyplot.show()   \n",
    "    \n",
    "    print(piecewise_linear_roots(fs - result.fun - 0.5, ypoints))\n",
    "    \n",
    "\n",
    "test_opt_constrain(MODEL, DATA, SR_NAME)"
   ]
  },
  {
   "cell_type": "code",
   "execution_count": 18,
   "id": "c485bc59",
   "metadata": {},
   "outputs": [
    {
     "name": "stdout",
     "output_type": "stream",
     "text": [
      "3.5 +3.0 -1.5\n"
     ]
    }
   ],
   "source": [
    "def print_fit_stuff():\n",
    "    lo, hi = 2.0101597853190163, 6.4773782077039534\n",
    "    mid = 3.52361816023076\n",
    "    \n",
    "    err_lo = lo - mid\n",
    "    err_hi = hi - mid\n",
    "    print(\"%.1f %+.1f %+.1f\" % (mid, err_hi, err_lo))\n",
    "\n",
    "print_fit_stuff()"
   ]
  },
  {
   "cell_type": "markdown",
   "id": "a21b6179",
   "metadata": {},
   "source": [
    "# cabinetry"
   ]
  },
  {
   "cell_type": "code",
   "execution_count": 19,
   "id": "bc3783ef",
   "metadata": {},
   "outputs": [],
   "source": [
    "import cabinetry\n",
    "import logging\n",
    "import io\n",
    "\n",
    "from contextlib import contextmanager"
   ]
  },
  {
   "cell_type": "code",
   "execution_count": 20,
   "id": "414f26c5",
   "metadata": {},
   "outputs": [],
   "source": [
    "@contextmanager\n",
    "def capture_log(log, level=logging.INFO):\n",
    "    \"\"\"Gather logginfo from log into a buffer in this context.\"\"\"\n",
    "    buffer = io.StringIO()\n",
    "    handler = logging.StreamHandler(buffer)\n",
    "    \n",
    "    level_old = log.level\n",
    "    propagate_old = log.propagate\n",
    "    log.setLevel(level)\n",
    "    log.addHandler(handler)\n",
    "    log.propagate = False\n",
    "    \n",
    "    try:\n",
    "        yield buffer\n",
    "    finally:\n",
    "        log.setLevel(level_old)\n",
    "        log.removeHandler(handler)\n",
    "        log.propagate = propagate_old\n",
    "\n",
    "\n",
    "def cabinetry_yields_table(prediction, data):\n",
    "    with capture_log(cabinetry.tabulate.log) as buffer:\n",
    "        cabinetry.tabulate.yields(prediction, data)    \n",
    "    return buffer.getvalue()"
   ]
  },
  {
   "cell_type": "code",
   "execution_count": 21,
   "id": "7b7b725f",
   "metadata": {
    "scrolled": false
   },
   "outputs": [
    {
     "name": "stdout",
     "output_type": "stream",
     "text": [
      "yields per bin for post-fit model prediction:\n",
      "╒════════════════════╤═════════════════╤══════════════╤══════════════════════╕\n",
      "│ sample             │ CRZZ_cuts       │ CRttZ_cuts   │ SR0bvetotight_cuts   │\n",
      "│                    │ bin 1           │ bin 1        │ bin 1                │\n",
      "╞════════════════════╪═════════════════╪══════════════╪══════════════════════╡\n",
      "│ MG5Py8_4t          │ 0.00            │ 0.12         │ 0.00                 │\n",
      "├────────────────────┼─────────────────┼──────────────┼──────────────────────┤\n",
      "│ MG5Py8_tZ_3l       │ 0.00            │ 0.01         │ 0.00                 │\n",
      "├────────────────────┼─────────────────┼──────────────┼──────────────────────┤\n",
      "│ MG5Py8_ttXX        │ 0.01            │ 0.74         │ 0.01                 │\n",
      "├────────────────────┼─────────────────┼──────────────┼──────────────────────┤\n",
      "│ PowHegPy8_WH       │ 0.05            │ 0.01         │ 0.00                 │\n",
      "├────────────────────┼─────────────────┼──────────────┼──────────────────────┤\n",
      "│ PowHegPy8_ZHtautau │ 0.54            │ 0.03         │ 0.01                 │\n",
      "├────────────────────┼─────────────────┼──────────────┼──────────────────────┤\n",
      "│ PowHegPy8_ggH      │ 0.00            │ 0.01         │ 0.00                 │\n",
      "├────────────────────┼─────────────────┼──────────────┼──────────────────────┤\n",
      "│ PowHegPy8_ttH      │ 0.02            │ 1.53         │ 0.01                 │\n",
      "├────────────────────┼─────────────────┼──────────────┼──────────────────────┤\n",
      "│ Reducible          │ 45.95           │ 9.49         │ 1.36                 │\n",
      "├────────────────────┼─────────────────┼──────────────┼──────────────────────┤\n",
      "│ Sherpa221_VVV      │ 21.19           │ 0.98         │ 0.21                 │\n",
      "├────────────────────┼─────────────────┼──────────────┼──────────────────────┤\n",
      "│ Sherpa222_VV       │ 2306.38         │ 0.98         │ 0.59                 │\n",
      "├────────────────────┼─────────────────┼──────────────┼──────────────────────┤\n",
      "│ Sherpa222_ggZZnoH  │ 179.97          │ 0.05         │ 0.00                 │\n",
      "├────────────────────┼─────────────────┼──────────────┼──────────────────────┤\n",
      "│ aMCatNLOPy8_ttZ    │ 0.49            │ 41.25        │ 0.02                 │\n",
      "├────────────────────┼─────────────────┼──────────────┼──────────────────────┤\n",
      "│ aMcAtNlo_tWZ       │ 0.16            │ 6.76         │ 0.02                 │\n",
      "├────────────────────┼─────────────────┼──────────────┼──────────────────────┤\n",
      "│ total              │ 2554.77 ± 52.21 │ 61.97 ± 7.85 │ 2.23 ± 0.95          │\n",
      "├────────────────────┼─────────────────┼──────────────┼──────────────────────┤\n",
      "│ data               │ 2555.00         │ 62.00        │ 1.00                 │\n",
      "╘════════════════════╧═════════════════╧══════════════╧══════════════════════╛\n",
      "\n"
     ]
    }
   ],
   "source": [
    "def fit_cabinetry(model, data):\n",
    "    fit_results = cabinetry.fit.fit(model, data)\n",
    "\n",
    "    postfit = cabinetry.model_utils.prediction(model, fit_results=fit_results)\n",
    "\n",
    "    table_postfit = cabinetry_yields_table(postfit, data)\n",
    "    print(table_postfit)\n",
    "\n",
    "fit_cabinetry(MODEL, DATA)"
   ]
  },
  {
   "cell_type": "code",
   "execution_count": 22,
   "id": "8fa2eb1f",
   "metadata": {},
   "outputs": [],
   "source": [
    "MODEL_NO_SR, DATA_NO_SR = make_model_and_data(SPEC, POI_NAME, {\"CRZZ_cuts\", \"CRttZ_cuts\"})"
   ]
  },
  {
   "cell_type": "code",
   "execution_count": 23,
   "id": "469d7da9",
   "metadata": {
    "scrolled": false
   },
   "outputs": [
    {
     "name": "stdout",
     "output_type": "stream",
     "text": [
      "ModelPrediction(model=<pyhf.pdf.Model object at 0x7f78a013fd00>, model_yields=[[[0.0], [0.0017450382442892017], [0.011749028444414665], [0.04847772696016533], [0.5432347059955037], [0.002215784236365955], [0.01702226118890966], [51.113280241988086], [21.29454172969963], [2302.8801259919933], [178.23967907412245], [0.488926253576734], [0.15968841913619736]], [[0.11771417601453919], [0.00998088797954614], [0.7382586271165797], [0.012333186232736168], [0.03112120447899264], [0.01463350652584426], [1.5318298427923356], [9.572208897027291], [0.9906692910170196], [1.0070482412443482], [0.054242984353553195], [41.16322182512556], [6.759086763206892]], [[0.0031622416268374154], [0.0], [0.008883028948953972], [0.0004617457198707693], [0.00815058933355714], [0.000563609925966262], [0.010375995599574148], [2.6029763678587643], [0.21077362360817653], [0.6329836778606057], [0.002728988707027682], [0.020295650921750803], [0.019759399536498017]]], total_stdev_model_bins=[[50.538170775336255], [7.855838071578559], [0.753383545744504]], total_stdev_model_channels=[50.538170775336255, 7.855838071578559, 0.753383545744504], label='post-fit')\n",
      "[2554.80068626   62.00234943    3.52111492]\n",
      "yields per bin for post-fit model prediction:\n",
      "╒════════════════════╤═════════════════╤══════════════╤══════════════════════╕\n",
      "│ sample             │ CRZZ_cuts       │ CRttZ_cuts   │ SR0bvetotight_cuts   │\n",
      "│                    │ bin 1           │ bin 1        │ bin 1                │\n",
      "╞════════════════════╪═════════════════╪══════════════╪══════════════════════╡\n",
      "│ MG5Py8_4t          │ 0.00            │ 0.12         │ 0.00                 │\n",
      "├────────────────────┼─────────────────┼──────────────┼──────────────────────┤\n",
      "│ MG5Py8_tZ_3l       │ 0.00            │ 0.01         │ 0.00                 │\n",
      "├────────────────────┼─────────────────┼──────────────┼──────────────────────┤\n",
      "│ MG5Py8_ttXX        │ 0.01            │ 0.74         │ 0.01                 │\n",
      "├────────────────────┼─────────────────┼──────────────┼──────────────────────┤\n",
      "│ PowHegPy8_WH       │ 0.05            │ 0.01         │ 0.00                 │\n",
      "├────────────────────┼─────────────────┼──────────────┼──────────────────────┤\n",
      "│ PowHegPy8_ZHtautau │ 0.54            │ 0.03         │ 0.01                 │\n",
      "├────────────────────┼─────────────────┼──────────────┼──────────────────────┤\n",
      "│ PowHegPy8_ggH      │ 0.00            │ 0.01         │ 0.00                 │\n",
      "├────────────────────┼─────────────────┼──────────────┼──────────────────────┤\n",
      "│ PowHegPy8_ttH      │ 0.02            │ 1.53         │ 0.01                 │\n",
      "├────────────────────┼─────────────────┼──────────────┼──────────────────────┤\n",
      "│ Reducible          │ 51.11           │ 9.57         │ 2.60                 │\n",
      "├────────────────────┼─────────────────┼──────────────┼──────────────────────┤\n",
      "│ Sherpa221_VVV      │ 21.29           │ 0.99         │ 0.21                 │\n",
      "├────────────────────┼─────────────────┼──────────────┼──────────────────────┤\n",
      "│ Sherpa222_VV       │ 2302.88         │ 1.01         │ 0.63                 │\n",
      "├────────────────────┼─────────────────┼──────────────┼──────────────────────┤\n",
      "│ Sherpa222_ggZZnoH  │ 178.24          │ 0.05         │ 0.00                 │\n",
      "├────────────────────┼─────────────────┼──────────────┼──────────────────────┤\n",
      "│ aMCatNLOPy8_ttZ    │ 0.49            │ 41.16        │ 0.02                 │\n",
      "├────────────────────┼─────────────────┼──────────────┼──────────────────────┤\n",
      "│ aMcAtNlo_tWZ       │ 0.16            │ 6.76         │ 0.02                 │\n",
      "├────────────────────┼─────────────────┼──────────────┼──────────────────────┤\n",
      "│ total              │ 2554.80 ± 50.54 │ 62.00 ± 7.86 │ 3.52 ± 0.75          │\n",
      "├────────────────────┼─────────────────┼──────────────┼──────────────────────┤\n",
      "│ data               │ 2555.00         │ 62.00        │ 1.00                 │\n",
      "╘════════════════════╧═════════════════╧══════════════╧══════════════════════╛\n",
      "\n",
      "yields per bin for post-fit model prediction:\n",
      "╒════════════════════╤═════════════════╤══════════════╤══════════════════════╕\n",
      "│ sample             │ CRZZ_cuts       │ CRttZ_cuts   │ SR0bvetotight_cuts   │\n",
      "│                    │ bin 1           │ bin 1        │ bin 1                │\n",
      "╞════════════════════╪═════════════════╪══════════════╪══════════════════════╡\n",
      "│ MG5Py8_4t          │ 0.00            │ 0.12         │ 0.00                 │\n",
      "├────────────────────┼─────────────────┼──────────────┼──────────────────────┤\n",
      "│ MG5Py8_tZ_3l       │ 0.00            │ 0.01         │ 0.00                 │\n",
      "├────────────────────┼─────────────────┼──────────────┼──────────────────────┤\n",
      "│ MG5Py8_ttXX        │ 0.01            │ 0.74         │ 0.01                 │\n",
      "├────────────────────┼─────────────────┼──────────────┼──────────────────────┤\n",
      "│ PowHegPy8_WH       │ 0.05            │ 0.01         │ 0.00                 │\n",
      "├────────────────────┼─────────────────┼──────────────┼──────────────────────┤\n",
      "│ PowHegPy8_ZHtautau │ 0.54            │ 0.03         │ 0.01                 │\n",
      "├────────────────────┼─────────────────┼──────────────┼──────────────────────┤\n",
      "│ PowHegPy8_ggH      │ 0.00            │ 0.01         │ 0.00                 │\n",
      "├────────────────────┼─────────────────┼──────────────┼──────────────────────┤\n",
      "│ PowHegPy8_ttH      │ 0.02            │ 1.53         │ 0.01                 │\n",
      "├────────────────────┼─────────────────┼──────────────┼──────────────────────┤\n",
      "│ Reducible          │ 45.95           │ 9.49         │ 1.36                 │\n",
      "├────────────────────┼─────────────────┼──────────────┼──────────────────────┤\n",
      "│ Sherpa221_VVV      │ 21.19           │ 0.98         │ 0.21                 │\n",
      "├────────────────────┼─────────────────┼──────────────┼──────────────────────┤\n",
      "│ Sherpa222_VV       │ 2306.38         │ 0.98         │ 0.59                 │\n",
      "├────────────────────┼─────────────────┼──────────────┼──────────────────────┤\n",
      "│ Sherpa222_ggZZnoH  │ 179.97          │ 0.05         │ 0.00                 │\n",
      "├────────────────────┼─────────────────┼──────────────┼──────────────────────┤\n",
      "│ aMCatNLOPy8_ttZ    │ 0.49            │ 41.25        │ 0.02                 │\n",
      "├────────────────────┼─────────────────┼──────────────┼──────────────────────┤\n",
      "│ aMcAtNlo_tWZ       │ 0.16            │ 6.76         │ 0.02                 │\n",
      "├────────────────────┼─────────────────┼──────────────┼──────────────────────┤\n",
      "│ total              │ 2554.77 ± 52.21 │ 61.97 ± 7.85 │ 2.23 ± 0.95          │\n",
      "├────────────────────┼─────────────────┼──────────────┼──────────────────────┤\n",
      "│ data               │ 2555.00         │ 62.00        │ 1.00                 │\n",
      "╘════════════════════╧═════════════════╧══════════════╧══════════════════════╛\n",
      "\n"
     ]
    }
   ],
   "source": [
    "def fit_cabinetry_no_sr(model_no_sr, data_no_sr, model, data):\n",
    "    fit_results_no_sr = cabinetry.fit.fit(model_no_sr, data_no_sr)\n",
    "    fit_results = cabinetry.fit.fit(model, data)\n",
    "    \n",
    "    fit_results_vr = cabinetry.model_utils.match_fit_results(model, fit_results_no_sr)\n",
    "\n",
    "    prefit = cabinetry.model_utils.prediction(model, fit_results=fit_results_vr)\n",
    "    print(prefit)\n",
    "    print(numpy.sum(prefit.model_yields, axis=(1, 2)))\n",
    "    table_prefit = cabinetry_yields_table(prefit, data)\n",
    "    print(table_prefit)\n",
    "    \n",
    "    postfit = cabinetry.model_utils.prediction(model, fit_results=fit_results)\n",
    "    \n",
    "    table_postfit = cabinetry_yields_table(postfit, data)\n",
    "    print(table_postfit)\n",
    "\n",
    "\n",
    "fit_cabinetry_no_sr(MODEL_NO_SR, DATA_NO_SR, MODEL, DATA)"
   ]
  },
  {
   "cell_type": "markdown",
   "id": "7d66376d",
   "metadata": {},
   "source": [
    "# TODO: minimal reproduction for 4L\n",
    "# TODO: extract SR yields only\n",
    "# TODO: print all (not wrong CRs for  5L)"
   ]
  }
 ],
 "metadata": {
  "kernelspec": {
   "display_name": "Python 3 (ipykernel)",
   "language": "python",
   "name": "python3"
  },
  "language_info": {
   "codemirror_mode": {
    "name": "ipython",
    "version": 3
   },
   "file_extension": ".py",
   "mimetype": "text/x-python",
   "name": "python",
   "nbconvert_exporter": "python",
   "pygments_lexer": "ipython3",
   "version": "3.10.4"
  }
 },
 "nbformat": 4,
 "nbformat_minor": 5
}
