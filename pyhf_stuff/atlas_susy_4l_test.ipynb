{
 "cells": [
  {
   "cell_type": "code",
   "execution_count": 1,
   "id": "29156c57",
   "metadata": {},
   "outputs": [],
   "source": [
    "import json\n",
    "import copy\n",
    "\n",
    "import numpy\n",
    "import pyhf\n",
    "\n",
    "import blind\n",
    "import jsongz"
   ]
  },
  {
   "cell_type": "code",
   "execution_count": 2,
   "id": "e3b9aa8f",
   "metadata": {},
   "outputs": [],
   "source": [
    "import jax\n",
    "import scipy.optimize\n",
    "\n",
    "jax.config.update(\"jax_platform_name\", \"cpu\")\n",
    "jax.config.update(\"jax_enable_x64\", True)\n",
    "pyhf.set_backend(\"jax\")"
   ]
  },
  {
   "cell_type": "code",
   "execution_count": 3,
   "id": "a8428db8",
   "metadata": {},
   "outputs": [],
   "source": [
    "SPEC = jsongz.load(\"ins1852821_bkg.json.gz\")\n",
    "# SPEC = jsongz.load(\"ins1852821_signal.json.gz\")"
   ]
  },
  {
   "cell_type": "code",
   "execution_count": 4,
   "id": "36fe487c",
   "metadata": {},
   "outputs": [],
   "source": [
    "# SR_NAME = \"SR0bvetotight_cuts\"\n",
    "SR_NAME = \"SR0ZZloose_cuts\""
   ]
  },
  {
   "cell_type": "code",
   "execution_count": 5,
   "id": "30d0d7f7",
   "metadata": {},
   "outputs": [],
   "source": [
    "def get_named(seq, name):\n",
    "    for item in seq:\n",
    "        if item[\"name\"] == name:\n",
    "            return item\n",
    "    raise KeyError(name)"
   ]
  },
  {
   "cell_type": "code",
   "execution_count": 6,
   "id": "3efd0bc6",
   "metadata": {},
   "outputs": [],
   "source": [
    "def add_signal(\n",
    "    spec,\n",
    "    channel_name,\n",
    "    measurement_name=\"NormalMeasurement\",\n",
    "    poi_name=\"mu_SIG\",\n",
    "):\n",
    "    # add a dummy signal to its channel\n",
    "    channel = get_named(spec[\"channels\"], channel_name)\n",
    "\n",
    "    channel[\"samples\"].append({\n",
    "        \"data\": [0.0],\n",
    "        \"modifiers\": [{\n",
    "            \"data\": None,\n",
    "            \"name\": poi_name,\n",
    "            \"type\": \"normfactor\", \n",
    "        }],\n",
    "        \"name\": \"signal\",\n",
    "    })\n",
    "    \n",
    "    # add a its modifier name to the measurement\n",
    "    measurement = get_named(spec[\"measurements\"], measurement_name)\n",
    "    measurement[\"config\"][\"parameters\"].append({\n",
    "        \"bounds\": [[0.0, 2.0]],\n",
    "        \"fixed\": False,\n",
    "        \"inits\": [1.0],\n",
    "        \"name\": poi_name,\n",
    "    })\n",
    "    measurement[\"config\"][\"poi\"] = poi_name\n",
    "    \n",
    "    return spec"
   ]
  },
  {
   "cell_type": "code",
   "execution_count": 7,
   "id": "80ffa3fe",
   "metadata": {},
   "outputs": [],
   "source": [
    "def make_model_and_data(spec, signal_channel_name):\n",
    "    spec = copy.deepcopy(spec)\n",
    "    spec = add_signal(spec, signal_channel_name)\n",
    "    workspace = pyhf.workspace.Workspace(spec)\n",
    "    \n",
    "    channels_keep = {\n",
    "        signal_channel_name,\n",
    "        # TODO arguments?\n",
    "        \"CRZZ_cuts\",\n",
    "        \"CRttZ_cuts\",\n",
    "    }\n",
    "        \n",
    "    channels_prune = workspace.channel_slices.keys() - channels_keep\n",
    "    \n",
    "    workspace_pruned = workspace.prune(channels=channels_prune)\n",
    "    \n",
    "    model = workspace_pruned.model()\n",
    "    data = numpy.array(workspace_pruned.data(model))\n",
    "    \n",
    "    return model, data\n",
    "\n",
    "\n",
    "MODEL, DATA = make_model_and_data(SPEC, SR_NAME)"
   ]
  },
  {
   "cell_type": "code",
   "execution_count": 8,
   "id": "d11ecf60",
   "metadata": {},
   "outputs": [
    {
     "name": "stdout",
     "output_type": "stream",
     "text": [
      "[-105.97103393]\n",
      "[-105.97103393]\n",
      "[-101.97906232]\n",
      "[144.28615681] [157.]\n",
      "[-3.99197161]\n",
      "[-105.97103393]\n"
     ]
    }
   ],
   "source": [
    "def test_logpdf(model, data, signal_channel_name):\n",
    "    parameters = numpy.array(model.config.suggested_init())\n",
    "    \n",
    "    print(model.logpdf(parameters, data))\n",
    "    \n",
    "    print(blind.model_logpdf_blind(model, parameters, data, []))\n",
    "    \n",
    "    logf = blind.model_logpdf_blind(model, parameters, data, {signal_channel_name})\n",
    "    print(logf)\n",
    "\n",
    "    slice_ = model.config.channel_slices[signal_channel_name]\n",
    "    expected_data = model.expected_actualdata(parameters)\n",
    "    mu = expected_data[slice_]\n",
    "    nobs = data[slice_]\n",
    "    print(mu, nobs)\n",
    "\n",
    "    loglikelihood = pyhf.probability.Poisson(mu).log_prob(numpy.array(nobs))\n",
    "    print(loglikelihood)\n",
    "    print(logf + loglikelihood)\n",
    "\n",
    "\n",
    "test_logpdf(MODEL, DATA, SR_NAME)"
   ]
  },
  {
   "cell_type": "code",
   "execution_count": 9,
   "id": "c7f8f9ac",
   "metadata": {},
   "outputs": [
    {
     "name": "stdout",
     "output_type": "stream",
     "text": [
      "1.0\n"
     ]
    }
   ],
   "source": [
    "def test_hess():\n",
    "    def f(x):\n",
    "        return 0.5 * x ** 2\n",
    "    \n",
    "    print(jax.hessian(f)(0.1))\n",
    "    \n",
    "test_hess()"
   ]
  },
  {
   "cell_type": "code",
   "execution_count": 10,
   "id": "0807ab62",
   "metadata": {},
   "outputs": [],
   "source": [
    "def inner_product(x, c):\n",
    "    return x.dot(c.dot(x))"
   ]
  },
  {
   "cell_type": "code",
   "execution_count": 11,
   "id": "d1e14429",
   "metadata": {},
   "outputs": [],
   "source": [
    "def d2fdx2(fminus, f, fplus, eps):\n",
    "    return ((fplus - f) - (f - fminus)) / eps ** 2"
   ]
  },
  {
   "cell_type": "code",
   "execution_count": 12,
   "id": "de862f11",
   "metadata": {
    "scrolled": false
   },
   "outputs": [
    {
     "name": "stdout",
     "output_type": "stream",
     "text": [
      "101.97906231564971\n",
      "      fun: 80.16637890947715\n",
      " hess_inv: <99x99 LbfgsInvHessProduct with dtype=float64>\n",
      "      jac: array([-2.63176379e-02,  0.00000000e+00,  6.21899187e-05,  2.86279983e-06,\n",
      "        3.08237655e-07,  1.76529066e-08,  1.26341255e-06, -1.77251172e-07,\n",
      "        2.68654848e-06, -5.99351291e-07, -1.51296082e-06, -1.08804916e-05,\n",
      "       -1.20997963e-05, -2.93091429e-06,  3.17972131e-06, -2.54529769e-06,\n",
      "       -5.70551087e-05,  4.35344098e-05,  2.09393092e-05,  1.35850853e-05,\n",
      "       -7.39881927e-06,  5.69339832e-06,  0.00000000e+00,  1.43000027e-05,\n",
      "        2.90790711e-05,  2.66584414e-05,  5.54546785e-06, -1.29090211e-06,\n",
      "        2.43114820e-04,  0.00000000e+00,  2.65374718e-05, -4.29519718e-06,\n",
      "       -2.46554387e-06, -1.40414983e-05, -1.55818629e-05, -3.13001696e-05,\n",
      "        8.09581830e-05,  1.79290707e-05, -6.29505916e-06, -9.44049656e-06,\n",
      "       -9.99091942e-06,  2.74049950e-05,  2.48982782e-10,  2.76722690e-08,\n",
      "       -1.23242421e-06, -2.92237853e-05,  9.05852423e-06,  8.86711470e-06,\n",
      "        1.31819838e-07,  5.46248617e-07, -4.80226979e-06,  2.27545391e-06,\n",
      "       -1.80969845e-04, -5.39776553e-04, -9.47952377e-05, -2.20528386e-04,\n",
      "        1.58479118e-03, -4.30962017e-04,  0.00000000e+00,  3.90327175e-04,\n",
      "       -8.23342018e-04, -2.72015883e-03, -2.21415665e-03,  3.65161058e-02,\n",
      "        2.18280177e-05,  1.09489849e-04,  1.87543319e-04,  8.90959595e-05,\n",
      "        0.00000000e+00,  0.00000000e+00,  3.38424640e-02,  5.81001165e-07,\n",
      "       -1.44975899e-07,  6.72472258e-08, -1.50998556e-09,  3.40767594e-08,\n",
      "        4.96467807e-08, -3.27659098e-08,  1.57620202e-09, -3.00908678e-08,\n",
      "        2.98889491e-09, -1.41269289e-09,  2.40180472e-10,  2.82677234e-08,\n",
      "        3.77691903e-08, -3.60008162e-08,  3.30160828e-04,  2.80179620e-05,\n",
      "        8.69776205e-05, -1.15394745e-03, -8.76235983e-03,  1.75025835e-07,\n",
      "        2.53394603e-07, -4.66299928e-07, -9.14321235e-09,  2.62537868e-07,\n",
      "        3.43803113e-05,  1.25135212e-04, -9.19563826e-04])\n",
      "  message: 'CONVERGENCE: REL_REDUCTION_OF_F_<=_FACTR*EPSMCH'\n",
      "     nfev: 68\n",
      "      nit: 58\n",
      "     njev: 68\n",
      "   status: 0\n",
      "  success: True\n",
      "        x: array([ 9.99992167e-01,  1.00000000e+00,  4.01858573e-05,  2.61241769e-06,\n",
      "        2.38183479e-07,  1.36408553e-08,  4.29328245e-06,  2.86036359e-09,\n",
      "        2.08099301e-06,  4.47764641e-06,  1.56058935e-06, -6.90251322e-06,\n",
      "       -8.31617873e-06, -1.02194760e-06,  3.35503030e-06, -7.86419913e-07,\n",
      "       -4.33663842e-05,  3.39452982e-05,  1.61223721e-05,  8.38623515e-06,\n",
      "       -8.10921848e-06,  4.49858249e-06,  0.00000000e+00,  1.19086622e-05,\n",
      "        2.77201699e-05,  2.06356403e-05,  4.33785478e-06, -1.09314495e-06,\n",
      "        1.87406975e-04,  0.00000000e+00,  2.04717122e-05, -3.47964230e-06,\n",
      "       -1.97708276e-06,  7.01517932e-07, -1.20435549e-05, -1.04830981e-05,\n",
      "        5.68783625e-07,  1.38314318e-05, -4.85473227e-06, -7.29091437e-06,\n",
      "       -7.70641361e-06,  2.11519449e-05, -1.47557096e-10,  9.07998651e-09,\n",
      "       -9.71565617e-07, -2.25676183e-05,  7.03496688e-06,  6.80872941e-06,\n",
      "        1.00253452e-07,  2.81037757e-07, -3.37110974e-06,  1.77612708e-07,\n",
      "       -1.36461161e-04, -4.07101315e-04, -7.11898906e-05, -1.66900621e-04,\n",
      "        1.05921183e+00,  1.71174120e-04,  0.00000000e+00, -1.54728670e-04,\n",
      "        9.14378933e-05, -4.38085224e-04, -3.01230640e-04,  1.14757357e+00,\n",
      "       -1.31888635e-05, -4.54354767e-05,  8.21849070e-05, -4.72534087e-06,\n",
      "        1.00000000e+00,  1.00000000e+00,  9.99999964e-01,  3.96949100e-07,\n",
      "       -6.21254595e-08, -5.90735231e-09,  8.94861258e-10, -1.74660035e-08,\n",
      "       -2.54959676e-08,  1.67899471e-08, -9.34103038e-10,  1.54103282e-08,\n",
      "       -1.77130628e-09,  8.37203245e-10, -1.42340498e-10,  1.37540034e-08,\n",
      "       -1.94789497e-08,  1.85669365e-08, -1.36266209e-04,  1.13783304e-05,\n",
      "        4.95522028e-05,  9.99926746e-01,  9.99998463e-01,  1.35246968e-07,\n",
      "        1.95804260e-07, -3.60321871e-07, -7.06521197e-09,  2.02869504e-07,\n",
      "        2.65964113e-05,  9.68088043e-05,  9.99857330e-01])\n",
      "144.2861568104854\n",
      "161.24062469925587\n",
      "cov_det\n",
      "1.709040054356993e-05\n",
      "nan\n",
      "std\n",
      "1002.9317462435688\n",
      "nan\n",
      "d2fdx2\n"
     ]
    },
    {
     "name": "stderr",
     "output_type": "stream",
     "text": [
      "/home/tombs/Cambridge/interval-evidence/env/lib/python3.10/site-packages/numpy/linalg/linalg.py:2158: RuntimeWarning: invalid value encountered in det\n",
      "  r = _umath_linalg.det(a, signature=signature)\n"
     ]
    },
    {
     "name": "stdout",
     "output_type": "stream",
     "text": [
      "522011714.56545126\n",
      "4.376831983832624e-05\n",
      "[4.37683198e-05]\n",
      "delta=0.00026479148496605376\n",
      "4.345432364018805e-05 23012.669769761775\n"
     ]
    }
   ],
   "source": [
    "def test_opt(model, data, signal_channel_name):\n",
    "    blind_bins = {signal_channel_name}\n",
    "#     blind_bins = []\n",
    "    \n",
    "    def f(x):\n",
    "        logy, = blind.model_logpdf_blind(model, x, data, blind_bins)\n",
    "        return -logy\n",
    "    \n",
    "    fjit = jax.jit(jax.value_and_grad(f))\n",
    "          \n",
    "    parameters = numpy.array(model.config.suggested_init())\n",
    "    bounds = numpy.array(model.config.suggested_bounds())\n",
    "    \n",
    "    print(fjit(parameters)[0])\n",
    "\n",
    "    result = scipy.optimize.minimize(\n",
    "        fjit,\n",
    "        parameters,\n",
    "        bounds=bounds,\n",
    "        jac=True,\n",
    "    )\n",
    "    \n",
    "    print(result)\n",
    "    \n",
    "    # SR yields\n",
    "    slice_ = model.config.channel_slices[signal_channel_name]\n",
    "    \n",
    "    def y(x):\n",
    "        expected_data = model.expected_actualdata(x)\n",
    "        yres, = expected_data[slice_]\n",
    "        return yres\n",
    "    \n",
    "    print(y(parameters))\n",
    "    print(y(result.x))\n",
    "    \n",
    "    ygrad = jax.grad(y)(result.x)\n",
    "    \n",
    "    def cov_jax(x):\n",
    "        hess = jax.hessian(f)(x)\n",
    "        return jax.numpy.linalg.inv(hess)\n",
    "    \n",
    "    cov_lbfgs = result.hess_inv.todense()\n",
    "    cov = numpy.array(cov_jax(result.x))\n",
    "    \n",
    "    print(\"cov_det\")\n",
    "    print(numpy.linalg.det(cov_lbfgs))\n",
    "    print(numpy.linalg.det(cov))\n",
    "    \n",
    "    var_lbfgs = inner_product(ygrad, result.hess_inv)\n",
    "    var = inner_product(ygrad, cov)\n",
    "    \n",
    "    print(\"std\")\n",
    "    print(var_lbfgs ** 0.5)\n",
    "    # jax hessian seems to give broken answers - numerical failure?\n",
    "    print(var ** 0.5)\n",
    "    \n",
    "    # try numerical derivatives\n",
    "    eps = 1e-6\n",
    "    fplus = f(result.x + eps * ygrad)\n",
    "    fminus = f(result.x - eps * ygrad)\n",
    "    \n",
    "    print(\"d2fdx2\")\n",
    "    hess = d2fdx2(fminus, result.fun, fplus, eps)\n",
    "    print(hess)\n",
    "    print(1 / hess ** 0.5)\n",
    "    \n",
    "    print((numpy.diff([fminus, result.fun, fplus], n=2) / eps ** 2) ** -0.5)\n",
    "    \n",
    "    delta = float(fplus - result.fun)\n",
    "    print(f\"{delta=}\")\n",
    "    var = 0.5 * eps ** 2 / delta\n",
    "    print(var ** 0.5, 1 / var ** 0.5)\n",
    "\n",
    "\n",
    "test_opt(MODEL, DATA, SR_NAME)"
   ]
  },
  {
   "cell_type": "markdown",
   "id": "421a8ad5",
   "metadata": {},
   "source": [
    "# TODO optimize with constraints"
   ]
  },
  {
   "cell_type": "markdown",
   "id": "31221f91",
   "metadata": {},
   "source": [
    "# TODO try cabinetry"
   ]
  },
  {
   "cell_type": "code",
   "execution_count": null,
   "id": "dc41ab99",
   "metadata": {},
   "outputs": [],
   "source": []
  }
 ],
 "metadata": {
  "kernelspec": {
   "display_name": "Python 3 (ipykernel)",
   "language": "python",
   "name": "python3"
  },
  "language_info": {
   "codemirror_mode": {
    "name": "ipython",
    "version": 3
   },
   "file_extension": ".py",
   "mimetype": "text/x-python",
   "name": "python",
   "nbconvert_exporter": "python",
   "pygments_lexer": "ipython3",
   "version": "3.10.4"
  }
 },
 "nbformat": 4,
 "nbformat_minor": 5
}
