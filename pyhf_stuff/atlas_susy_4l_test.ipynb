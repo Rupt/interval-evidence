{
 "cells": [
  {
   "cell_type": "code",
   "execution_count": 6,
   "id": "7f64adff",
   "metadata": {},
   "outputs": [],
   "source": [
    "import json\n",
    "import copy\n",
    "import pyhf\n",
    "\n",
    "SPEC = json.load(open(\"ins1852821_bkg.json\"))"
   ]
  },
  {
   "cell_type": "code",
   "execution_count": 21,
   "id": "caa12722",
   "metadata": {},
   "outputs": [],
   "source": [
    "import gzip\n",
    "\n",
    "\n"
   ]
  },
  {
   "cell_type": "code",
   "execution_count": 23,
   "id": "61e6a23b",
   "metadata": {},
   "outputs": [],
   "source": [
    "\n"
   ]
  },
  {
   "cell_type": "code",
   "execution_count": 7,
   "id": "bea1e41e",
   "metadata": {},
   "outputs": [],
   "source": [
    "def get_named(seq, name):\n",
    "    for item in seq:\n",
    "        if item[\"name\"] == name:\n",
    "            return item\n",
    "    raise KeyError(name)"
   ]
  },
  {
   "cell_type": "code",
   "execution_count": 8,
   "id": "2549bc7b",
   "metadata": {},
   "outputs": [],
   "source": [
    "def add_signal(\n",
    "    spec,\n",
    "    channel_name,\n",
    "    measurement_name=\"NormalMeasurement\",\n",
    "    poi_name=\"mu_SIG\",\n",
    "):\n",
    "    # add a dummy signal to its channel\n",
    "    channel = get_named(spec[\"channels\"], channel_name)\n",
    "\n",
    "    channel[\"samples\"].append({\n",
    "        \"data\": [0.0],\n",
    "        \"modifiers\": [{\n",
    "            \"data\": None,\n",
    "            \"name\": poi_name,\n",
    "            \"type\": \"normfactor\", \n",
    "        }],\n",
    "        \"name\": \"signal\",\n",
    "    })\n",
    "    \n",
    "    # add a its modifier name to the measurement\n",
    "    measurement = get_named(spec[\"measurements\"], measurement_name)\n",
    "    measurement[\"config\"][\"parameters\"].append({\n",
    "        \"bounds\": [[0.0, 2.0]],\n",
    "        \"fixed\": False,\n",
    "        \"inits\": [1.0],\n",
    "        \"name\": poi_name,\n",
    "    })\n",
    "    measurement[\"config\"][\"poi\"] = poi_name\n",
    "    \n",
    "    return spec"
   ]
  },
  {
   "cell_type": "code",
   "execution_count": 12,
   "id": "202bc5d1",
   "metadata": {},
   "outputs": [
    {
     "name": "stdout",
     "output_type": "stream",
     "text": [
      "['CRZZ_cuts', 'CRttZ_cuts', 'SR0bvetotight_cuts']\n",
      "True\n"
     ]
    }
   ],
   "source": [
    "def make_model(spec, signal_channel_name):\n",
    "    spec = copy.deepcopy(spec)\n",
    "    spec = add_signal(spec, signal_channel_name)\n",
    "    workspace = pyhf.workspace.Workspace(spec)\n",
    "    \n",
    "    channels_keep = {\n",
    "        signal_channel_name,\n",
    "        # TODO\n",
    "        \"CRZZ_cuts\",\n",
    "        \"CRttZ_cuts\",\n",
    "    }\n",
    "        \n",
    "    channels_prune = workspace.channel_slices.keys() - channels_keep\n",
    "    \n",
    "    return workspace.prune(channels=channels_prune).model()\n",
    "    \n",
    "\n",
    "\n",
    "MODEL = make_model(copy.deepcopy(SPEC), \"SR0bvetotight_cuts\")"
   ]
  }
 ],
 "metadata": {
  "kernelspec": {
   "display_name": "Python 3 (ipykernel)",
   "language": "python",
   "name": "python3"
  },
  "language_info": {
   "codemirror_mode": {
    "name": "ipython",
    "version": 3
   },
   "file_extension": ".py",
   "mimetype": "text/x-python",
   "name": "python",
   "nbconvert_exporter": "python",
   "pygments_lexer": "ipython3",
   "version": "3.10.4"
  }
 },
 "nbformat": 4,
 "nbformat_minor": 5
}
