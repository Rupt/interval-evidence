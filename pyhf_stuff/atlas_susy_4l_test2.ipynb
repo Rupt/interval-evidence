{
 "cells": [
  {
   "cell_type": "code",
   "execution_count": 1,
   "id": "29156c57",
   "metadata": {},
   "outputs": [],
   "source": [
    "import json\n",
    "import copy\n",
    "\n",
    "import numpy\n",
    "import matplotlib\n",
    "from matplotlib import pyplot\n",
    "import pyhf\n",
    "\n",
    "import blind\n",
    "import jsongz"
   ]
  },
  {
   "cell_type": "code",
   "execution_count": 2,
   "id": "e3b9aa8f",
   "metadata": {},
   "outputs": [],
   "source": [
    "import jax\n",
    "import scipy.optimize\n",
    "\n",
    "jax.config.update(\"jax_platform_name\", \"cpu\")\n",
    "jax.config.update(\"jax_enable_x64\", True)\n",
    "pyhf.set_backend(\"jax\")"
   ]
  },
  {
   "cell_type": "code",
   "execution_count": 3,
   "id": "a8428db8",
   "metadata": {},
   "outputs": [],
   "source": [
    "SPEC = jsongz.load(\"ins1852821_bkg.json.gz\")\n",
    "# SPEC = jsongz.load(\"ins1852821_signal.json.gz\")"
   ]
  },
  {
   "cell_type": "code",
   "execution_count": 4,
   "id": "8c140a67",
   "metadata": {},
   "outputs": [
    {
     "data": {
      "text/plain": [
       "['SR0bvetoloose_cuts',\n",
       " 'SR0bvetotight_cuts',\n",
       " 'SR0breq_cuts',\n",
       " 'SR1bvetoloose_cuts',\n",
       " 'SR1bvetotight_cuts',\n",
       " 'SR1breq_cuts',\n",
       " 'SR2bvetoloose_cuts',\n",
       " 'SR2bvetotight_cuts',\n",
       " 'SR2breq_cuts',\n",
       " 'SR0ZZloose_cuts',\n",
       " 'SR0ZZtight_cuts',\n",
       " 'SR0ZZbvetoloose_cuts',\n",
       " 'SR0ZZbvetotight_cuts',\n",
       " 'SR5L_cuts',\n",
       " 'CRZZ_cuts',\n",
       " 'CRttZ_cuts']"
      ]
     },
     "execution_count": 4,
     "metadata": {},
     "output_type": "execute_result"
    }
   ],
   "source": [
    "[channel[\"name\"] for channel in SPEC[\"channels\"]]"
   ]
  },
  {
   "cell_type": "code",
   "execution_count": 5,
   "id": "36fe487c",
   "metadata": {},
   "outputs": [],
   "source": [
    "# SR_NAME = \"SR0bvetotight_cuts\"\n",
    "SR_NAME = \"SR0ZZloose_cuts\"\n",
    "# SR_NAME = \"SR0ZZtight_cuts\"\n",
    "# SR_NAME = \"SR0ZZbvetotight_cuts\"\n",
    "# atlas_susy_4l presents yields without SR constraints\n",
    "# (sensibly, but violating ATLAS SUSY policy)"
   ]
  },
  {
   "cell_type": "code",
   "execution_count": 6,
   "id": "30d0d7f7",
   "metadata": {},
   "outputs": [],
   "source": [
    "def get_named(seq, name):\n",
    "    for item in seq:\n",
    "        if item[\"name\"] == name:\n",
    "            return item\n",
    "    raise KeyError(name)"
   ]
  },
  {
   "cell_type": "code",
   "execution_count": 7,
   "id": "3efd0bc6",
   "metadata": {},
   "outputs": [],
   "source": [
    "def add_signal(\n",
    "    spec,\n",
    "    channel_name,\n",
    "    measurement_name=\"NormalMeasurement\",\n",
    "    poi_name=\"mu_SIG\",\n",
    "):\n",
    "    # add a dummy signal to its channel\n",
    "    channel = get_named(spec[\"channels\"], channel_name)\n",
    "\n",
    "    channel[\"samples\"].append({\n",
    "        \"data\": [0.0],\n",
    "        \"modifiers\": [{\n",
    "            \"data\": None,\n",
    "            \"name\": poi_name,\n",
    "            \"type\": \"normfactor\", \n",
    "        }],\n",
    "        \"name\": \"signal\",\n",
    "    })\n",
    "    \n",
    "    # add a its modifier name to the measurement\n",
    "    measurement = get_named(spec[\"measurements\"], measurement_name)\n",
    "    measurement[\"config\"][\"parameters\"].append({\n",
    "        \"bounds\": [[0.0, 2.0]],\n",
    "        \"fixed\": False,\n",
    "        \"inits\": [1.0],\n",
    "        \"name\": poi_name,\n",
    "    })\n",
    "    measurement[\"config\"][\"poi\"] = poi_name\n",
    "    \n",
    "    return spec"
   ]
  },
  {
   "cell_type": "code",
   "execution_count": 8,
   "id": "80ffa3fe",
   "metadata": {},
   "outputs": [],
   "source": [
    "def make_model_and_data(spec, signal_channel_name):\n",
    "    spec = copy.deepcopy(spec)\n",
    "    spec = add_signal(spec, signal_channel_name)\n",
    "    workspace = pyhf.workspace.Workspace(spec)\n",
    "    \n",
    "    channels_keep = {\n",
    "        signal_channel_name,\n",
    "        # TODO arguments?\n",
    "        \"CRZZ_cuts\",\n",
    "        \"CRttZ_cuts\",\n",
    "    }\n",
    "        \n",
    "    channels_prune = workspace.channel_slices.keys() - channels_keep\n",
    "    \n",
    "    workspace_pruned = workspace.prune(channels=channels_prune)\n",
    "    \n",
    "    model = workspace_pruned.model()\n",
    "    data = numpy.array(workspace_pruned.data(model))\n",
    "    \n",
    "    return model, data\n",
    "\n",
    "\n",
    "MODEL, DATA = make_model_and_data(SPEC, SR_NAME)"
   ]
  },
  {
   "cell_type": "code",
   "execution_count": 9,
   "id": "d11ecf60",
   "metadata": {},
   "outputs": [
    {
     "name": "stdout",
     "output_type": "stream",
     "text": [
      "[-105.97103393]\n",
      "[-105.97103393]\n",
      "[-101.97906232]\n",
      "[144.28615681] [157.]\n",
      "[-3.99197161]\n",
      "[-105.97103393]\n"
     ]
    }
   ],
   "source": [
    "def test_logpdf(model, data, signal_channel_name):\n",
    "    parameters = numpy.array(model.config.suggested_init())\n",
    "    \n",
    "    print(model.logpdf(parameters, data))\n",
    "    \n",
    "    print(blind.model_logpdf_blind(model, parameters, data, []))\n",
    "    \n",
    "    logf = blind.model_logpdf_blind(model, parameters, data, {signal_channel_name})\n",
    "    print(logf)\n",
    "\n",
    "    slice_ = model.config.channel_slices[signal_channel_name]\n",
    "    expected_data = model.expected_actualdata(parameters)\n",
    "    mu = expected_data[slice_]\n",
    "    nobs = data[slice_]\n",
    "    print(mu, nobs)\n",
    "\n",
    "    loglikelihood = pyhf.probability.Poisson(mu).log_prob(numpy.array(nobs))\n",
    "    print(loglikelihood)\n",
    "    print(logf + loglikelihood)\n",
    "\n",
    "\n",
    "test_logpdf(MODEL, DATA, SR_NAME)"
   ]
  },
  {
   "cell_type": "code",
   "execution_count": 10,
   "id": "c7f8f9ac",
   "metadata": {},
   "outputs": [
    {
     "name": "stdout",
     "output_type": "stream",
     "text": [
      "1.0\n"
     ]
    }
   ],
   "source": [
    "def test_hess():\n",
    "    def f(x):\n",
    "        return 0.5 * x ** 2\n",
    "    \n",
    "    print(jax.hessian(f)(0.1))\n",
    "    \n",
    "test_hess()"
   ]
  },
  {
   "cell_type": "code",
   "execution_count": 11,
   "id": "0807ab62",
   "metadata": {},
   "outputs": [],
   "source": [
    "def inner_product(x, c):\n",
    "    return x.dot(c.dot(x))"
   ]
  },
  {
   "cell_type": "code",
   "execution_count": 12,
   "id": "d1e14429",
   "metadata": {},
   "outputs": [],
   "source": [
    "def d2fdx2(fminus, f, fplus, eps):\n",
    "    return ((fplus - f) - (f - fminus)) / eps ** 2"
   ]
  },
  {
   "cell_type": "code",
   "execution_count": 13,
   "id": "de862f11",
   "metadata": {
    "scrolled": false
   },
   "outputs": [
    {
     "name": "stdout",
     "output_type": "stream",
     "text": [
      "101.97906231564971\n",
      "      fun: 80.16637821412505\n",
      " hess_inv: <99x99 LbfgsInvHessProduct with dtype=float64>\n",
      "      jac: array([ 6.18211177e-03,  0.00000000e+00,  3.25739360e-05,  2.17581909e-06,\n",
      "        1.96030585e-07,  1.12267320e-08,  3.74742198e-06,  9.89424611e-09,\n",
      "        1.71844661e-06,  4.02142200e-06,  1.46761960e-06, -5.57477385e-06,\n",
      "       -6.77430202e-06, -7.59327392e-07,  2.82090360e-06, -5.59660115e-07,\n",
      "       -3.56380934e-05,  2.79685709e-05,  1.32704743e-05,  6.76208823e-06,\n",
      "       -6.83709578e-06,  3.71437171e-06,  0.00000000e+00,  9.84842957e-06,\n",
      "        2.31812546e-05,  1.69905205e-05,  3.57932937e-06, -9.04959479e-07,\n",
      "        1.54219762e-04,  0.00000000e+00,  1.68462182e-05, -2.88172592e-06,\n",
      "       -1.63445349e-06,  1.30913898e-06, -9.91408839e-06, -7.76254140e-06,\n",
      "       -3.46850157e-06,  1.13821936e-05, -3.99462286e-06, -6.00088900e-06,\n",
      "       -6.34154114e-06,  1.74069856e-05, -1.43007308e-10,  6.69260554e-09,\n",
      "       -8.00931541e-07, -1.85764439e-05,  5.79487369e-06,  5.60067656e-06,\n",
      "        8.24063341e-08,  2.22349040e-07, -2.76222633e-06,  4.59073974e-08,\n",
      "       -1.10031518e-04, -3.28325708e-04, -5.71837003e-05, -1.35091323e-04,\n",
      "       -6.90351159e-04,  1.59420923e-04,  0.00000000e+00, -1.44715675e-04,\n",
      "        6.24500942e-05, -5.60322876e-04, -3.97154873e-04,  2.85883492e-03,\n",
      "       -1.27662122e-05, -4.59068617e-05,  6.33303790e-05, -8.55751647e-06,\n",
      "        0.00000000e+00,  0.00000000e+00,  4.17309269e-02,  3.23401635e-07,\n",
      "       -4.84050338e-08, -7.89407575e-09,  8.67268819e-10, -1.66963139e-08,\n",
      "       -2.43772732e-08,  1.60496405e-08, -9.05300605e-10,  1.47299833e-08,\n",
      "       -1.71668927e-09,  8.11388662e-10, -1.37951558e-10,  1.08067275e-08,\n",
      "       -1.86323446e-08,  1.77599699e-08, -1.27202764e-04,  8.72062894e-06,\n",
      "        3.96928880e-05, -4.32684084e-04, -6.08787631e-03,  1.11311308e-07,\n",
      "        1.61151087e-07, -2.96552959e-07, -5.81484348e-09,  1.66965950e-07,\n",
      "        2.19068713e-05,  7.97436026e-05, -3.64088209e-04])\n",
      "  message: 'CONVERGENCE: REL_REDUCTION_OF_F_<=_FACTR*EPSMCH'\n",
      "     nfev: 76\n",
      "      nit: 65\n",
      "     njev: 76\n",
      "   status: 0\n",
      "  success: True\n",
      "        x: array([ 1.00000183e+00,  1.00000000e+00,  3.74695927e-05,  2.52653713e-06,\n",
      "        2.26725239e-07,  1.29846361e-08,  4.41632042e-06,  1.59299200e-08,\n",
      "        1.98184002e-06,  4.75738921e-06,  1.76028707e-06, -6.41750813e-06,\n",
      "       -7.81122651e-06, -8.47837445e-07,  3.28424289e-06, -6.28276567e-07,\n",
      "       -4.12073160e-05,  3.23430704e-05,  1.53417076e-05,  7.77223089e-06,\n",
      "       -7.95789626e-06,  4.29270017e-06,  0.00000000e+00,  1.14178130e-05,\n",
      "        2.69112148e-05,  1.96467288e-05,  4.13508084e-06, -1.04959922e-06,\n",
      "        1.78348354e-04,  0.00000000e+00,  1.94833521e-05, -3.32859888e-06,\n",
      "       -1.88923800e-06,  1.81644314e-06, -1.14644168e-05, -8.61608597e-06,\n",
      "       -5.62303670e-06,  1.31637916e-05, -4.62014175e-06, -6.93992314e-06,\n",
      "       -7.33427044e-06,  2.01319283e-05, -1.74263575e-10,  7.41975365e-09,\n",
      "       -9.26764097e-07, -2.14805087e-05,  6.70019509e-06,  6.47683258e-06,\n",
      "        9.52707105e-08,  2.53490000e-07, -3.17600061e-06,  1.18823051e-08,\n",
      "       -1.29404975e-04, -3.86075745e-04, -6.74283685e-05, -1.58453419e-04,\n",
      "        1.05908927e+00,  2.06938390e-04,  0.00000000e+00, -1.87106976e-04,\n",
      "        1.33565878e-04, -3.85088320e-04, -2.50924005e-04,  1.14756212e+00,\n",
      "       -1.55264554e-05, -5.61307569e-05,  7.20401054e-05, -1.17752358e-05,\n",
      "        1.00000000e+00,  1.00000000e+00,  1.00000016e+00,  3.72681422e-07,\n",
      "       -5.43887565e-08, -1.10667375e-08,  1.05682485e-09, -2.07585028e-08,\n",
      "       -3.02994349e-08,  1.99552365e-08, -1.10316912e-09,  1.83160216e-08,\n",
      "       -2.09190022e-09,  9.88731097e-10, -1.68102820e-10,  1.22879488e-08,\n",
      "       -2.31442109e-08,  2.20605883e-08, -1.63893573e-04,  9.81398317e-06,\n",
      "        4.54178764e-05,  9.99981811e-01,  9.99999272e-01,  1.28740655e-07,\n",
      "        1.86384638e-07, -3.42987875e-07, -6.72533177e-09,  1.93109997e-07,\n",
      "        2.53178122e-05,  9.21563820e-05,  9.99978839e-01])\n",
      "144.2861568104854\n",
      "161.2355262610355\n",
      "std\n",
      "372.30437569965767\n",
      "nan\n"
     ]
    }
   ],
   "source": [
    "def test_opt(model, data, signal_channel_name):\n",
    "    blind_bins = {signal_channel_name}\n",
    "    \n",
    "    def f(x):\n",
    "        logy, = blind.model_logpdf_blind(model, x, data, blind_bins)\n",
    "        return -logy\n",
    "    \n",
    "    fjit = jax.jit(jax.value_and_grad(f))\n",
    "          \n",
    "    parameters = numpy.array(model.config.suggested_init())\n",
    "    bounds = numpy.array(model.config.suggested_bounds())\n",
    "    \n",
    "    print(fjit(parameters)[0])\n",
    "\n",
    "    result = scipy.optimize.minimize(\n",
    "        fjit,\n",
    "        parameters,\n",
    "        bounds=bounds,\n",
    "        jac=True,\n",
    "        method=\"L-BFGS-B\",\n",
    "        options=dict(ftol=1e-10, gtol=1e-10),\n",
    "    )\n",
    "    \n",
    "    print(result)\n",
    "    \n",
    "    # SR yields\n",
    "    slice_ = model.config.channel_slices[signal_channel_name]\n",
    "    \n",
    "    def y(x):\n",
    "        expected_data = model.expected_actualdata(x)\n",
    "        yres, = expected_data[slice_]\n",
    "        return yres\n",
    "    \n",
    "    print(y(parameters))\n",
    "    print(y(result.x))\n",
    "    \n",
    "    ygrad = jax.grad(y)(result.x)\n",
    "    \n",
    "    def cov_jax(x):\n",
    "        hess = jax.hessian(f)(x)\n",
    "        return jax.numpy.linalg.inv(hess)\n",
    "    \n",
    "    cov_lbfgs = result.hess_inv.todense()\n",
    "    cov = numpy.array(cov_jax(result.x))\n",
    "    \n",
    "    var_lbfgs = inner_product(ygrad, result.hess_inv)\n",
    "    var = inner_product(ygrad, cov)\n",
    "    \n",
    "    print(\"std\")\n",
    "    print(var_lbfgs ** 0.5)\n",
    "    # jax hessian seems to give broken answers - numerical failure?\n",
    "    print(var ** 0.5)\n",
    "\n",
    "\n",
    "test_opt(MODEL, DATA, SR_NAME)"
   ]
  },
  {
   "cell_type": "markdown",
   "id": "421a8ad5",
   "metadata": {},
   "source": [
    "# optimize with constraints"
   ]
  },
  {
   "cell_type": "code",
   "execution_count": 14,
   "id": "17109289",
   "metadata": {},
   "outputs": [],
   "source": [
    "def piecewise_linear_roots(f, x):\n",
    "    \"\"\"Return a list of points for which f(x) = 0 in a linear interpolation.\"\"\"\n",
    "    results = []\n",
    "    for f1, f2, x1, x2 in zip(f[:-1], f[1:], x[:-1], x[1:]):\n",
    "        # root implies that f1 f2 change sign\n",
    "        if not f1 * f2 <= 0:\n",
    "            continue\n",
    "        # zero step special case\n",
    "        if x1 == x2:\n",
    "            if f1 == 0:\n",
    "                results.append(x1)\n",
    "            continue\n",
    "        # zero change special case\n",
    "        if f1 == f2:\n",
    "            if f1 == 0:\n",
    "                # panic! entire line segment is a root\n",
    "                results.append(numpy.nan)\n",
    "            continue\n",
    "        # approx f = f1 + (x - x1) * (f2 - f1) / (x2 - x1)\n",
    "        #          = f1 + (x - x1) * dfdx\n",
    "        # f = 0 =>\n",
    "        #        x = x1 + (0 - f1) / dfdfx\n",
    "        xroot = x1 - f1 * (x2 - x1) / (f2 - f1)\n",
    "        results.append(xroot)\n",
    "    return results"
   ]
  },
  {
   "cell_type": "code",
   "execution_count": 15,
   "id": "c0595eb6",
   "metadata": {
    "scrolled": false
   },
   "outputs": [
    {
     "name": "stdout",
     "output_type": "stream",
     "text": [
      "f =  80.16637890947715\n",
      "y =  161.24062469925585\n",
      "f =  102.19932199272469\n",
      "y =  3.99999972224356\n",
      "50.0 92.80459744629732\n",
      "60.0 88.87970231421176\n",
      "70.0 86.17270701342402\n",
      "80.0 84.26201226879785\n",
      "90.0 82.908719669177\n",
      "100.0 81.95249531297678\n",
      "110.0 81.28094041727314\n",
      "120.0 80.81831043519715\n",
      "130.0 80.50872496681927\n",
      "140.0 80.31273446735968\n",
      "150.0 80.20453535068067\n",
      "160.0 80.1668059432604\n",
      "170.0 80.18682724494266\n",
      "180.0 80.25446736008554\n",
      "190.0 80.3613431020234\n",
      "200.0 80.50046013324055\n",
      "210.0 80.6659926584869\n",
      "220.0 80.8530999207168\n",
      "230.0 81.0577706090959\n",
      "240.0 81.27670652500764\n",
      "250.0 81.50725023129074\n",
      "260.0 81.74733887932985\n",
      "270.0 81.99546576906984\n",
      "280.0 82.25046488188833\n",
      "290.0 82.5112103100049\n",
      "300.0 82.77672660806913\n",
      "310.0 83.04616885488862\n",
      "320.0 83.3188189794096\n",
      "330.0 83.59407946785844\n",
      "340.0 83.8713699941231\n",
      "350.0 84.15038666100037\n",
      "360.0 84.43061748242484\n",
      "370.0 84.71184546059284\n",
      "380.0 84.99372591785303\n",
      "390.0 85.27602200312926\n",
      "400.0 85.55841806078512\n"
     ]
    },
    {
     "data": {
      "image/png": "[encoded data removed]",
      "text/plain": [
       "<Figure size 432x288 with 1 Axes>"
      ]
     },
     "metadata": {
      "needs_background": "light"
     },
     "output_type": "display_data"
    },
    {
     "data": {
      "image/png": "[encoded data removed]",
      "text/plain": [
       "<Figure size 432x288 with 1 Axes>"
      ]
     },
     "metadata": {
      "needs_background": "light"
     },
     "output_type": "display_data"
    },
    {
     "name": "stdout",
     "output_type": "stream",
     "text": [
      "[124.90757936785833, 210.02064329228287]\n"
     ]
    }
   ],
   "source": [
    "def test_opt_constrain(model, data, signal_channel_name):\n",
    "    blind_bins = {signal_channel_name}\n",
    "    \n",
    "    # optimization\n",
    "    def f(x):\n",
    "        logy, = blind.model_logpdf_blind(model, x, data, blind_bins)\n",
    "        return -logy\n",
    "    \n",
    "    fjit = jax.jit(jax.value_and_grad(f))\n",
    "          \n",
    "    parameters = numpy.array(model.config.suggested_init())\n",
    "    bounds = numpy.array(model.config.suggested_bounds())\n",
    "    \n",
    "    result = scipy.optimize.minimize(\n",
    "        fjit,\n",
    "        parameters,\n",
    "        bounds=bounds,\n",
    "        jac=True,\n",
    "        method=\"L-BFGS-B\",\n",
    "    )\n",
    "    \n",
    "    # SR yields\n",
    "    slice_ = model.config.channel_slices[signal_channel_name]\n",
    "    \n",
    "    def y(x):\n",
    "        expected_data = model.expected_actualdata(x)\n",
    "        yres, = expected_data[slice_]\n",
    "        return yres\n",
    "    \n",
    "    yjit = jax.jit(y)\n",
    "    \n",
    "    print(\"f = \", result.fun)\n",
    "    print(\"y = \", yjit(result.x))\n",
    "    \n",
    "    # constrain\n",
    "    ygrad = jax.jit(jax.grad(y))\n",
    "    \n",
    "    yfix = 4.0\n",
    "    fix = scipy.optimize.NonlinearConstraint(y, yfix, yfix, jac=ygrad)\n",
    "        \n",
    "    result2 = scipy.optimize.minimize(\n",
    "        fjit,\n",
    "        parameters,\n",
    "        bounds=bounds,\n",
    "        jac=True,\n",
    "        method=\"SLSQP\",\n",
    "        constraints=fix,\n",
    "    )\n",
    "\n",
    "    print(\"f = \", result2.fun)\n",
    "    print(\"y = \", yjit(result2.x))\n",
    "    \n",
    "    x0test = result.x\n",
    "    \n",
    "    # scan\n",
    "    def fmax_given_yfix(yfix):\n",
    "        fix = scipy.optimize.NonlinearConstraint(\n",
    "            y, \n",
    "            yfix, \n",
    "            yfix, \n",
    "            jac=ygrad,\n",
    "        )\n",
    "\n",
    "        result = scipy.optimize.minimize(\n",
    "            fjit,\n",
    "            x0test,\n",
    "            bounds=bounds,\n",
    "            jac=True,\n",
    "            method=\"SLSQP\",\n",
    "            constraints=fix,\n",
    "        )\n",
    "        \n",
    "        return result.fun\n",
    "    \n",
    "    ypoints = numpy.linspace(50., 400., 36)\n",
    "    \n",
    "    fs = []\n",
    "    for yfix in ypoints:\n",
    "        fmax = fmax_given_yfix(yfix)\n",
    "        print(yfix, fmax)\n",
    "        fs.append(fmax)\n",
    "        \n",
    "    fs = numpy.array(fs)\n",
    "    \n",
    "    pyplot.plot(ypoints, fs - result.fun, \"k\")\n",
    "    for sigma in (0, 1, 2, 3):\n",
    "        fsigma = 0.5 * sigma ** 2\n",
    "        pyplot.axhline(fsigma)\n",
    "    pyplot.plot\n",
    "    pyplot.show()   \n",
    "    \n",
    "    pyplot.plot(numpy.log(ypoints), fs - result.fun, \"k\")\n",
    "    for sigma in (0, 1, 2, 3):\n",
    "        fsigma = 0.5 * sigma ** 2\n",
    "        pyplot.axhline(fsigma)\n",
    "    pyplot.plot\n",
    "    pyplot.show()\n",
    "    \n",
    "    print(piecewise_linear_roots(fs - result.fun - 0.5, ypoints))\n",
    "        \n",
    "\n",
    "\n",
    "test_opt_constrain(MODEL, DATA, SR_NAME)"
   ]
  },
  {
   "cell_type": "code",
   "execution_count": 16,
   "id": "c6ee3b3b",
   "metadata": {},
   "outputs": [
    {
     "name": "stdout",
     "output_type": "stream",
     "text": [
      "161.2 +36.3 -48.8\n"
     ]
    }
   ],
   "source": [
    "def print_fit_stuff():\n",
    "    lo, hi = 124.90757920360802, 210.02064368362807\n",
    "    mid = 161.24062469925585\n",
    "    \n",
    "    err_lo = mid - lo\n",
    "    err_hi = hi - mid\n",
    "    print(\"%.1f +%.1f -%.1f\" % (mid, err_lo, err_hi))\n",
    "\n",
    "print_fit_stuff()"
   ]
  }
 ],
 "metadata": {
  "kernelspec": {
   "display_name": "Python 3 (ipykernel)",
   "language": "python",
   "name": "python3"
  },
  "language_info": {
   "codemirror_mode": {
    "name": "ipython",
    "version": 3
   },
   "file_extension": ".py",
   "mimetype": "text/x-python",
   "name": "python",
   "nbconvert_exporter": "python",
   "pygments_lexer": "ipython3",
   "version": "3.10.4"
  }
 },
 "nbformat": 4,
 "nbformat_minor": 5
}
