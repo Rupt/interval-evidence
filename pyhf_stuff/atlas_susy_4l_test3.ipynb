{
 "cells": [
  {
   "cell_type": "code",
   "execution_count": 1,
   "id": "29156c57",
   "metadata": {},
   "outputs": [],
   "source": [
    "import json\n",
    "import copy\n",
    "\n",
    "import numpy\n",
    "import matplotlib\n",
    "from matplotlib import pyplot\n",
    "import pyhf\n",
    "\n",
    "import blind\n",
    "import jsongz"
   ]
  },
  {
   "cell_type": "code",
   "execution_count": 2,
   "id": "e3b9aa8f",
   "metadata": {},
   "outputs": [],
   "source": [
    "import jax\n",
    "import scipy.optimize\n",
    "\n",
    "jax.config.update(\"jax_platform_name\", \"cpu\")\n",
    "jax.config.update(\"jax_enable_x64\", True)\n",
    "pyhf.set_backend(\"jax\")"
   ]
  },
  {
   "cell_type": "code",
   "execution_count": 3,
   "id": "a8428db8",
   "metadata": {},
   "outputs": [],
   "source": [
    "SPEC = jsongz.load(\"ins1852821_bkg.json.gz\")\n",
    "# SPEC = jsongz.load(\"ins1852821_signal.json.gz\")"
   ]
  },
  {
   "cell_type": "code",
   "execution_count": 4,
   "id": "fa2841e9",
   "metadata": {},
   "outputs": [
    {
     "data": {
      "text/plain": [
       "['SR0bvetoloose_cuts',\n",
       " 'SR0bvetotight_cuts',\n",
       " 'SR0breq_cuts',\n",
       " 'SR1bvetoloose_cuts',\n",
       " 'SR1bvetotight_cuts',\n",
       " 'SR1breq_cuts',\n",
       " 'SR2bvetoloose_cuts',\n",
       " 'SR2bvetotight_cuts',\n",
       " 'SR2breq_cuts',\n",
       " 'SR0ZZloose_cuts',\n",
       " 'SR0ZZtight_cuts',\n",
       " 'SR0ZZbvetoloose_cuts',\n",
       " 'SR0ZZbvetotight_cuts',\n",
       " 'SR5L_cuts',\n",
       " 'CRZZ_cuts',\n",
       " 'CRttZ_cuts']"
      ]
     },
     "execution_count": 4,
     "metadata": {},
     "output_type": "execute_result"
    }
   ],
   "source": [
    "[channel[\"name\"] for channel in SPEC[\"channels\"]]"
   ]
  },
  {
   "cell_type": "code",
   "execution_count": 5,
   "id": "36fe487c",
   "metadata": {},
   "outputs": [],
   "source": [
    "# SR_NAME = \"SR0bvetotight_cuts\"\n",
    "# SR_NAME = \"SR0ZZloose_cuts\"\n",
    "# SR_NAME = \"SR0ZZtight_cuts\"\n",
    "SR_NAME = \"SR0ZZbvetotight_cuts\"\n",
    "# atlas_susy_4l presents yields without SR constraints\n",
    "# (sensibly, but violating ATLAS SUSY policy)"
   ]
  },
  {
   "cell_type": "code",
   "execution_count": 6,
   "id": "30d0d7f7",
   "metadata": {},
   "outputs": [],
   "source": [
    "def get_named(seq, name):\n",
    "    for item in seq:\n",
    "        if item[\"name\"] == name:\n",
    "            return item\n",
    "    raise KeyError(name)"
   ]
  },
  {
   "cell_type": "code",
   "execution_count": 7,
   "id": "3efd0bc6",
   "metadata": {},
   "outputs": [],
   "source": [
    "def add_signal(\n",
    "    spec,\n",
    "    channel_name,\n",
    "    measurement_name=\"NormalMeasurement\",\n",
    "    poi_name=\"mu_SIG\",\n",
    "):\n",
    "    # add a dummy signal to its channel\n",
    "    channel = get_named(spec[\"channels\"], channel_name)\n",
    "\n",
    "    channel[\"samples\"].append({\n",
    "        \"data\": [0.0],\n",
    "        \"modifiers\": [{\n",
    "            \"data\": None,\n",
    "            \"name\": poi_name,\n",
    "            \"type\": \"normfactor\", \n",
    "        }],\n",
    "        \"name\": \"signal\",\n",
    "    })\n",
    "    \n",
    "    # add a its modifier name to the measurement\n",
    "    measurement = get_named(spec[\"measurements\"], measurement_name)\n",
    "    measurement[\"config\"][\"parameters\"].append({\n",
    "        \"bounds\": [[0.0, 2.0]],\n",
    "        \"fixed\": False,\n",
    "        \"inits\": [1.0],\n",
    "        \"name\": poi_name,\n",
    "    })\n",
    "    measurement[\"config\"][\"poi\"] = poi_name\n",
    "    \n",
    "    return spec"
   ]
  },
  {
   "cell_type": "code",
   "execution_count": 8,
   "id": "80ffa3fe",
   "metadata": {},
   "outputs": [],
   "source": [
    "def make_model_and_data(spec, signal_channel_name):\n",
    "    spec = copy.deepcopy(spec)\n",
    "    spec = add_signal(spec, signal_channel_name)\n",
    "    workspace = pyhf.workspace.Workspace(spec)\n",
    "    \n",
    "    channels_keep = {\n",
    "        signal_channel_name,\n",
    "        # TODO arguments?\n",
    "        \"CRZZ_cuts\",\n",
    "        \"CRttZ_cuts\",\n",
    "    }\n",
    "        \n",
    "    channels_prune = workspace.channel_slices.keys() - channels_keep\n",
    "    \n",
    "    workspace_pruned = workspace.prune(channels=channels_prune)\n",
    "    \n",
    "    model = workspace_pruned.model()\n",
    "    data = numpy.array(workspace_pruned.data(model))\n",
    "    \n",
    "    return model, data\n",
    "\n",
    "\n",
    "MODEL, DATA = make_model_and_data(SPEC, SR_NAME)"
   ]
  },
  {
   "cell_type": "code",
   "execution_count": 9,
   "id": "d11ecf60",
   "metadata": {},
   "outputs": [
    {
     "name": "stdout",
     "output_type": "stream",
     "text": [
      "[-104.78063595]\n",
      "[-104.78063595]\n",
      "[-103.77680296]\n",
      "[1.09012933] [1.]\n",
      "[-1.00383299]\n",
      "[-104.78063595]\n"
     ]
    }
   ],
   "source": [
    "def test_logpdf(model, data, signal_channel_name):\n",
    "    parameters = numpy.array(model.config.suggested_init())\n",
    "    \n",
    "    print(model.logpdf(parameters, data))\n",
    "    \n",
    "    print(blind.model_logpdf_blind(model, parameters, data, []))\n",
    "    \n",
    "    logf = blind.model_logpdf_blind(model, parameters, data, {signal_channel_name})\n",
    "    print(logf)\n",
    "\n",
    "    slice_ = model.config.channel_slices[signal_channel_name]\n",
    "    expected_data = model.expected_actualdata(parameters)\n",
    "    mu = expected_data[slice_]\n",
    "    nobs = data[slice_]\n",
    "    print(mu, nobs)\n",
    "\n",
    "    loglikelihood = pyhf.probability.Poisson(mu).log_prob(numpy.array(nobs))\n",
    "    print(loglikelihood)\n",
    "    print(logf + loglikelihood)\n",
    "\n",
    "\n",
    "test_logpdf(MODEL, DATA, SR_NAME)"
   ]
  },
  {
   "cell_type": "code",
   "execution_count": 10,
   "id": "c7f8f9ac",
   "metadata": {},
   "outputs": [
    {
     "name": "stdout",
     "output_type": "stream",
     "text": [
      "1.0\n"
     ]
    }
   ],
   "source": [
    "def test_hess():\n",
    "    def f(x):\n",
    "        return 0.5 * x ** 2\n",
    "    \n",
    "    print(jax.hessian(f)(0.1))\n",
    "    \n",
    "test_hess()"
   ]
  },
  {
   "cell_type": "code",
   "execution_count": 11,
   "id": "0807ab62",
   "metadata": {},
   "outputs": [],
   "source": [
    "def inner_product(x, c):\n",
    "    return x.dot(c.dot(x))"
   ]
  },
  {
   "cell_type": "code",
   "execution_count": 12,
   "id": "d1e14429",
   "metadata": {},
   "outputs": [],
   "source": [
    "def d2fdx2(fminus, f, fplus, eps):\n",
    "    return ((fplus - f) - (f - fminus)) / eps ** 2"
   ]
  },
  {
   "cell_type": "code",
   "execution_count": 13,
   "id": "de862f11",
   "metadata": {
    "scrolled": false
   },
   "outputs": [
    {
     "name": "stdout",
     "output_type": "stream",
     "text": [
      "103.77680296414808\n",
      "      fun: 81.96411882730709\n",
      " hess_inv: <99x99 LbfgsInvHessProduct with dtype=float64>\n",
      "      jac: array([-6.67974307e-04,  0.00000000e+00,  1.11821704e-05,  2.67221794e-05,\n",
      "        1.26129820e-08,  4.65504360e-06,  5.16967445e-06,  2.01416918e-06,\n",
      "       -6.06456655e-06, -7.47166516e-06, -6.85248382e-07,  3.29060185e-06,\n",
      "       -4.77106286e-07, -3.99473868e-05,  7.31663886e-06, -7.99470629e-06,\n",
      "       -1.84318515e-06,  1.73193817e-04,  3.55301480e-05,  2.49829705e-06,\n",
      "        2.20235801e-07, -4.75640688e-08,  3.14516485e-05, -2.08643019e-05,\n",
      "        1.90888362e-05,  6.28668213e-06,  1.48971380e-05,  0.00000000e+00,\n",
      "        4.18147744e-06,  4.02328480e-06, -1.02958925e-06,  1.89218736e-05,\n",
      "        3.01258596e-08, -9.02388942e-07,  3.03691338e-06, -1.11365458e-05,\n",
      "       -6.85990503e-06, -1.22898568e-05,  1.92619439e-06, -3.25148294e-06,\n",
      "        1.27844981e-05, -4.48682908e-06, -6.74086475e-06, -7.12281639e-06,\n",
      "        1.95529861e-05,  2.30696701e-07, -1.25362685e-04, -3.74027079e-04,\n",
      "       -6.52824126e-05, -1.53589053e-04, -1.67922606e-08,  6.51252616e-06,\n",
      "        3.56286149e-07, -5.94659371e-05,  2.50726097e-04,  0.00000000e+00,\n",
      "       -2.26743685e-04, -1.97769119e-04,  1.86461280e-04, -3.13395875e-04,\n",
      "       -1.84158284e-04, -3.04865794e-06,  0.00000000e+00, -3.61244053e-08,\n",
      "        2.37935206e-08, -1.30863884e-09, -2.75892222e-08, -2.48152505e-09,\n",
      "        2.62974819e-08,  1.17288621e-09, -2.92755157e-04, -1.84041326e-05,\n",
      "       -6.88713093e-05,  6.30708982e-05, -1.95677810e-05,  0.00000000e+00,\n",
      "        0.00000000e+00,  7.08563482e-03,  5.85222672e-09,  1.25366276e-09,\n",
      "       -2.47510595e-08,  2.18394830e-08, -2.06720638e-10, -1.99412426e-10,\n",
      "        1.10452306e-08,  9.23668542e-08, -1.62567139e-07,  8.39897216e-06,\n",
      "        4.21706877e-05,  9.67942137e-07, -4.71810546e-04,  1.25055762e-07,\n",
      "        1.81049786e-07, -3.33170656e-07, -6.53283757e-09,  1.87582649e-07,\n",
      "        2.45985289e-05,  8.95388927e-05, -3.28613855e-06])\n",
      "  message: 'CONVERGENCE: REL_REDUCTION_OF_F_<=_FACTR*EPSMCH'\n",
      "     nfev: 70\n",
      "      nit: 58\n",
      "     njev: 70\n",
      "   status: 0\n",
      "  success: True\n",
      "        x: array([ 9.99999812e-01,  1.00000000e+00,  1.13021990e-05,  2.69533343e-05,\n",
      "        1.27641126e-08,  4.65553713e-06,  5.14840168e-06,  1.99251376e-06,\n",
      "       -6.16272767e-06, -7.57854291e-06, -7.14216362e-07,  3.31501047e-06,\n",
      "       -5.03055387e-07, -4.04384235e-05,  7.43968689e-06, -8.05016687e-06,\n",
      "       -1.86392517e-06,  1.75276202e-04,  3.60865555e-05,  2.52156638e-06,\n",
      "        2.22874682e-07, -4.89442098e-08,  3.18227918e-05, -2.11143228e-05,\n",
      "        1.93167014e-05,  6.36274199e-06,  1.50763286e-05,  0.00000000e+00,\n",
      "        4.22963154e-06,  4.07030269e-06, -1.04036830e-06,  1.91491819e-05,\n",
      "        2.82189985e-08, -9.12877575e-07,  2.88156999e-06, -1.12698305e-05,\n",
      "       -7.16938219e-06, -1.14076924e-05,  1.94889341e-06, -3.28734379e-06,\n",
      "        1.29380600e-05, -4.54076515e-06, -6.82167603e-06, -7.20839862e-06,\n",
      "        1.97876795e-05,  2.35803087e-07, -1.27031889e-04, -3.79002798e-04,\n",
      "       -6.61659064e-05, -1.55601467e-04, -1.60591855e-08,  6.58982440e-06,\n",
      "        3.61418483e-07,  1.05911102e+00,  2.45920256e-04,  0.00000000e+00,\n",
      "       -2.22357717e-04, -1.94039507e-04,  1.79100244e-04, -3.31888206e-04,\n",
      "       -1.99696339e-04, -3.09032089e-06,  0.00000000e+00, -3.55243191e-08,\n",
      "        2.33977707e-08, -1.28858949e-09, -2.71320401e-08, -2.44350619e-09,\n",
      "        2.58617052e-08,  1.15491670e-09,  1.14756889e+00, -1.81244408e-05,\n",
      "       -6.75195576e-05,  6.48894899e-05, -1.85785137e-05,  1.00000000e+00,\n",
      "        1.00000000e+00,  1.00000003e+00,  6.12661029e-09,  1.23445569e-09,\n",
      "       -2.43394422e-08,  2.14761135e-08, -2.03553546e-10, -1.96357300e-10,\n",
      "        1.13118767e-08,  9.35004346e-08, -1.38271636e-07,  8.66996847e-06,\n",
      "        4.29677238e-05,  1.00000029e+00,  9.99999945e-01,  1.26554198e-07,\n",
      "        1.83219165e-07, -3.37162760e-07, -6.61111409e-09,  1.89830306e-07,\n",
      "        2.48917813e-05,  9.06060702e-05,  1.00000124e+00])\n",
      "1.0901293330825865\n",
      "1.1041210898292328\n",
      "std\n",
      "1.5845456084285636\n",
      "nan\n"
     ]
    }
   ],
   "source": [
    "def test_opt(model, data, signal_channel_name):\n",
    "    blind_bins = {signal_channel_name}\n",
    "    \n",
    "    def f(x):\n",
    "        logy, = blind.model_logpdf_blind(model, x, data, blind_bins)\n",
    "        return -logy\n",
    "    \n",
    "    fjit = jax.jit(jax.value_and_grad(f))\n",
    "          \n",
    "    parameters = numpy.array(model.config.suggested_init())\n",
    "    bounds = numpy.array(model.config.suggested_bounds())\n",
    "    \n",
    "    print(fjit(parameters)[0])\n",
    "\n",
    "    result = scipy.optimize.minimize(\n",
    "        fjit,\n",
    "        parameters,\n",
    "        bounds=bounds,\n",
    "        jac=True,\n",
    "        method=\"L-BFGS-B\",\n",
    "        options=dict(ftol=1e-10, gtol=1e-10),\n",
    "    )\n",
    "    \n",
    "    print(result)\n",
    "    \n",
    "    # SR yields\n",
    "    slice_ = model.config.channel_slices[signal_channel_name]\n",
    "    \n",
    "    def y(x):\n",
    "        expected_data = model.expected_actualdata(x)\n",
    "        yres, = expected_data[slice_]\n",
    "        return yres\n",
    "    \n",
    "    print(y(parameters))\n",
    "    print(y(result.x))\n",
    "    \n",
    "    ygrad = jax.grad(y)(result.x)\n",
    "    \n",
    "    def cov_jax(x):\n",
    "        hess = jax.hessian(f)(x)\n",
    "        return jax.numpy.linalg.inv(hess)\n",
    "    \n",
    "    cov_lbfgs = result.hess_inv.todense()\n",
    "    cov = numpy.array(cov_jax(result.x))\n",
    "    \n",
    "    var_lbfgs = inner_product(ygrad, result.hess_inv)\n",
    "    var = inner_product(ygrad, cov)\n",
    "    \n",
    "    print(\"std\")\n",
    "    print(var_lbfgs ** 0.5)\n",
    "    # jax hessian seems to give broken answers - numerical failure?\n",
    "    print(var ** 0.5)\n",
    "\n",
    "\n",
    "test_opt(MODEL, DATA, SR_NAME)"
   ]
  },
  {
   "cell_type": "markdown",
   "id": "421a8ad5",
   "metadata": {},
   "source": [
    "# optimize with constraints"
   ]
  },
  {
   "cell_type": "code",
   "execution_count": 14,
   "id": "91a45c93",
   "metadata": {},
   "outputs": [],
   "source": [
    "def piecewise_linear_roots(f, x):\n",
    "    \"\"\"Return a list of points for which f(x) = 0 in a linear interpolation.\"\"\"\n",
    "    results = []\n",
    "    for f1, f2, x1, x2 in zip(f[:-1], f[1:], x[:-1], x[1:]):\n",
    "        # root implies that f1 f2 change sign\n",
    "        if not f1 * f2 <= 0:\n",
    "            continue\n",
    "        # zero step special case\n",
    "        if x1 == x2:\n",
    "            if f1 == 0:\n",
    "                results.append(x1)\n",
    "            continue\n",
    "        # zero change special case\n",
    "        if f1 == f2:\n",
    "            if f1 == 0:\n",
    "                # panic! entire line segment is a root\n",
    "                results.append(numpy.nan)\n",
    "            continue\n",
    "        # approx f = f1 + (x - x1) * (f2 - f1) / (x2 - x1)\n",
    "        #          = f1 + (x - x1) * dfdx\n",
    "        # f = 0 =>\n",
    "        #        x = x1 + (0 - f1) / dfdfx\n",
    "        xroot = x1 - f1 * (x2 - x1) / (f2 - f1)\n",
    "        results.append(xroot)\n",
    "    return results"
   ]
  },
  {
   "cell_type": "code",
   "execution_count": 15,
   "id": "3ebd7bb4",
   "metadata": {
    "scrolled": false
   },
   "outputs": [
    {
     "name": "stdout",
     "output_type": "stream",
     "text": [
      "f =  81.96411882989364\n",
      "y =  1.104122290487657\n",
      "f =  87.34875176568336\n",
      "y =  4.000000022923318\n"
     ]
    },
    {
     "name": "stderr",
     "output_type": "stream",
     "text": [
      "/home/tombs/Cambridge/interval-evidence/env/lib/python3.10/site-packages/scipy/optimize/_optimize.py:284: RuntimeWarning: Values in x were outside bounds during a minimize step, clipping to bounds\n",
      "  warnings.warn(\"Values in x were outside bounds during a \"\n"
     ]
    },
    {
     "name": "stdout",
     "output_type": "stream",
     "text": [
      "0.1 98.45349890241918\n",
      "0.22250000000000003 95.39578145184863\n",
      "0.34500000000000003 90.07264903212555\n",
      "0.4675 86.05665813245855\n",
      "0.5900000000000001 83.95562227368008\n",
      "0.7125 82.85185177198963\n",
      "0.8350000000000001 82.29540137792921\n",
      "0.9575 82.04454903361184\n",
      "1.08 81.96595220346221\n",
      "1.2025000000000001 81.99043106047242\n",
      "1.3250000000000002 82.08066936441547\n",
      "1.4475000000000002 82.21525306297869\n",
      "1.5700000000000003 82.38105706689329\n",
      "1.6925000000000003 82.56956344690371\n",
      "1.8150000000000002 82.77499496689671\n",
      "1.9375000000000002 82.99330481952026\n",
      "2.06 83.2215984447918\n",
      "2.1825 83.45776746666574\n",
      "2.305 83.70025599709926\n",
      "2.4275 83.94789335860594\n",
      "2.5500000000000003 84.19978829768182\n",
      "2.6725000000000003 84.45524286049732\n",
      "2.7950000000000004 84.71370722649964\n",
      "2.9175000000000004 84.97473430117758\n",
      "3.0400000000000005 85.23795751761574\n",
      "3.1625000000000005 85.50306902295381\n",
      "3.2850000000000006 85.76980754119899\n",
      "3.4075 86.03794664505614\n",
      "3.5300000000000002 86.30728701311685\n",
      "3.6525000000000003 86.57764963981839\n",
      "3.7750000000000004 86.84887043187705\n",
      "3.8975000000000004 87.12079399474709\n",
      "4.0200000000000005 87.39326846254224\n",
      "4.1425 87.66613672226754\n",
      "4.265 87.93924066589638\n",
      "4.3875 88.21248141162035\n",
      "4.51 88.48578767431277\n",
      "4.6325 88.7590960739996\n",
      "4.755 89.03235219265555\n",
      "4.8775 89.30550669310193\n",
      "5.0 89.57851662369609\n"
     ]
    },
    {
     "data": {
      "image/png": "[encoded data removed]",
      "text/plain": [
       "<Figure size 432x288 with 1 Axes>"
      ]
     },
     "metadata": {
      "needs_background": "light"
     },
     "output_type": "display_data"
    },
    {
     "data": {
      "image/png": "[encoded data removed]",
      "text/plain": [
       "<Figure size 432x288 with 1 Axes>"
      ]
     },
     "metadata": {
      "needs_background": "light"
     },
     "output_type": "display_data"
    },
    {
     "name": "stdout",
     "output_type": "stream",
     "text": [
      "[0.7978576274071287, 1.623977302874203]\n"
     ]
    }
   ],
   "source": [
    "def test_opt_constrain(model, data, signal_channel_name):\n",
    "    blind_bins = {signal_channel_name}\n",
    "    \n",
    "    # optimization\n",
    "    def f(x):\n",
    "        logy, = blind.model_logpdf_blind(model, x, data, blind_bins)\n",
    "        return -logy\n",
    "    \n",
    "    fjit = jax.jit(jax.value_and_grad(f))\n",
    "          \n",
    "    parameters = numpy.array(model.config.suggested_init())\n",
    "    bounds = numpy.array(model.config.suggested_bounds())\n",
    "    \n",
    "    result = scipy.optimize.minimize(\n",
    "        fjit,\n",
    "        parameters,\n",
    "        bounds=bounds,\n",
    "        jac=True,\n",
    "        method=\"L-BFGS-B\",\n",
    "    )\n",
    "    \n",
    "    # SR yields\n",
    "    slice_ = model.config.channel_slices[signal_channel_name]\n",
    "    \n",
    "    def y(x):\n",
    "        expected_data = model.expected_actualdata(x)\n",
    "        yres, = expected_data[slice_]\n",
    "        return yres\n",
    "    \n",
    "    yjit = jax.jit(y)\n",
    "    \n",
    "    print(\"f = \", result.fun)\n",
    "    print(\"y = \", yjit(result.x))\n",
    "    \n",
    "    # constrain\n",
    "    ygrad = jax.jit(jax.grad(y))\n",
    "    \n",
    "    yfix = 4.0\n",
    "    fix = scipy.optimize.NonlinearConstraint(y, yfix, yfix, jac=ygrad)\n",
    "        \n",
    "    result2 = scipy.optimize.minimize(\n",
    "        fjit,\n",
    "        parameters,\n",
    "        bounds=bounds,\n",
    "        jac=True,\n",
    "        method=\"SLSQP\",\n",
    "        constraints=fix,\n",
    "    )\n",
    "\n",
    "    print(\"f = \", result2.fun)\n",
    "    print(\"y = \", yjit(result2.x))\n",
    "    \n",
    "    x0test = result.x\n",
    "    \n",
    "    # scan\n",
    "    def fmax_given_yfix(yfix):\n",
    "        fix = scipy.optimize.NonlinearConstraint(\n",
    "            y, \n",
    "            yfix, \n",
    "            yfix, \n",
    "            jac=ygrad,\n",
    "        )\n",
    "\n",
    "        result = scipy.optimize.minimize(\n",
    "            fjit,\n",
    "            x0test,\n",
    "            bounds=bounds,\n",
    "            jac=True,\n",
    "            method=\"SLSQP\",\n",
    "            constraints=fix,\n",
    "        )\n",
    "        \n",
    "        return result.fun\n",
    "    \n",
    "    ypoints = numpy.linspace(0.1, 5., 41)\n",
    "    \n",
    "    fs = []\n",
    "    for yfix in ypoints:\n",
    "        fmax = fmax_given_yfix(yfix)\n",
    "        print(yfix, fmax)\n",
    "        fs.append(fmax)\n",
    "        \n",
    "    fs = numpy.array(fs)\n",
    "    \n",
    "    pyplot.plot(ypoints, fs - result.fun, \"k\")\n",
    "    for sigma in (0, 1, 2, 3):\n",
    "        fsigma = 0.5 * sigma ** 2\n",
    "        pyplot.axhline(fsigma)\n",
    "    pyplot.plot\n",
    "    pyplot.show()   \n",
    "    \n",
    "    pyplot.plot(numpy.log(ypoints), fs - result.fun, \"k\")\n",
    "    for sigma in (0, 1, 2, 3):\n",
    "        fsigma = 0.5 * sigma ** 2\n",
    "        pyplot.axhline(fsigma)\n",
    "    pyplot.plot\n",
    "    pyplot.show()\n",
    "    \n",
    "    print(piecewise_linear_roots(fs - result.fun - 0.5, ypoints))\n",
    "        \n",
    "\n",
    "\n",
    "test_opt_constrain(MODEL, DATA, SR_NAME)"
   ]
  },
  {
   "cell_type": "code",
   "execution_count": 16,
   "id": "3a81f9ab",
   "metadata": {},
   "outputs": [
    {
     "name": "stdout",
     "output_type": "stream",
     "text": [
      "1.1 +0.2 -0.5\n"
     ]
    }
   ],
   "source": [
    "def print_fit_stuff():\n",
    "    lo, hi = 0.9312021701411659, 1.609647706302541\n",
    "    mid = 1.104122290487657\n",
    "    \n",
    "    err_lo = mid - lo\n",
    "    err_hi = hi - mid\n",
    "    print(\"%.1f +%.1f -%.1f\" % (mid, err_lo, err_hi))\n",
    "\n",
    "print_fit_stuff()"
   ]
  }
 ],
 "metadata": {
  "kernelspec": {
   "display_name": "Python 3 (ipykernel)",
   "language": "python",
   "name": "python3"
  },
  "language_info": {
   "codemirror_mode": {
    "name": "ipython",
    "version": 3
   },
   "file_extension": ".py",
   "mimetype": "text/x-python",
   "name": "python",
   "nbconvert_exporter": "python",
   "pygments_lexer": "ipython3",
   "version": "3.10.4"
  }
 },
 "nbformat": 4,
 "nbformat_minor": 5
}
