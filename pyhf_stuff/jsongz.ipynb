{
 "cells": [
  {
   "cell_type": "code",
   "execution_count": 1,
   "id": "bf4ea333",
   "metadata": {},
   "outputs": [],
   "source": [
    "import json\n",
    "import gzip"
   ]
  },
  {
   "cell_type": "code",
   "execution_count": 2,
   "id": "ab7ab027",
   "metadata": {},
   "outputs": [],
   "source": [
    "def compress_json(inpath, outpath):\n",
    "    spec = json.load(open(inpath))\n",
    "    with gzip.open(outpath, \"w\") as outfile:\n",
    "        outfile.write(json.dumps(spec).encode())\n"
   ]
  },
  {
   "cell_type": "code",
   "execution_count": 3,
   "id": "81430611",
   "metadata": {},
   "outputs": [],
   "source": [
    "def decompress_json(inpath):\n",
    "    with gzip.open(inpath, \"r\") as infile:\n",
    "        spec = json.loads(infile.read().decode())\n",
    "    return spec"
   ]
  },
  {
   "cell_type": "code",
   "execution_count": 4,
   "id": "6d4619f5",
   "metadata": {},
   "outputs": [],
   "source": [
    "compress_json(\"ins1852821_bkg.json\", \"ins1852821_bkg.json.gz\")"
   ]
  },
  {
   "cell_type": "code",
   "execution_count": 5,
   "id": "ebae8fb8",
   "metadata": {},
   "outputs": [],
   "source": [
    "ref = json.load(open(\"ins1852821_bkg.json\"))"
   ]
  },
  {
   "cell_type": "code",
   "execution_count": 6,
   "id": "7579d7b5",
   "metadata": {},
   "outputs": [],
   "source": [
    "chk = decompress_json(\"ins1852821_bkg.json.gz\")"
   ]
  },
  {
   "cell_type": "code",
   "execution_count": 7,
   "id": "09c85137",
   "metadata": {},
   "outputs": [
    {
     "data": {
      "text/plain": [
       "True"
      ]
     },
     "execution_count": 7,
     "metadata": {},
     "output_type": "execute_result"
    }
   ],
   "source": [
    "ref == chk"
   ]
  }
 ],
 "metadata": {
  "kernelspec": {
   "display_name": "Python 3 (ipykernel)",
   "language": "python",
   "name": "python3"
  },
  "language_info": {
   "codemirror_mode": {
    "name": "ipython",
    "version": 3
   },
   "file_extension": ".py",
   "mimetype": "text/x-python",
   "name": "python",
   "nbconvert_exporter": "python",
   "pygments_lexer": "ipython3",
   "version": "3.10.4"
  }
 },
 "nbformat": 4,
 "nbformat_minor": 5
}
