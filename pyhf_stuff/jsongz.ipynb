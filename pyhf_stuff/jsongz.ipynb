{
 "cells": [
  {
   "cell_type": "code",
   "execution_count": 1,
   "id": "41c23e86",
   "metadata": {},
   "outputs": [],
   "source": [
    "import json\n",
    "import gzip"
   ]
  },
  {
   "cell_type": "code",
   "execution_count": 2,
   "id": "a1e117cf",
   "metadata": {},
   "outputs": [],
   "source": [
    "def compress_json(inpath, outpath):\n",
    "    spec = json.load(open(inpath))\n",
    "    with gzip.open(outpath, \"w\") as outfile:\n",
    "        outfile.write(json.dumps(spec).encode())\n"
   ]
  },
  {
   "cell_type": "code",
   "execution_count": 3,
   "id": "407f53da",
   "metadata": {},
   "outputs": [],
   "source": [
    "def decompress_json(inpath):\n",
    "    with gzip.open(inpath, \"r\") as infile:\n",
    "        spec = json.loads(infile.read().decode())\n",
    "    return spec"
   ]
  },
  {
   "cell_type": "code",
   "execution_count": 4,
   "id": "76247d6e",
   "metadata": {},
   "outputs": [],
   "source": [
    "compress_json(\"ins1852821_bkg.json\", \"ins1852821_bkg.json.gz\")"
   ]
  },
  {
   "cell_type": "code",
   "execution_count": 5,
   "id": "aa9c68d5",
   "metadata": {},
   "outputs": [],
   "source": [
    "ref = json.load(open(\"ins1852821_bkg.json\"))"
   ]
  },
  {
   "cell_type": "code",
   "execution_count": 6,
   "id": "c302fbf9",
   "metadata": {},
   "outputs": [],
   "source": [
    "chk = decompress_json(\"ins1852821_bkg.json.gz\")"
   ]
  },
  {
   "cell_type": "code",
   "execution_count": 7,
   "id": "06a9e396",
   "metadata": {},
   "outputs": [
    {
     "data": {
      "text/plain": [
       "True"
      ]
     },
     "execution_count": 7,
     "metadata": {},
     "output_type": "execute_result"
    }
   ],
   "source": [
    "ref == chk"
   ]
  }
 ],
 "metadata": {
  "kernelspec": {
   "display_name": "Python 3 (ipykernel)",
   "language": "python",
   "name": "python3"
  },
  "language_info": {
   "codemirror_mode": {
    "name": "ipython",
    "version": 3
   },
   "file_extension": ".py",
   "mimetype": "text/x-python",
   "name": "python",
   "nbconvert_exporter": "python",
   "pygments_lexer": "ipython3",
   "version": "3.10.4"
  }
 },
 "nbformat": 4,
 "nbformat_minor": 5
}
