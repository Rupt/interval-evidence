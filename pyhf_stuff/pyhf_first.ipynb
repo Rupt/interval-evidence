{
 "cells": [
  {
   "cell_type": "code",
   "execution_count": 36,
   "id": "c4f4e2a8",
   "metadata": {},
   "outputs": [],
   "source": [
    "import pyhf\n",
    "import numpy\n",
    "import matplotlib\n",
    "from matplotlib import pyplot\n",
    "\n",
    "pyhf.set_backend(\"numpy\")"
   ]
  },
  {
   "cell_type": "code",
   "execution_count": 37,
   "id": "35201e06",
   "metadata": {},
   "outputs": [],
   "source": [
    "model = pyhf.simplemodels.uncorrelated_background(\n",
    "    signal=[10.0], bkg=[50.0], bkg_uncertainty=[7.0]\n",
    ")\n",
    "\n",
    "actualdata = numpy.array([55])\n",
    "data = numpy.concatenate([actualdata, model.config.auxdata])"
   ]
  },
  {
   "cell_type": "code",
   "execution_count": 38,
   "id": "9a6d2e3c",
   "metadata": {
    "scrolled": true
   },
   "outputs": [
    {
     "name": "stdout",
     "output_type": "stream",
     "text": [
      "[55.         51.02040816]\n"
     ]
    }
   ],
   "source": [
    "print(data)"
   ]
  },
  {
   "cell_type": "code",
   "execution_count": 39,
   "id": "97fc1c75",
   "metadata": {},
   "outputs": [
    {
     "data": {
      "text/plain": [
       "[1.0, 1.0]"
      ]
     },
     "execution_count": 39,
     "metadata": {},
     "output_type": "execute_result"
    }
   ],
   "source": [
    "model.config.suggested_init()"
   ]
  },
  {
   "cell_type": "code",
   "execution_count": 40,
   "id": "29d1841e",
   "metadata": {},
   "outputs": [
    {
     "data": {
      "text/plain": [
       "[(0, 10), (1e-10, 10.0)]"
      ]
     },
     "execution_count": 40,
     "metadata": {},
     "output_type": "execute_result"
    }
   ],
   "source": [
    "model.config.suggested_bounds()"
   ]
  },
  {
   "cell_type": "code",
   "execution_count": 41,
   "id": "eb736e79",
   "metadata": {},
   "outputs": [
    {
     "data": {
      "text/plain": [
       "[False, False]"
      ]
     },
     "execution_count": 41,
     "metadata": {},
     "output_type": "execute_result"
    }
   ],
   "source": [
    "model.config.suggested_fixed()"
   ]
  },
  {
   "cell_type": "code",
   "execution_count": 42,
   "id": "7176f8a2",
   "metadata": {},
   "outputs": [
    {
     "data": {
      "text/plain": [
       "{'channels': [{'name': 'singlechannel',\n",
       "   'samples': [{'name': 'signal',\n",
       "     'data': [10.0],\n",
       "     'modifiers': [{'name': 'mu', 'type': 'normfactor', 'data': None}]},\n",
       "    {'name': 'background',\n",
       "     'data': [50.0],\n",
       "     'modifiers': [{'name': 'uncorr_bkguncrt',\n",
       "       'type': 'shapesys',\n",
       "       'data': [7.0]}]}]}]}"
      ]
     },
     "execution_count": 42,
     "metadata": {},
     "output_type": "execute_result"
    }
   ],
   "source": [
    "model.spec"
   ]
  },
  {
   "cell_type": "code",
   "execution_count": 43,
   "id": "86f2ac70",
   "metadata": {},
   "outputs": [
    {
     "data": {
      "text/plain": [
       "{'mu': {'slice': slice(0, 1, None),\n",
       "  'paramset': <pyhf.parameters.paramsets.unconstrained at 0x7fc2103a3880>},\n",
       " 'uncorr_bkguncrt': {'slice': slice(1, 2, None),\n",
       "  'paramset': <pyhf.parameters.paramsets.constrained_by_poisson at 0x7fc2103a3370>}}"
      ]
     },
     "execution_count": 43,
     "metadata": {},
     "output_type": "execute_result"
    }
   ],
   "source": [
    "model.config.par_map"
   ]
  },
  {
   "cell_type": "markdown",
   "id": "871672f5",
   "metadata": {},
   "source": [
    "# Data are extended by model.config.auxdata\n",
    "# Parameters are not"
   ]
  },
  {
   "cell_type": "code",
   "execution_count": 44,
   "id": "c8421f4d",
   "metadata": {},
   "outputs": [
    {
     "data": {
      "text/plain": [
       "array([60.])"
      ]
     },
     "execution_count": 44,
     "metadata": {},
     "output_type": "execute_result"
    }
   ],
   "source": [
    "model.expected_actualdata(model.config.suggested_init())"
   ]
  },
  {
   "cell_type": "code",
   "execution_count": 45,
   "id": "fadcdab1",
   "metadata": {},
   "outputs": [
    {
     "data": {
      "text/plain": [
       "array([45.])"
      ]
     },
     "execution_count": 45,
     "metadata": {},
     "output_type": "execute_result"
    }
   ],
   "source": [
    "model.expected_actualdata([0.0, 0.9])"
   ]
  },
  {
   "cell_type": "code",
   "execution_count": 46,
   "id": "1b1d7c74",
   "metadata": {},
   "outputs": [
    {
     "data": {
      "text/plain": [
       "array([-7.12118891])"
      ]
     },
     "execution_count": 46,
     "metadata": {},
     "output_type": "execute_result"
    }
   ],
   "source": [
    "model.logpdf([0.0, 0.9], data)"
   ]
  },
  {
   "cell_type": "code",
   "execution_count": 47,
   "id": "d9322238",
   "metadata": {},
   "outputs": [
    {
     "data": {
      "image/png": "[encoded data removed]",
      "text/plain": [
       "<Figure size 432x288 with 1 Axes>"
      ]
     },
     "metadata": {
      "needs_background": "light"
     },
     "output_type": "display_data"
    }
   ],
   "source": [
    "def plot_mu_logp():\n",
    "    grid = numpy.linspace(-3, 3, 101)\n",
    "    \n",
    "    mu = []\n",
    "    logp = []\n",
    "    for x in grid:\n",
    "        mu.append(model.expected_actualdata([0.0, x]))\n",
    "        logp.append(model.logpdf([0.0, x], data))\n",
    "    \n",
    "    pyplot.plot(mu, logp)\n",
    "    pyplot.show()\n",
    "    \n",
    "plot_mu_logp()"
   ]
  },
  {
   "cell_type": "markdown",
   "id": "9ab5d4d9",
   "metadata": {},
   "source": [
    "# how to exclude poisson terms?\n",
    "_MainModel \n",
    "````python\n",
    "    def make_pdf(self, pars):\n",
    "        lambdas_data = self.expected_data(pars)\n",
    "        return prob.Independent(prob.Poisson(lambdas_data))\n",
    "````\n",
    "\n",
    "# simplest to just subtract them"
   ]
  },
  {
   "cell_type": "code",
   "execution_count": 51,
   "id": "b056986a",
   "metadata": {},
   "outputs": [
    {
     "data": {
      "image/png": "[encoded data removed]",
      "text/plain": [
       "<Figure size 432x288 with 1 Axes>"
      ]
     },
     "metadata": {
      "needs_background": "light"
     },
     "output_type": "display_data"
    },
    {
     "name": "stderr",
     "output_type": "stream",
     "text": [
      "/tmp/ipykernel_6228/1455046509.py:23: RuntimeWarning: invalid value encountered in subtract\n",
      "  pyplot.plot(mu, numpy.array(logp) - loglike)\n"
     ]
    },
    {
     "data": {
      "image/png": "[encoded data removed]",
      "text/plain": [
       "<Figure size 432x288 with 1 Axes>"
      ]
     },
     "metadata": {
      "needs_background": "light"
     },
     "output_type": "display_data"
    }
   ],
   "source": [
    "def plot_mu_logp_nolikelihood():\n",
    "    grid = numpy.linspace(-3, 3, 101)#\n",
    "    \n",
    "    ndata = data[0]\n",
    "    \n",
    "    mu = []\n",
    "    logp = []\n",
    "    loglike = []\n",
    "    for x in grid:\n",
    "        mux = model.expected_actualdata([0.0, x])\n",
    "        logpx = model.logpdf([0.0, x], data)\n",
    "        \n",
    "        loglikex = pyhf.probability.Poisson(mux).log_prob(actualdata)\n",
    "        \n",
    "        mu.append(mux)\n",
    "        logp.append(logpx)\n",
    "        loglike.append(loglikex)\n",
    "    \n",
    "    pyplot.plot(mu, logp)\n",
    "    pyplot.plot(mu, loglike)\n",
    "    pyplot.show()\n",
    "    \n",
    "    pyplot.plot(mu, numpy.array(logp) - loglike)\n",
    "    pyplot.show()\n",
    "\n",
    "plot_mu_logp_nolikelihood()"
   ]
  },
  {
   "cell_type": "code",
   "execution_count": null,
   "id": "1bdef657",
   "metadata": {},
   "outputs": [],
   "source": []
  }
 ],
 "metadata": {
  "kernelspec": {
   "display_name": "Python 3 (ipykernel)",
   "language": "python",
   "name": "python3"
  },
  "language_info": {
   "codemirror_mode": {
    "name": "ipython",
    "version": 3
   },
   "file_extension": ".py",
   "mimetype": "text/x-python",
   "name": "python",
   "nbconvert_exporter": "python",
   "pygments_lexer": "ipython3",
   "version": "3.10.4"
  }
 },
 "nbformat": 4,
 "nbformat_minor": 5
}
