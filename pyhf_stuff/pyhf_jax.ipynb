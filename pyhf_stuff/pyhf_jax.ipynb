{
 "cells": [
  {
   "cell_type": "code",
   "execution_count": 1,
   "id": "2d76f3d4",
   "metadata": {},
   "outputs": [],
   "source": [
    "import pyhf\n",
    "import numpy\n",
    "import jax\n",
    "\n",
    "pyhf.set_backend(\"jax\")\n",
    "jax.config.update(\"jax_platform_name\", \"cpu\")\n",
    "jax.config.update(\"jax_enable_x64\", True)"
   ]
  },
  {
   "cell_type": "code",
   "execution_count": 2,
   "id": "511d6727",
   "metadata": {},
   "outputs": [
    {
     "name": "stdout",
     "output_type": "stream",
     "text": [
      "-1.665947435039924\n",
      "-1.665947435039924\n",
      "0.4285714285714286 0.42857108883964656\n",
      "{ lambda ; a:f64[]. let\n",
      "    b:f64[] = log a\n",
      "    c:f64[] = mul 3.0 b\n",
      "    d:f64[] = sub c a\n",
      "    e:f64[] = add 3.0 1.0\n",
      "    f:f64[] = lgamma e\n",
      "    g:f64[] = sub d f\n",
      "  in (g,) }\n"
     ]
    }
   ],
   "source": [
    "def test_jax(xtest):\n",
    "    \n",
    "    def foo(x):\n",
    "        return pyhf.probability.Poisson(x).log_prob(3)\n",
    "    \n",
    "    foo_jax = jax.jit(foo)\n",
    "    \n",
    "    print(foo(xtest))\n",
    "    print(foo_jax(xtest))\n",
    "    \n",
    "    eps = 1e-6\n",
    "    foo_grad = (foo(xtest + eps) - foo(xtest)) / eps\n",
    "    print(jax.grad(foo)(xtest), foo_grad)\n",
    "    \n",
    "    jaxpr = jax.make_jaxpr(foo)(xtest)\n",
    "    \n",
    "    print(jaxpr)\n",
    "    \n",
    "test_jax(2.1)"
   ]
  },
  {
   "cell_type": "code",
   "execution_count": 3,
   "id": "c80ee2a0",
   "metadata": {
    "scrolled": true
   },
   "outputs": [
    {
     "name": "stdout",
     "output_type": "stream",
     "text": [
      "-6.050081503235106\n",
      "-6.050081503235134\n",
      "-4.638218923933216 -4.638262822709294\n"
     ]
    }
   ],
   "source": [
    "def test_model(xtest):\n",
    "    model = pyhf.simplemodels.uncorrelated_background(\n",
    "        signal=[10.0], bkg=[50.0], bkg_uncertainty=[7.0]\n",
    "    )\n",
    "\n",
    "    actualdata = numpy.array([55])\n",
    "    data = numpy.concatenate([actualdata, model.config.auxdata])\n",
    "    \n",
    "    def foo(x):\n",
    "        return model.logpdf([0.0, x], data).sum()\n",
    "    \n",
    "    foo_jax = jax.jit(foo)\n",
    "    \n",
    "    print(foo(xtest))\n",
    "    print(foo_jax(xtest))\n",
    "    \n",
    "    eps = 1e-6\n",
    "    foo_grad = (foo(xtest + eps) - foo(xtest)) / eps\n",
    "    print(jax.grad(foo)(xtest), foo_grad)\n",
    "    \n",
    "    # %timeit numpy.array(foo(xtest))\n",
    "    # %timeit numpy.array(foo_jax(xtest))\n",
    "    # 6.57 ms ± 79.3 µs per loop (mean ± std. dev. of 7 runs, 100 loops each)\n",
    "    # 4.8 µs ± 21.8 ns per loop (mean ± std. dev. of 7 runs, 100,000 loops each)\n",
    "\n",
    "test_model(1.1)"
   ]
  },
  {
   "cell_type": "code",
   "execution_count": 4,
   "id": "32c358f0",
   "metadata": {},
   "outputs": [],
   "source": [
    "def _model_logpdf_masked(model, pars, data, mask):\n",
    "    tensorlib, _ = pyhf.get_backend()\n",
    "    pars, data = tensorlib.astensor(pars), tensorlib.astensor(data)\n",
    "    \n",
    "    # Verify parameter and data shapes\n",
    "    if pars.shape[-1] != model.config.npars:\n",
    "        raise ValueError(\n",
    "            f\"pars has len {pars.shape[-1]} but \"\n",
    "            f\"{model.config.npars} was expected\"\n",
    "        )\n",
    "\n",
    "    len_actualdata = model.nominal_rates.shape[-1]\n",
    "    len_auxdata = len(model.config.auxdata)\n",
    "    if data.shape[-1] != len_actualdata + len_auxdata:\n",
    "        raise ValueError(\n",
    "            f\"data has len {data.shape[-1]} but \"\n",
    "            f\"{model.config.nmaindata + model.config.nauxdata} was expected\"\n",
    "        )\n",
    "        \n",
    "    # nan != nan\n",
    "    pdf = _model_make_pdf_masked(model, pars, mask)\n",
    "    \n",
    "    actualdata = data[:len_actualdata]\n",
    "    auxdata = data[len_actualdata:]\n",
    "    \n",
    "    actualdata_masked = tensorlib.where(mask, actualdata, 0)\n",
    "    data_masked = tensorlib.concatenate([actualdata_masked, auxdata])\n",
    "    \n",
    "    result = pdf.log_prob(data_masked)\n",
    "\n",
    "    if model.batch_size:\n",
    "        return result\n",
    "    \n",
    "    return tensorlib.reshape(result, (1,))\n",
    "\n",
    "\n",
    "def _model_make_pdf_masked(model, pars, mask):\n",
    "    tensorlib, _ = pyhf.get_backend()\n",
    "\n",
    "    pdfobjs = []\n",
    "    \n",
    "    mainpdf = _main_model_make_pdf_masked(model.main_model, pars, mask)\n",
    "    if mainpdf:\n",
    "        pdfobjs.append(mainpdf)\n",
    "        \n",
    "    constraintpdf = model.constraint_model.make_pdf(pars)\n",
    "    if constraintpdf:\n",
    "        pdfobjs.append(constraintpdf)\n",
    "\n",
    "    return pyhf.probability.Simultaneous(pdfobjs, model.fullpdf_tv, model.batch_size)\n",
    "\n",
    "\n",
    "def _main_model_make_pdf_masked(main_model, pars, mask):\n",
    "    tensorlib, _ = pyhf.get_backend()\n",
    "    \n",
    "    lambdas_data = main_model.expected_data(pars)\n",
    "    \n",
    "    # pyhf gets poisson(0 | 0.0) wrong, so settle for a small mean\n",
    "    tiny = numpy.finfo(numpy.float64).tiny\n",
    "    lambdas_blinded = tensorlib.where(mask, lambdas_data, tiny)\n",
    "    \n",
    "    return pyhf.probability.Independent(pyhf.probability.Poisson(lambdas_blinded))"
   ]
  },
  {
   "cell_type": "code",
   "execution_count": 5,
   "id": "730a6cca",
   "metadata": {},
   "outputs": [
    {
     "name": "stdout",
     "output_type": "stream",
     "text": [
      "-7.969519336366574\n",
      "-7.969519336366631\n",
      "-4.073084699392325\n",
      "-4.073084699392382\n",
      "-7.969519336366574 -7.969519336366574\n"
     ]
    }
   ],
   "source": [
    "def test_model_masked(xtest):\n",
    "    model = pyhf.simplemodels.uncorrelated_background(\n",
    "        signal=[0.0], bkg=[55.0], bkg_uncertainty=[7.0]\n",
    "    )\n",
    "    \n",
    "    nobs = 55\n",
    "\n",
    "    actualdata = numpy.array([nobs])\n",
    "    data = numpy.concatenate([actualdata, model.config.auxdata])\n",
    "    \n",
    "    def foo(x):\n",
    "        return model.logpdf([0.0, x], data).sum()\n",
    "    \n",
    "    foo_jax = jax.jit(foo)\n",
    "    \n",
    "    print(foo(xtest))\n",
    "    print(foo_jax(xtest))\n",
    "    \n",
    "\n",
    "    mask = numpy.array([False])\n",
    "    \n",
    "    def bar(x):\n",
    "        return _model_logpdf_masked(model, [0.0, x], data, mask).sum()\n",
    "    \n",
    "    bar_jax = jax.jit(bar)\n",
    "    \n",
    "    print(bar(xtest))\n",
    "    print(bar_jax(xtest))\n",
    "    \n",
    "    tensorlib, _ = pyhf.get_backend()\n",
    "    pars = tensorlib.astensor([0.0, xtest])\n",
    "    expected_data = model.make_pdf(pars).expected_data()\n",
    "    mu = expected_data[0]\n",
    "    \n",
    "    like = pyhf.probability.Poisson(mu).log_prob(nobs)\n",
    "    \n",
    "    print(foo(xtest), bar(xtest) + like)\n",
    "    \n",
    "\n",
    "test_model_masked(1.2)"
   ]
  },
  {
   "cell_type": "code",
   "execution_count": 6,
   "id": "3fc537c3",
   "metadata": {},
   "outputs": [
    {
     "data": {
      "text/plain": [
       "DeviceArray(-1.e-307, dtype=float64, weak_type=True)"
      ]
     },
     "execution_count": 6,
     "metadata": {},
     "output_type": "execute_result"
    }
   ],
   "source": [
    "tensorlib, _ = pyhf.get_backend()\n",
    "tensorlib.poisson_logpdf(0, 1e-307)"
   ]
  },
  {
   "cell_type": "code",
   "execution_count": 7,
   "id": "79cb75f2",
   "metadata": {},
   "outputs": [
    {
     "data": {
      "text/plain": [
       "5e-324"
      ]
     },
     "execution_count": 7,
     "metadata": {},
     "output_type": "execute_result"
    }
   ],
   "source": [
    "numpy.finfo(numpy.float64).tiny * 2 ** -52"
   ]
  },
  {
   "cell_type": "code",
   "execution_count": 8,
   "id": "8ec8ac69",
   "metadata": {},
   "outputs": [
    {
     "name": "stdout",
     "output_type": "stream",
     "text": [
      "<pyhf.pdf.Model object at 0x7f712fd39960>\n",
      "<pyhf.pdf._ModelConfig object at 0x7f70cc433460>\n",
      "['singlechannel']\n",
      "['singlechannel']\n",
      "{'singlechannel': 1}\n",
      "{'singlechannel': slice(0, 1, None)}\n"
     ]
    }
   ],
   "source": [
    "def test_model_named():\n",
    "    model = pyhf.simplemodels.uncorrelated_background(\n",
    "        signal=[0.0], bkg=[55.0], bkg_uncertainty=[7.0]\n",
    "    )\n",
    "    \n",
    "    print(model)\n",
    "    print(model.config)\n",
    "    # https://github.com/scikit-hep/pyhf/blob/9135b41605296727ce949d329886ad5b44345f44/src/pyhf/mixins.py#L6\n",
    "    print(model.config.channels)\n",
    "    print(model.config.channels)\n",
    "    print(model.config.channel_nbins)\n",
    "    print(model.config.channel_slices)\n",
    "    \n",
    "test_model_named()"
   ]
  },
  {
   "cell_type": "code",
   "execution_count": 9,
   "id": "4e519cbd",
   "metadata": {},
   "outputs": [],
   "source": [
    "def _make_mask(model, blind_bins):\n",
    "    \"\"\" Return a mask to blind data in specified blind_bins. \"\"\"\n",
    "    channel_to_slice = model.config.channel_slices\n",
    "    \n",
    "    # the last slice is the number of channelbins\n",
    "    ntot = next(reversed(channel_to_slice.values())).stop\n",
    "    mask = numpy.ones(ntot, dtype=bool)\n",
    "    \n",
    "    for channelbin in blind_bins:\n",
    "        str_form = isinstance(channelbin, str)\n",
    "        if str_form:\n",
    "            channelbin = (channelbin, 0)\n",
    "\n",
    "        channel, bin_ = channelbin\n",
    "        \n",
    "        slice_ = channel_to_slice[channel]\n",
    "        assert slice_.step is None\n",
    "        slice_range = range(slice_.start, slice_.stop)\n",
    "        \n",
    "        nbins = len(slice_range)\n",
    "        if str_form and nbins != 1:\n",
    "            raise ValueError(f\"bin index is needed for channel {channel} with {nbins=}\")\n",
    "            \n",
    "        i = slice_range[bin_]\n",
    "        mask[i] = False\n",
    "\n",
    "    return mask"
   ]
  },
  {
   "cell_type": "code",
   "execution_count": 10,
   "id": "ec5188fb",
   "metadata": {},
   "outputs": [
    {
     "name": "stdout",
     "output_type": "stream",
     "text": [
      "[False]\n"
     ]
    }
   ],
   "source": [
    "def test_model_named_mask():\n",
    "    model = pyhf.simplemodels.uncorrelated_background(\n",
    "        signal=[0.0], bkg=[55.0], bkg_uncertainty=[7.0]\n",
    "    )\n",
    "    \n",
    "    print(_make_mask(model, {(\"singlechannel\", 0)}))\n",
    "    \n",
    "test_model_named_mask()"
   ]
  },
  {
   "cell_type": "code",
   "execution_count": 11,
   "id": "459516e7",
   "metadata": {},
   "outputs": [],
   "source": [
    "def model_logpdf_blind(model, pars, data, blind_bins):\n",
    "    \"\"\"\n",
    "    Return a \"logpdf\" value with blinded channel-bins.\n",
    "    \n",
    "    Modified from pyhf.pdf.Model.logpdf\n",
    "\n",
    "    Args:\n",
    "        model: pyhf.pdf.Model-like\n",
    "        pars (:obj:`tensor`): The parameter values\n",
    "        data (:obj:`tensor`): The measurement data\n",
    "        blinded_channelbins: Sequence of either\n",
    "            pair (channel_name, bin_index)\n",
    "            or str channel_name.\n",
    "            str channel_name requires that the channel has one bin only.\n",
    "\n",
    "    Returns:\n",
    "        Tensor: The \"log density\" value\n",
    "\n",
    "    \"\"\"\n",
    "    mask = _make_mask(model, blind_bins)\n",
    "    return _model_logpdf_masked(model, pars, data, mask)"
   ]
  },
  {
   "cell_type": "code",
   "execution_count": 12,
   "id": "3cebd640",
   "metadata": {},
   "outputs": [
    {
     "name": "stdout",
     "output_type": "stream",
     "text": [
      "-7.969519336366574\n",
      "-7.969519336366631\n",
      "-4.073084699392325\n",
      "-4.073084699392382\n",
      "-7.969519336366574 -7.969519336366574\n"
     ]
    }
   ],
   "source": [
    "def test_model_blinded(xtest):\n",
    "    model = pyhf.simplemodels.uncorrelated_background(\n",
    "        signal=[0.0], bkg=[55.0], bkg_uncertainty=[7.0]\n",
    "    )\n",
    "    \n",
    "    nobs = 55\n",
    "\n",
    "    actualdata = numpy.array([nobs])\n",
    "    data = numpy.concatenate([actualdata, model.config.auxdata])\n",
    "    \n",
    "    def foo(x):\n",
    "        return model.logpdf([0.0, x], data).sum()\n",
    "    \n",
    "    foo_jax = jax.jit(foo)\n",
    "    \n",
    "    print(foo(xtest))\n",
    "    print(foo_jax(xtest))\n",
    "    \n",
    "    blinded = {\"singlechannel\"}\n",
    "    \n",
    "    def bar(x):\n",
    "        return model_logpdf_blind(model, [0.0, x], data, blinded).sum()\n",
    "    \n",
    "    bar_jax = jax.jit(bar)\n",
    "    \n",
    "    print(bar(xtest))\n",
    "    print(bar_jax(xtest))\n",
    "    \n",
    "    tensorlib, _ = pyhf.get_backend()\n",
    "    pars = tensorlib.astensor([0.0, xtest])\n",
    "    expected_data = model.make_pdf(pars).expected_data()\n",
    "    mu = expected_data[0]\n",
    "    \n",
    "    like = pyhf.probability.Poisson(mu).log_prob(nobs)\n",
    "    \n",
    "    print(foo(xtest), bar(xtest) + like)\n",
    "    \n",
    "\n",
    "test_model_blinded(1.2)"
   ]
  },
  {
   "cell_type": "code",
   "execution_count": null,
   "id": "c40b168d",
   "metadata": {},
   "outputs": [],
   "source": []
  }
 ],
 "metadata": {
  "kernelspec": {
   "display_name": "Python 3 (ipykernel)",
   "language": "python",
   "name": "python3"
  },
  "language_info": {
   "codemirror_mode": {
    "name": "ipython",
    "version": 3
   },
   "file_extension": ".py",
   "mimetype": "text/x-python",
   "name": "python",
   "nbconvert_exporter": "python",
   "pygments_lexer": "ipython3",
   "version": "3.10.4"
  }
 },
 "nbformat": 4,
 "nbformat_minor": 5
}
