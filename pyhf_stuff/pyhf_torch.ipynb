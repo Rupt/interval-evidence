{
 "cells": [
  {
   "cell_type": "code",
   "execution_count": 3,
   "id": "f2f17961",
   "metadata": {},
   "outputs": [],
   "source": [
    "import pyhf\n",
    "import torch\n",
    "\n",
    "pyhf.set_backend(\"pytorch\")"
   ]
  },
  {
   "cell_type": "code",
   "execution_count": 19,
   "id": "7a978f0b",
   "metadata": {},
   "outputs": [
    {
     "name": "stdout",
     "output_type": "stream",
     "text": [
      "tensor(2.1000, requires_grad=True)\n",
      "tensor(-1.6659, grad_fn=<SubBackward0>)\n",
      "tensor(0.4286)\n",
      "tensor(0.4286)\n"
     ]
    }
   ],
   "source": [
    "def test_torch(xtest):\n",
    "    \n",
    "    xin = torch.tensor(xtest, requires_grad=True)\n",
    "    \n",
    "    print(xin)\n",
    "    \n",
    "    def foo(x):\n",
    "        return pyhf.probability.Poisson(x).log_prob(3)\n",
    "    \n",
    "    out = foo(xin)\n",
    "    print(out)\n",
    "    out.backward()\n",
    "    print(xin.grad)\n",
    "    \n",
    "    eps = 1e-6\n",
    "    foo_grad = (foo(xtest + eps) - foo(xtest)) / eps\n",
    "    print(foo_grad)\n",
    "    \n",
    "    \n",
    "test_torch(2.1)"
   ]
  }
 ],
 "metadata": {
  "kernelspec": {
   "display_name": "Python 3 (ipykernel)",
   "language": "python",
   "name": "python3"
  },
  "language_info": {
   "codemirror_mode": {
    "name": "ipython",
    "version": 3
   },
   "file_extension": ".py",
   "mimetype": "text/x-python",
   "name": "python",
   "nbconvert_exporter": "python",
   "pygments_lexer": "ipython3",
   "version": "3.10.4"
  }
 },
 "nbformat": 4,
 "nbformat_minor": 5
}
