{
 "cells": [
  {
   "cell_type": "code",
   "execution_count": 1,
   "id": "20e4ccba",
   "metadata": {
    "scrolled": false
   },
   "outputs": [],
   "source": [
    "import os\n",
    "import json\n",
    "import functools\n",
    "from types import SimpleNamespace\n",
    "\n",
    "import numpy\n",
    "import matplotlib\n",
    "from matplotlib import pyplot\n",
    "import scipy.special\n",
    "import scipy.optimize\n",
    "\n",
    "from discohisto import (\n",
    "    fit_normal,\n",
    "    fit_cabinetry,\n",
    "    fit_cabinetry_post,\n",
    "    fit_linspace,\n",
    "    fit_mcmc_mix,\n",
    "    fit_mcmc_tfp_ham,\n",
    "    region,\n",
    "    limit,\n",
    "    stats,\n",
    ")"
   ]
  },
  {
   "cell_type": "code",
   "execution_count": 2,
   "id": "d4179e79",
   "metadata": {},
   "outputs": [],
   "source": [
    "SEARCHES_PATH = \"searches/\""
   ]
  },
  {
   "cell_type": "code",
   "execution_count": 3,
   "id": "f366b6f0",
   "metadata": {},
   "outputs": [],
   "source": [
    "@functools.cache\n",
    "def load_searches():\n",
    "    searches = []\n",
    "    for item in os.scandir(SEARCHES_PATH):\n",
    "        if not item.is_dir():\n",
    "            continue\n",
    "        searches.append(item.name)\n",
    "        \n",
    "    return sorted(searches)\n",
    "\n",
    "\n",
    "def load_reported(search):\n",
    "    path = os.path.join(SEARCHES_PATH, search, \"reported.json\")\n",
    "    with open(path) as file_:\n",
    "        reported = json.load(file_)\n",
    "    return reported\n",
    "\n",
    "\n",
    "def _get_n_region(reg):\n",
    "    sr_name = reg.signal_region_name\n",
    "    observations = reg.workspace\n",
    "\n",
    "    for obs in reg.workspace[\"observations\"]:\n",
    "        if obs[\"name\"] == sr_name:\n",
    "            return obs[\"data\"][0]\n",
    "\n",
    "    raise ValueError(sr_name)\n",
    "\n",
    "\n",
    "def _load_mcmc_limits(path, *, suffix):\n",
    "    mcmc_types = [\"mix\", \"tfp_ham\"]\n",
    "    lim = None\n",
    "    for mcmc_type in mcmc_types:\n",
    "        suffix_i = \"_mcmc_%s_%s\" % (mcmc_type, suffix)\n",
    "        try:\n",
    "            lim = limit.LimitScan.load(path, suffix=suffix_i)\n",
    "        except FileNotFoundError:\n",
    "            ...\n",
    "    assert lim is not None\n",
    "    return lim\n",
    "\n",
    "\n",
    "def _load_limit(limit_dir, suffix):\n",
    "    lim = limit.LimitScan.load(limit_dir, suffix=suffix)\n",
    "    assert lim.levels[6:8] == [-2, -3], lim.levels[6:8]\n",
    "    return lim\n",
    "\n",
    "\n",
    "def _limit_logl(lim):\n",
    "    return numpy.log(numpy.mean(lim.integral_zero))"
   ]
  },
  {
   "cell_type": "code",
   "execution_count": 4,
   "id": "3e1e31b5",
   "metadata": {},
   "outputs": [],
   "source": [
    "def load_frame():\n",
    "    searches = load_searches()\n",
    "    \n",
    "    # frame entries\n",
    "    search_ = []\n",
    "    region_ = []\n",
    "    reported_n = []\n",
    "    reported_bkg = []\n",
    "    reported_bkg_hi = []\n",
    "    reported_bkg_lo = []\n",
    "    reported_s95obs = []\n",
    "    reported_s95exp = []\n",
    "    reported_s95exp_hi = []\n",
    "    reported_s95exp_lo = []\n",
    "    \n",
    "    region_n = []\n",
    "    \n",
    "    # fit results\n",
    "    fit_cabinetry_bkg = []\n",
    "    fit_cabinetry_err = []\n",
    "    fit_cabinetry_post_bkg = []\n",
    "    fit_cabinetry_post_err = []\n",
    "    \n",
    "    # limits observed\n",
    "    limit_cabinetry_logl = []\n",
    "    limit_cabinetry_2obs = []\n",
    "    limit_cabinetry_3obs = []\n",
    "    \n",
    "    limit_cabinetry_post_2obs = []\n",
    "    limit_cabinetry_post_3obs = []\n",
    "    \n",
    "    limit_normal_logl = []\n",
    "    limit_normal_2obs = []\n",
    "    limit_normal_3obs = []\n",
    "    \n",
    "    limit_normal_log_logl = []\n",
    "    limit_normal_log_2obs = []\n",
    "    limit_normal_log_3obs = []\n",
    "    \n",
    "    limit_linspace_logl = []\n",
    "    limit_linspace_2obs = []\n",
    "    limit_linspace_3obs = []\n",
    "    \n",
    "    limit_delta_logl = []\n",
    "    limit_delta_2obs = []\n",
    "    limit_delta_3obs = []\n",
    "    \n",
    "    limit_mcmc_logl = []\n",
    "    limit_mcmc_2obs = []\n",
    "    limit_mcmc_3obs = []\n",
    "    \n",
    "    # limits expected\n",
    "    limit_cabinetry_bkgexp = []\n",
    "    limit_cabinetry_3exp = []\n",
    "    limit_cabinetry_3exp_hi = []\n",
    "    limit_cabinetry_3exp_lo = []\n",
    "    \n",
    "    limit_normal_bkgexp = []\n",
    "    limit_normal_3exp = []\n",
    "    limit_normal_3exp_hi = []\n",
    "    limit_normal_3exp_lo = []\n",
    "    \n",
    "    limit_normal_log_bkgexp = []\n",
    "    limit_normal_log_3exp = []\n",
    "    limit_normal_log_3exp_hi = []\n",
    "    limit_normal_log_3exp_lo = []\n",
    "    \n",
    "    limit_linspace_bkgexp = []\n",
    "    limit_linspace_3exp = []\n",
    "    limit_linspace_3exp_hi = []\n",
    "    limit_linspace_3exp_lo = []\n",
    "    \n",
    "    limit_delta_bkgexp = []\n",
    "    limit_delta_3exp = []\n",
    "    limit_delta_3exp_hi = []\n",
    "    limit_delta_3exp_lo = []\n",
    "    \n",
    "    limit_mcmc_bkgexp = []\n",
    "    limit_mcmc_3exp = []\n",
    "    limit_mcmc_3exp_hi = []\n",
    "    limit_mcmc_3exp_lo = []\n",
    "    \n",
    "    for search in searches:\n",
    "        reported = load_reported(search)\n",
    "        for region_name in reported:\n",
    "            search_.append(search)\n",
    "            region_.append(region_name)\n",
    "            \n",
    "            # reported\n",
    "            reported_reg = reported[region_name]\n",
    "            \n",
    "            n_observed = reported_reg[\"n\"]\n",
    "            reported_n.append(n_observed)\n",
    "            reported_bkg.append(reported_reg[\"bkg\"])\n",
    "            reported_bkg_hi.append(reported_reg[\"bkg_hi\"])\n",
    "            reported_bkg_lo.append(reported_reg[\"bkg_lo\"])\n",
    "            reported_s95obs.append(reported_reg[\"s95obs\"])\n",
    "            reported_s95exp.append(reported_reg[\"s95exp\"])\n",
    "            reported_s95exp_hi.append(reported_reg[\"s95exp_hi\"])\n",
    "            reported_s95exp_lo.append(reported_reg[\"s95exp_lo\"])\n",
    "            \n",
    "            # region\n",
    "            region_dir = os.path.join(SEARCHES_PATH, search, region_name)\n",
    "            region_i = region.Region.load(region_dir)\n",
    "            region_n.append(_get_n_region(region_i))\n",
    "            \n",
    "            # standard fits\n",
    "            fit_dir = os.path.join(region_dir, \"fit\")\n",
    "            \n",
    "            fit = fit_cabinetry.FitCabinetry.load(fit_dir)\n",
    "            fit_cabinetry_bkg.append(fit.yield_pre)\n",
    "            fit_cabinetry_err.append(fit.error_pre)\n",
    "            \n",
    "            fit = fit_cabinetry_post.FitCabinetryPost.load(fit_dir)\n",
    "            fit_cabinetry_post_bkg.append(fit.yield_post)\n",
    "            fit_cabinetry_post_err.append(fit.error_post)\n",
    "            \n",
    "            fit = fit_normal.FitNormal.load(fit_dir)\n",
    "            mu_delta = fit.yield_linear\n",
    "            \n",
    "            # limits\n",
    "            limit_dir = os.path.join(fit_dir, \"limit\")\n",
    "            load_limit = functools.partial(_load_limit, limit_dir)\n",
    "            \n",
    "            # limits observed\n",
    "            lim = load_limit(\"_cabinetry_observed\")\n",
    "            limit_cabinetry_logl.append(_limit_logl(lim))\n",
    "            limit_cabinetry_2obs.append(lim.points[6][-1])\n",
    "            limit_cabinetry_3obs.append(lim.points[7][-1])\n",
    "            \n",
    "            lim = load_limit(\"_cabinetry_post_observed\")\n",
    "            limit_cabinetry_post_2obs.append(lim.points[6][-1])\n",
    "            limit_cabinetry_post_3obs.append(lim.points[7][-1])\n",
    "            \n",
    "            lim = load_limit(\"_normal_observed\")\n",
    "            limit_normal_logl.append(_limit_logl(lim))\n",
    "            limit_normal_2obs.append(lim.points[6][-1])\n",
    "            limit_normal_3obs.append(lim.points[7][-1])\n",
    "            \n",
    "            lim = load_limit(\"_normal_log_observed\")\n",
    "            limit_normal_log_logl.append(_limit_logl(lim))\n",
    "            limit_normal_log_2obs.append(lim.points[6][-1])\n",
    "            limit_normal_log_3obs.append(lim.points[7][-1])\n",
    "            \n",
    "            lim = load_limit(\"_linspace_observed\")\n",
    "            limit_linspace_logl.append(_limit_logl(lim))\n",
    "            limit_linspace_2obs.append(lim.points[6][-1])\n",
    "            limit_linspace_3obs.append(lim.points[7][-1])\n",
    "                        \n",
    "            lim = limit.LimitScanDelta.load(limit_dir, suffix=\"_observed\")\n",
    "            assert lim.levels[6:8] == [-2, -3], lim.levels[6:8]\n",
    "            limit_delta_logl.append(stats.poisson_log_minus_max(n_observed, mu_delta))\n",
    "            limit_delta_2obs.append(lim.points[6][-1])\n",
    "            limit_delta_3obs.append(lim.points[7][-1])\n",
    "            \n",
    "            lim = _load_mcmc_limits(limit_dir, suffix=\"observed\")\n",
    "            assert lim.levels[6:8] == [-2, -3], lim.levels[6:8]\n",
    "            limit_mcmc_logl.append(_limit_logl(lim))\n",
    "            limit_mcmc_2obs.append(lim.points[6][-1])\n",
    "            limit_mcmc_3obs.append(lim.points[7][-1])\n",
    "            \n",
    "            # limits expected\n",
    "            lim = load_limit(\"_cabinetry_central\")\n",
    "            limit_cabinetry_bkgexp.append(lim.ndata)\n",
    "            limit_cabinetry_3exp.append(lim.points[7][-1])\n",
    "            lim = load_limit(\"_cabinetry_up\")\n",
    "            limit_cabinetry_3exp_hi.append(lim.points[7][-1])\n",
    "            lim = load_limit(\"_cabinetry_down\")\n",
    "            limit_cabinetry_3exp_lo.append(lim.points[7][-1])\n",
    "            \n",
    "            lim = load_limit(\"_normal_central\")\n",
    "            limit_normal_bkgexp.append(lim.ndata)\n",
    "            limit_normal_3exp.append(lim.points[7][-1])\n",
    "            lim = load_limit(\"_normal_up\")\n",
    "            limit_normal_3exp_hi.append(lim.points[7][-1])\n",
    "            lim = load_limit(\"_normal_down\")\n",
    "            limit_normal_3exp_lo.append(lim.points[7][-1])\n",
    "            \n",
    "            lim = load_limit(\"_normal_log_central\")\n",
    "            limit_normal_log_bkgexp.append(lim.ndata)\n",
    "            limit_normal_log_3exp.append(lim.points[7][-1])\n",
    "            lim = load_limit(\"_normal_log_up\")\n",
    "            limit_normal_log_3exp_hi.append(lim.points[7][-1])\n",
    "            lim = load_limit(\"_normal_log_down\")\n",
    "            limit_normal_log_3exp_lo.append(lim.points[7][-1])\n",
    "            \n",
    "            lim = load_limit(\"_linspace_central\")\n",
    "            limit_linspace_bkgexp.append(lim.ndata)\n",
    "            limit_linspace_3exp.append(lim.points[7][-1])\n",
    "            lim = load_limit(\"_linspace_up\")\n",
    "            limit_linspace_3exp_hi.append(lim.points[7][-1])\n",
    "            lim = load_limit(\"_linspace_down\")\n",
    "            limit_linspace_3exp_lo.append(lim.points[7][-1])\n",
    "            \n",
    "            lim = limit.LimitScanDelta.load(limit_dir, suffix=\"_central\")\n",
    "            assert lim.levels[6:8] == [-2, -3], lim.levels[6:8]\n",
    "            limit_delta_bkgexp.append(lim.ndata)\n",
    "            limit_delta_3exp.append(lim.points[7][-1])\n",
    "            lim = limit.LimitScanDelta.load(limit_dir, suffix=\"_up\")\n",
    "            assert lim.levels[6:8] == [-2, -3], lim.levels[6:8]\n",
    "            limit_delta_3exp_hi.append(lim.points[7][-1])\n",
    "            lim = limit.LimitScanDelta.load(limit_dir, suffix=\"_down\")\n",
    "            assert lim.levels[6:8] == [-2, -3], lim.levels[6:8]\n",
    "            limit_delta_3exp_lo.append(lim.points[7][-1])\n",
    "            \n",
    "            lim = _load_mcmc_limits(limit_dir, suffix=\"central\")\n",
    "            assert lim.levels[6:8] == [-2, -3], lim.levels[6:8]\n",
    "            limit_mcmc_bkgexp.append(lim.ndata)\n",
    "            limit_mcmc_3exp.append(lim.points[7][-1])\n",
    "            lim = _load_mcmc_limits(limit_dir, suffix=\"up\")\n",
    "            assert lim.levels[6:8] == [-2, -3], lim.levels[6:8]\n",
    "            limit_mcmc_3exp_hi.append(lim.points[7][-1])\n",
    "            lim = _load_mcmc_limits(limit_dir, suffix=\"down\")\n",
    "            assert lim.levels[6:8] == [-2, -3], lim.levels[6:8]\n",
    "            limit_mcmc_3exp_lo.append(lim.points[7][-1])\n",
    "\n",
    "    out = dict(\n",
    "        # labels\n",
    "        search_=search_,\n",
    "        region_=region_,\n",
    "        # reported\n",
    "        reported_n=reported_n,\n",
    "        reported_bkg=reported_bkg,\n",
    "        reported_bkg_hi=reported_bkg_hi,\n",
    "        reported_bkg_lo=reported_bkg_lo,\n",
    "        reported_s95obs=reported_s95obs,\n",
    "        reported_s95exp=reported_s95exp,\n",
    "        reported_s95exp_hi=reported_s95exp_hi,\n",
    "        reported_s95exp_lo=reported_s95exp_lo,\n",
    "        region_n=region_n,\n",
    "        # fits\n",
    "        fit_cabinetry_bkg=fit_cabinetry_bkg,\n",
    "        fit_cabinetry_err=fit_cabinetry_err,\n",
    "        fit_cabinetry_post_bkg=fit_cabinetry_post_bkg,\n",
    "        fit_cabinetry_post_err=fit_cabinetry_post_err,\n",
    "        # limits\n",
    "        # observed limits\n",
    "        limit_cabinetry_logl=limit_cabinetry_logl,\n",
    "        limit_cabinetry_2obs=limit_cabinetry_2obs,\n",
    "        limit_cabinetry_3obs=limit_cabinetry_3obs,\n",
    "        limit_cabinetry_post_2obs=limit_cabinetry_post_2obs,\n",
    "        limit_cabinetry_post_3obs=limit_cabinetry_post_3obs,\n",
    "        limit_normal_logl=limit_normal_logl,\n",
    "        limit_normal_2obs=limit_normal_2obs,\n",
    "        limit_normal_3obs=limit_normal_3obs,\n",
    "        limit_normal_log_logl=limit_normal_log_logl,\n",
    "        limit_normal_log_2obs=limit_normal_log_2obs,\n",
    "        limit_normal_log_3obs=limit_normal_log_3obs,\n",
    "        limit_linspace_logl=limit_linspace_logl,\n",
    "        limit_linspace_2obs=limit_linspace_2obs,\n",
    "        limit_linspace_3obs=limit_linspace_3obs,\n",
    "        limit_delta_logl=limit_delta_logl,\n",
    "        limit_delta_2obs=limit_delta_2obs,\n",
    "        limit_delta_3obs=limit_delta_3obs,\n",
    "        limit_mcmc_logl=limit_mcmc_logl,\n",
    "        limit_mcmc_2obs=limit_mcmc_2obs,\n",
    "        limit_mcmc_3obs=limit_mcmc_3obs,\n",
    "        # expected limits\n",
    "        limit_cabinetry_bkgexp=limit_cabinetry_bkgexp,\n",
    "        limit_cabinetry_3exp=limit_cabinetry_3exp,\n",
    "        limit_cabinetry_3exp_hi=limit_cabinetry_3exp_hi,\n",
    "        limit_cabinetry_3exp_lo=limit_cabinetry_3exp_lo,\n",
    "        limit_normal_bkgexp=limit_normal_bkgexp,\n",
    "        limit_normal_3exp=limit_normal_3exp,\n",
    "        limit_normal_3exp_hi=limit_normal_3exp_hi,\n",
    "        limit_normal_3exp_lo=limit_normal_3exp_lo,\n",
    "        limit_normal_log_bkgexp=limit_normal_log_bkgexp,\n",
    "        limit_normal_log_3exp=limit_normal_log_3exp,\n",
    "        limit_normal_log_3exp_hi=limit_normal_log_3exp_hi,\n",
    "        limit_normal_log_3exp_lo=limit_normal_log_3exp_lo,\n",
    "        limit_linspace_bkgexp=limit_linspace_bkgexp,\n",
    "        limit_linspace_3exp=limit_linspace_3exp,\n",
    "        limit_linspace_3exp_hi=limit_linspace_3exp_hi,\n",
    "        limit_linspace_3exp_lo=limit_linspace_3exp_lo,\n",
    "        limit_delta_bkgexp=limit_delta_bkgexp,\n",
    "        limit_delta_3exp=limit_delta_3exp,\n",
    "        limit_delta_3exp_hi=limit_delta_3exp_hi,\n",
    "        limit_delta_3exp_lo=limit_delta_3exp_lo,\n",
    "        limit_mcmc_bkgexp=limit_mcmc_bkgexp,\n",
    "        limit_mcmc_3exp=limit_mcmc_3exp,\n",
    "        limit_mcmc_3exp_hi=limit_mcmc_3exp_hi,\n",
    "        limit_mcmc_3exp_lo=limit_mcmc_3exp_lo,\n",
    "    )\n",
    "    \n",
    "    return SimpleNamespace(**{key: numpy.array(value) for key, value in out.items()})\n",
    "        \n",
    "\n",
    "FRAME = load_frame()"
   ]
  },
  {
   "cell_type": "code",
   "execution_count": 5,
   "id": "3b5b9dfc",
   "metadata": {
    "scrolled": true
   },
   "outputs": [
    {
     "name": "stdout",
     "output_type": "stream",
     "text": [
      "True\n"
     ]
    }
   ],
   "source": [
    "print(numpy.array_equal(FRAME.reported_n, FRAME.region_n))"
   ]
  },
  {
   "cell_type": "code",
   "execution_count": 6,
   "id": "d4c74921",
   "metadata": {
    "scrolled": true
   },
   "outputs": [
    {
     "name": "stdout",
     "output_type": "stream",
     "text": [
      "['atlas_susy_1Lbb_2020', 'atlas_susy_1Ljets_2021', 'atlas_susy_2L0J_2019', 'atlas_susy_2Ljets_2022', 'atlas_susy_2hadtau_2020', 'atlas_susy_3LRJmimic_2020', 'atlas_susy_3L_2021', 'atlas_susy_3Lresonance_2020', 'atlas_susy_3Lss_2019', 'atlas_susy_4L_2021', 'atlas_susy_DVmuon_2020', 'atlas_susy_compressed_2020', 'atlas_susy_hb_2019', 'atlas_susy_jets_2021']\n"
     ]
    }
   ],
   "source": [
    "print(load_searches())"
   ]
  },
  {
   "cell_type": "markdown",
   "id": "0e00ddce",
   "metadata": {},
   "source": [
    "# Compare fitted backgrounds"
   ]
  },
  {
   "cell_type": "code",
   "execution_count": 7,
   "id": "1c9c05f0",
   "metadata": {},
   "outputs": [],
   "source": [
    "# TODO error bars"
   ]
  },
  {
   "cell_type": "code",
   "execution_count": 8,
   "id": "b46671de",
   "metadata": {},
   "outputs": [
    {
     "data": {
      "image/png": "[encoded data removed]",
      "text/plain": [
       "<Figure size 432x288 with 1 Axes>"
      ]
     },
     "metadata": {
      "needs_background": "light"
     },
     "output_type": "display_data"
    }
   ],
   "source": [
    "def plot_bkgs():\n",
    "    repored_bkg = FRAME.reported_bkg\n",
    "    fit_cabinetry_bkg = FRAME.fit_cabinetry_bkg\n",
    "\n",
    "    y = fit_cabinetry_bkg / repored_bkg\n",
    "    x = numpy.arange(len(y)) + 0.5\n",
    "    \n",
    "    pyplot.scatter(x, y, lw=0, s=2, marker=\",\")\n",
    "    \n",
    "    pyplot.ylim(0, 2)\n",
    "    pyplot.show()\n",
    "    \n",
    "plot_bkgs()"
   ]
  },
  {
   "cell_type": "code",
   "execution_count": 9,
   "id": "5793bba2",
   "metadata": {},
   "outputs": [
    {
     "data": {
      "image/png": "[encoded data removed]",
      "text/plain": [
       "<Figure size 432x288 with 1 Axes>"
      ]
     },
     "metadata": {
      "needs_background": "light"
     },
     "output_type": "display_data"
    }
   ],
   "source": [
    "def plot_bkgs_post():\n",
    "    repored_bkg = FRAME.reported_bkg\n",
    "    fit_cabinetry_bkg = FRAME.fit_cabinetry_post_bkg\n",
    "\n",
    "    y = fit_cabinetry_bkg / repored_bkg\n",
    "    x = numpy.arange(len(y)) + 0.5\n",
    "    \n",
    "    pyplot.scatter(x, y, lw=0, s=2, marker=\",\")\n",
    "    \n",
    "    pyplot.ylim(0, 2)\n",
    "    pyplot.show()\n",
    "    \n",
    "plot_bkgs_post()"
   ]
  },
  {
   "cell_type": "markdown",
   "id": "573da142",
   "metadata": {},
   "source": [
    "# Inspect mean log likelihoods"
   ]
  },
  {
   "cell_type": "code",
   "execution_count": 10,
   "id": "8e7f702f",
   "metadata": {},
   "outputs": [
    {
     "name": "stdout",
     "output_type": "stream",
     "text": [
      "      cabinetry -0.6318  0.0000\n",
      "         normal -0.6332 -0.0014\n",
      "     normal_log -0.6324 -0.0005\n",
      "          delta -0.6918 -0.0599\n",
      "       linspace -0.6753 -0.0435\n",
      "           mcmc -0.8220 -0.1902\n"
     ]
    }
   ],
   "source": [
    "def print_mean_logls():\n",
    "    name_to_mean_logl = {\n",
    "        \"cabinetry\": FRAME.limit_cabinetry_logl.mean(),\n",
    "        \"normal\": FRAME.limit_normal_logl.mean(),\n",
    "        \"normal_log\": FRAME.limit_normal_log_logl.mean(),\n",
    "        \"delta\": FRAME.limit_delta_logl.mean(),\n",
    "        \"linspace\": FRAME.limit_linspace_logl.mean(),\n",
    "        \"mcmc\": FRAME.limit_mcmc_logl.mean(),\n",
    "    }\n",
    "    \n",
    "    ref = max(name_to_mean_logl.values())\n",
    "    \n",
    "    for name, q in name_to_mean_logl.items():\n",
    "        print(\"%15s %7.4f %7.4f\" % (name, q, q - ref))\n",
    "\n",
    "print_mean_logls()    "
   ]
  },
  {
   "cell_type": "code",
   "execution_count": 11,
   "id": "9ed76d73",
   "metadata": {},
   "outputs": [
    {
     "name": "stdout",
     "output_type": "stream",
     "text": [
      "      fun: 0.6315619416091265\n",
      " hess_inv: array([[ 1.05537659e+09,  1.05314745e+09, -1.60193889e+08],\n",
      "       [ 1.05314745e+09,  1.05092302e+09, -1.59855532e+08],\n",
      "       [-1.60193889e+08, -1.59855532e+08,  2.43155699e+07]])\n",
      "      jac: array([ 6.60121441e-06, -6.61611557e-06,  0.00000000e+00])\n",
      "  message: 'Optimization terminated successfully.'\n",
      "     nfev: 120\n",
      "      nit: 25\n",
      "     njev: 30\n",
      "   status: 0\n",
      "  success: True\n",
      "        x: array([235.02823715, 234.61382899, -35.67862285])\n",
      "weights [6.02144400e-001 3.97855600e-001 1.63382351e-118 5.10780332e-103]\n",
      "        mixture -0.6316 _______\n",
      "         .6, .4 -0.6316 _______\n"
     ]
    },
    {
     "data": {
      "image/png": "[encoded data removed]",
      "text/plain": [
       "<Figure size 432x288 with 1 Axes>"
      ]
     },
     "metadata": {
      "needs_background": "light"
     },
     "output_type": "display_data"
    }
   ],
   "source": [
    "def print_optimized_mixture():\n",
    "    name_to_mixture_part = {\n",
    "        \"cabinetry\": FRAME.limit_cabinetry_logl,\n",
    "        \"normal_log\": FRAME.limit_normal_log_logl,\n",
    "        \"linspace\": FRAME.limit_linspace_logl,\n",
    "        \"mcmc\": FRAME.limit_mcmc_logl,\n",
    "    }\n",
    "    \n",
    "    parts = numpy.stack(list(name_to_mixture_part.values())).T\n",
    "    \n",
    "    def mixture_mean_logl(x):\n",
    "        log_weights = log_softmax(x)\n",
    "        return scipy.special.logsumexp(parts + log_weights, axis=1).mean()\n",
    "    \n",
    "    # logit coordinates have a shift freedom. Constrain it by setting x[-1]=0\n",
    "    def loss(x_start):\n",
    "        x = numpy.append(x_start, 0.0)\n",
    "        return -mixture_mean_logl(x)\n",
    "    \n",
    "    result = scipy.optimize.minimize(\n",
    "        loss,\n",
    "        [0.0] * (len(name_to_mixture_part) - 1)\n",
    "    )\n",
    "    print(result)\n",
    "    \n",
    "    result_weights = numpy.exp(log_softmax(numpy.append(result.x, 0.0)))\n",
    "    print(\"weights\", result_weights)\n",
    "    \n",
    "    print(\"%15s %7.4f _______\" % (\"mixture\", -loss(result.x)))\n",
    "    x_p6_p4 = _safe_log([0.6, 0.4, 0])\n",
    "    # offset to wash out the appended zero\n",
    "    print(\"%15s %7.4f _______\" % (\".6, .4\", -loss(x_p6_p4 + 300)))\n",
    "    \n",
    "    # plot a scan\n",
    "    x = numpy.linspace(0, 1, 100)\n",
    "    y = []\n",
    "    for xi in x:\n",
    "        log_weights = _safe_log([xi, 1 - xi, 0])\n",
    "        # offset to wash out the appended zero\n",
    "        y.append(-loss(log_weights + 700))\n",
    "    pyplot.plot(x, y)\n",
    "    pyplot.show()\n",
    "    \n",
    "    \n",
    "def log_softmax(x):\n",
    "    # log(e^xi / sum e^xi)\n",
    "    s = x - x.max()\n",
    "    return s - numpy.log(numpy.exp(s).sum())\n",
    "\n",
    "\n",
    "def _safe_log(x):\n",
    "    x = numpy.asarray(x)\n",
    "    iszero = x == 0\n",
    "    return numpy.where(iszero, -numpy.inf, numpy.log(x + iszero))\n",
    "\n",
    "\n",
    "print_optimized_mixture()"
   ]
  },
  {
   "cell_type": "markdown",
   "id": "9f26f90f",
   "metadata": {},
   "source": [
    "# Compare observed limits"
   ]
  },
  {
   "cell_type": "code",
   "execution_count": 12,
   "id": "278e89e4",
   "metadata": {},
   "outputs": [],
   "source": [
    "def plot_limits(label):\n",
    "    reported_obs = FRAME.reported_s95obs\n",
    "    label_2obs = getattr(FRAME, \"limit_%s_2obs\" % label)\n",
    "    label_3obs = getattr(FRAME, \"limit_%s_3obs\" % label)\n",
    "    \n",
    "    pyplot.scatter(reported_obs, label_2obs, color=\"r\", lw=0, s=2, marker=\",\")\n",
    "    pyplot.scatter(reported_obs, label_3obs, color=\"b\", lw=0, s=2, marker=\",\")\n",
    "    pyplot.plot([0, 400], [0, 400], \"k\", alpha=0.2)\n",
    "    \n",
    "    pyplot.yscale(\"log\")\n",
    "    pyplot.xscale(\"log\")\n",
    "    pyplot.xlim(1.5, 400)\n",
    "    pyplot.ylim(1.5, 400)\n",
    "    \n",
    "    pyplot.show()\n"
   ]
  },
  {
   "cell_type": "code",
   "execution_count": 13,
   "id": "c9990e2c",
   "metadata": {},
   "outputs": [
    {
     "data": {
      "image/png": "[encoded data removed]",
      "text/plain": [
       "<Figure size 432x288 with 1 Axes>"
      ]
     },
     "metadata": {
      "needs_background": "light"
     },
     "output_type": "display_data"
    }
   ],
   "source": [
    "plot_limits(\"cabinetry\")"
   ]
  },
  {
   "cell_type": "code",
   "execution_count": 14,
   "id": "0f2ec3d1",
   "metadata": {},
   "outputs": [
    {
     "data": {
      "image/png": "[encoded data removed]",
      "text/plain": [
       "<Figure size 432x288 with 1 Axes>"
      ]
     },
     "metadata": {
      "needs_background": "light"
     },
     "output_type": "display_data"
    }
   ],
   "source": [
    "plot_limits(\"cabinetry_post\")"
   ]
  },
  {
   "cell_type": "code",
   "execution_count": 15,
   "id": "4e9497c9",
   "metadata": {},
   "outputs": [
    {
     "data": {
      "image/png": "[encoded data removed]",
      "text/plain": [
       "<Figure size 432x288 with 1 Axes>"
      ]
     },
     "metadata": {
      "needs_background": "light"
     },
     "output_type": "display_data"
    }
   ],
   "source": [
    "plot_limits(\"normal\")"
   ]
  },
  {
   "cell_type": "code",
   "execution_count": 16,
   "id": "343891f7",
   "metadata": {},
   "outputs": [
    {
     "data": {
      "image/png": "[encoded data removed]",
      "text/plain": [
       "<Figure size 432x288 with 1 Axes>"
      ]
     },
     "metadata": {
      "needs_background": "light"
     },
     "output_type": "display_data"
    }
   ],
   "source": [
    "plot_limits(\"normal_log\")"
   ]
  },
  {
   "cell_type": "code",
   "execution_count": 17,
   "id": "e82a186b",
   "metadata": {
    "scrolled": true
   },
   "outputs": [
    {
     "data": {
      "image/png": "[encoded data removed]",
      "text/plain": [
       "<Figure size 432x288 with 1 Axes>"
      ]
     },
     "metadata": {
      "needs_background": "light"
     },
     "output_type": "display_data"
    }
   ],
   "source": [
    "plot_limits(\"delta\")"
   ]
  },
  {
   "cell_type": "code",
   "execution_count": 18,
   "id": "5cfdcb77",
   "metadata": {},
   "outputs": [
    {
     "data": {
      "image/png": "[encoded data removed]",
      "text/plain": [
       "<Figure size 432x288 with 1 Axes>"
      ]
     },
     "metadata": {
      "needs_background": "light"
     },
     "output_type": "display_data"
    }
   ],
   "source": [
    "plot_limits(\"linspace\")"
   ]
  },
  {
   "cell_type": "code",
   "execution_count": 19,
   "id": "3bb29b63",
   "metadata": {},
   "outputs": [
    {
     "data": {
      "image/png": "[encoded data removed]",
      "text/plain": [
       "<Figure size 432x288 with 1 Axes>"
      ]
     },
     "metadata": {
      "needs_background": "light"
     },
     "output_type": "display_data"
    }
   ],
   "source": [
    "plot_limits(\"mcmc\")"
   ]
  },
  {
   "cell_type": "code",
   "execution_count": 20,
   "id": "4fedb344",
   "metadata": {},
   "outputs": [
    {
     "data": {
      "text/plain": [
       "(2.8853900817779268, 7.38905609893065)"
      ]
     },
     "execution_count": 20,
     "metadata": {},
     "output_type": "execute_result"
    }
   ],
   "source": [
    "2 / numpy.log(2), numpy.exp(2)"
   ]
  },
  {
   "cell_type": "code",
   "execution_count": 21,
   "id": "94512c2f",
   "metadata": {},
   "outputs": [
    {
     "data": {
      "text/plain": [
       "(4.328085122666891, 20.085536923187668)"
      ]
     },
     "execution_count": 21,
     "metadata": {},
     "output_type": "execute_result"
    }
   ],
   "source": [
    "3 / numpy.log(2), numpy.exp(3)"
   ]
  },
  {
   "cell_type": "markdown",
   "id": "cb6b14e9",
   "metadata": {},
   "source": [
    "# Inspect anomalous differences"
   ]
  },
  {
   "cell_type": "code",
   "execution_count": 22,
   "id": "01ff703d",
   "metadata": {},
   "outputs": [],
   "source": [
    "def print_anomalies(label):\n",
    "    search_ = FRAME.search_\n",
    "    region_ = FRAME.region_\n",
    "    reported_obs = FRAME.reported_s95obs\n",
    "    label_2obs = getattr(FRAME, \"limit_%s_2obs\" % label)\n",
    "    \n",
    "    parts = zip(search_, region_, reported_obs, label_2obs)\n",
    "    \n",
    "    for search_i, region_i, reported_i, label_i in parts:\n",
    "        error = numpy.log(label_i / reported_i)\n",
    "        if not abs(error) > 0.3:\n",
    "            continue\n",
    "            \n",
    "        print(\n",
    "            \"%28s %28s %6.1f %6.1f %6.1f\" % \n",
    "            (search_i, region_i, reported_i, label_i, error)\n",
    "        )"
   ]
  },
  {
   "cell_type": "code",
   "execution_count": 23,
   "id": "bc7c95fd",
   "metadata": {},
   "outputs": [
    {
     "name": "stdout",
     "output_type": "stream",
     "text": [
      "        atlas_susy_1Lbb_2020                   SR_LM_disc   36.8   24.1   -0.4\n",
      "        atlas_susy_1Lbb_2020                   SR_MM_disc   24.8   15.8   -0.4\n",
      "      atlas_susy_2Ljets_2022                     ewk_high    3.0    2.0   -0.4\n",
      "      atlas_susy_2Ljets_2022                     ewk_llbb    3.0    2.0   -0.4\n",
      " atlas_susy_3Lresonance_2020             SRFR_270_300_all    3.6    2.0   -0.6\n",
      " atlas_susy_3Lresonance_2020             SRFR_300_330_all    6.7    9.3    0.3\n",
      " atlas_susy_3Lresonance_2020             SRFR_400_440_all    3.2    2.0   -0.5\n",
      " atlas_susy_3Lresonance_2020             SRFR_580_inf_all    3.0    2.0   -0.4\n",
      " atlas_susy_3Lresonance_2020             SR4l_170_190_all   14.2   19.5    0.3\n",
      " atlas_susy_3Lresonance_2020             SR4l_360_400_all    3.0    2.0   -0.4\n",
      " atlas_susy_3Lresonance_2020             SR4l_580_inf_all    4.0    2.8   -0.3\n",
      " atlas_susy_3Lresonance_2020              SR3l_90_110_all    4.8    2.0   -0.9\n",
      " atlas_susy_3Lresonance_2020             SR3l_400_440_all    3.0    2.0   -0.4\n",
      "      atlas_susy_DVmuon_2020                        SRMET    3.0    2.0   -0.4\n",
      "  atlas_susy_compressed_2020                   SR_E_mll_1    3.0    2.0   -0.4\n",
      "        atlas_susy_jets_2021                    SR6j-3400    3.1    2.0   -0.4\n"
     ]
    }
   ],
   "source": [
    "print_anomalies(\"cabinetry\")"
   ]
  },
  {
   "cell_type": "code",
   "execution_count": 24,
   "id": "e07c8ba9",
   "metadata": {},
   "outputs": [
    {
     "name": "stdout",
     "output_type": "stream",
     "text": [
      "        atlas_susy_1Lbb_2020                   SR_LM_disc   36.8   23.1   -0.5\n",
      "        atlas_susy_1Lbb_2020                   SR_MM_disc   24.8   14.5   -0.5\n",
      "        atlas_susy_2L0J_2019             SR_DF_0J_100_inf   34.1   25.2   -0.3\n",
      "        atlas_susy_2L0J_2019             SR_SF_1J_100_120   27.3   37.1    0.3\n",
      "      atlas_susy_2Ljets_2022                     ewk_high    3.0    2.0   -0.4\n",
      "      atlas_susy_2Ljets_2022                     ewk_llbb    3.0    2.0   -0.4\n",
      " atlas_susy_3Lresonance_2020             SRFR_130_150_all    3.8    2.8   -0.3\n",
      " atlas_susy_3Lresonance_2020             SRFR_270_300_all    3.6    2.0   -0.6\n",
      " atlas_susy_3Lresonance_2020             SRFR_400_440_all    3.2    2.0   -0.5\n",
      " atlas_susy_3Lresonance_2020             SRFR_580_inf_all    3.0    2.0   -0.4\n",
      " atlas_susy_3Lresonance_2020             SR4l_360_400_all    3.0    2.0   -0.4\n",
      " atlas_susy_3Lresonance_2020             SR4l_580_inf_all    4.0    2.8   -0.4\n",
      " atlas_susy_3Lresonance_2020              SR3l_90_110_all    4.8    2.0   -0.9\n",
      " atlas_susy_3Lresonance_2020             SR3l_400_440_all    3.0    2.0   -0.4\n",
      "        atlas_susy_3Lss_2019                      Rpc2L1b   11.6   15.7    0.3\n",
      "          atlas_susy_4L_2021                SR0bvetotight    3.9    2.8   -0.3\n",
      "      atlas_susy_DVmuon_2020                        SRMET    3.0    2.0   -0.4\n",
      "  atlas_susy_compressed_2020                   SR_E_mll_1    3.0    2.0   -0.4\n",
      "        atlas_susy_jets_2021                    SR6j-3400    3.1    2.0   -0.4\n"
     ]
    }
   ],
   "source": [
    "print_anomalies(\"linspace\")"
   ]
  },
  {
   "cell_type": "markdown",
   "id": "28f6d9df",
   "metadata": {},
   "source": [
    "# Check orderings re expected"
   ]
  },
  {
   "cell_type": "code",
   "execution_count": 25,
   "id": "97cce11f",
   "metadata": {},
   "outputs": [],
   "source": [
    "def print_orderings(label):\n",
    "    search_ = FRAME.search_\n",
    "    region_ = FRAME.region_\n",
    "    reported_n = FRAME.reported_n\n",
    "    bkg = getattr(FRAME, \"limit_%s_bkgexp\" % label)\n",
    "    exp = getattr(FRAME, \"limit_%s_3exp\" % label)\n",
    "    obs = getattr(FRAME, \"limit_%s_3obs\" % label)\n",
    "    \n",
    "    parts = zip(search_, region_, bkg, reported_n, exp, obs)\n",
    "    \n",
    "    any_ = False\n",
    "    \n",
    "    for search_i, region_i, bkg_i, n_i, exp_i, obs_i in parts:\n",
    "        excess_data = n_i > bkg_i\n",
    "        excess_limit = obs_i > exp_i\n",
    "        \n",
    "        if excess_data == excess_limit:\n",
    "            continue\n",
    "            \n",
    "        any_ = True\n",
    "            \n",
    "        print(\n",
    "            \"%28s %28s %6.1f %6d %6.1f %6.1f\" % \n",
    "            (search_i, region_i, bkg_i, n_i, exp_i, obs_i)\n",
    "        )\n",
    "        \n",
    "    if not any_:\n",
    "        print(\"ALL OK %r\" % label)"
   ]
  },
  {
   "cell_type": "code",
   "execution_count": 26,
   "id": "06c75aaf",
   "metadata": {
    "scrolled": false
   },
   "outputs": [
    {
     "name": "stdout",
     "output_type": "stream",
     "text": [
      "ALL OK 'cabinetry'\n"
     ]
    }
   ],
   "source": [
    "print_orderings(\"cabinetry\")"
   ]
  },
  {
   "cell_type": "code",
   "execution_count": 27,
   "id": "8aadba47",
   "metadata": {
    "scrolled": false
   },
   "outputs": [
    {
     "name": "stdout",
     "output_type": "stream",
     "text": [
      "ALL OK 'normal'\n"
     ]
    }
   ],
   "source": [
    "print_orderings(\"normal\")"
   ]
  },
  {
   "cell_type": "code",
   "execution_count": 28,
   "id": "9117df10",
   "metadata": {
    "scrolled": false
   },
   "outputs": [
    {
     "name": "stdout",
     "output_type": "stream",
     "text": [
      "ALL OK 'normal_log'\n"
     ]
    }
   ],
   "source": [
    "print_orderings(\"normal_log\")"
   ]
  },
  {
   "cell_type": "code",
   "execution_count": 29,
   "id": "77f17d0c",
   "metadata": {
    "scrolled": false
   },
   "outputs": [
    {
     "name": "stdout",
     "output_type": "stream",
     "text": [
      "ALL OK 'linspace'\n"
     ]
    }
   ],
   "source": [
    "print_orderings(\"linspace\")"
   ]
  },
  {
   "cell_type": "code",
   "execution_count": 30,
   "id": "37b3dda5",
   "metadata": {
    "scrolled": false
   },
   "outputs": [
    {
     "name": "stdout",
     "output_type": "stream",
     "text": [
      "ALL OK 'delta'\n"
     ]
    }
   ],
   "source": [
    "print_orderings(\"delta\")"
   ]
  },
  {
   "cell_type": "code",
   "execution_count": 31,
   "id": "5ca7d684",
   "metadata": {
    "scrolled": false
   },
   "outputs": [
    {
     "name": "stdout",
     "output_type": "stream",
     "text": [
      "ALL OK 'mcmc'\n"
     ]
    }
   ],
   "source": [
    "print_orderings(\"mcmc\")"
   ]
  }
 ],
 "metadata": {
  "kernelspec": {
   "display_name": "Python 3 (ipykernel)",
   "language": "python",
   "name": "python3"
  },
  "language_info": {
   "codemirror_mode": {
    "name": "ipython",
    "version": 3
   },
   "file_extension": ".py",
   "mimetype": "text/x-python",
   "name": "python",
   "nbconvert_exporter": "python",
   "pygments_lexer": "ipython3",
   "version": "3.10.4"
  }
 },
 "nbformat": 4,
 "nbformat_minor": 5
}
