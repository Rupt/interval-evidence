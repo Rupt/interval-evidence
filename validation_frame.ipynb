{
 "cells": [
  {
   "cell_type": "code",
   "execution_count": 1,
   "id": "20e4ccba",
   "metadata": {
    "scrolled": false
   },
   "outputs": [],
   "source": [
    "import os\n",
    "import json\n",
    "import functools\n",
    "\n",
    "import numpy\n",
    "import matplotlib\n",
    "from matplotlib import pyplot\n",
    "\n",
    "from discohisto import (\n",
    "    fit_normal,\n",
    "    fit_cabinetry,\n",
    "    fit_cabinetry_post,\n",
    "    fit_linspace,\n",
    "    fit_mcmc_mix,\n",
    "    fit_mcmc_tfp_ham,\n",
    "    region,\n",
    "    limit,\n",
    ")"
   ]
  },
  {
   "cell_type": "code",
   "execution_count": 2,
   "id": "d4179e79",
   "metadata": {},
   "outputs": [],
   "source": [
    "SEARCHES_PATH = \"searches/\""
   ]
  },
  {
   "cell_type": "code",
   "execution_count": 3,
   "id": "f366b6f0",
   "metadata": {},
   "outputs": [],
   "source": [
    "@functools.cache\n",
    "def load_searches():\n",
    "    searches = []\n",
    "    for item in os.scandir(SEARCHES_PATH):\n",
    "        if not item.is_dir():\n",
    "            continue\n",
    "        searches.append(item.name)\n",
    "        \n",
    "    return sorted(searches)\n",
    "\n",
    "\n",
    "def load_reported(search):\n",
    "    path = os.path.join(SEARCHES_PATH, search, \"reported.json\")\n",
    "    with open(path) as file_:\n",
    "        reported = json.load(file_)\n",
    "    return reported\n",
    "\n",
    "\n",
    "def _get_n_region(reg):\n",
    "    sr_name = reg.signal_region_name\n",
    "    observations = reg.workspace\n",
    "\n",
    "    for obs in reg.workspace[\"observations\"]:\n",
    "        if obs[\"name\"] == sr_name:\n",
    "            return obs[\"data\"][0]\n",
    "\n",
    "    raise ValueError(sr_name)\n",
    "\n",
    "\n",
    "def _load_mcmc_limits(path, *, suffix):\n",
    "    mcmc_types = [\"mix\", \"tfp_ham\"]\n",
    "    lim = None\n",
    "    for mcmc_type in mcmc_types:\n",
    "        suffix_i = \"_mcmc_%s_%s\" % (mcmc_type, suffix)\n",
    "        try:\n",
    "            lim = limit.LimitScan.load(path, suffix=suffix_i)\n",
    "        except FileNotFoundError:\n",
    "            ...\n",
    "    assert lim is not None\n",
    "    return lim"
   ]
  },
  {
   "cell_type": "code",
   "execution_count": 13,
   "id": "3e1e31b5",
   "metadata": {},
   "outputs": [],
   "source": [
    "def load_frame():\n",
    "    searches = load_searches()\n",
    "    \n",
    "    # frame entries\n",
    "    search_ = []\n",
    "    region_ = []\n",
    "    reported_n = []\n",
    "    reported_bkg = []\n",
    "    reported_bkg_hi = []\n",
    "    reported_bkg_lo = []\n",
    "    reported_s95obs = []\n",
    "    reported_s95exp = []\n",
    "    reported_s95exp_hi = []\n",
    "    reported_s95exp_lo = []\n",
    "    \n",
    "    region_n = []\n",
    "    \n",
    "    fit_cabinetry_bkg = []\n",
    "    fit_cabinetry_err = []\n",
    "    fit_cabinetry_post_bkg = []\n",
    "    fit_cabinetry_post_err = []\n",
    "    \n",
    "    limit_cabinetry_obs_2 = []\n",
    "    limit_cabinetry_obs_3 = []\n",
    "    limit_cabinetry_post_obs_2 = []\n",
    "    limit_cabinetry_post_obs_3 = []\n",
    "    limit_mcmc_obs_2 = []\n",
    "    limit_mcmc_obs_3 = []\n",
    "    \n",
    "    for search in searches:\n",
    "        reported = load_reported(search)\n",
    "        for region_name in reported:\n",
    "            search_.append(search)\n",
    "            region_.append(region_name)\n",
    "            \n",
    "            # reported\n",
    "            reported_reg = reported[region_name]\n",
    "            reported_n.append(reported_reg[\"n\"])\n",
    "            reported_bkg.append(reported_reg[\"bkg\"])\n",
    "            reported_bkg_hi.append(reported_reg[\"bkg_hi\"])\n",
    "            reported_bkg_lo.append(reported_reg[\"bkg_lo\"])\n",
    "            reported_s95obs.append(reported_reg[\"s95obs\"])\n",
    "            reported_s95exp.append(reported_reg[\"s95exp\"])\n",
    "            reported_s95exp_hi.append(reported_reg[\"s95exp_hi\"])\n",
    "            reported_s95exp_lo.append(reported_reg[\"s95exp_lo\"])\n",
    "            \n",
    "            # region\n",
    "            region_dir = os.path.join(SEARCHES_PATH, search, region_name)\n",
    "            region_i = region.Region.load(region_dir)\n",
    "            region_n.append(_get_n_region(region_i))\n",
    "            \n",
    "            # standard fits\n",
    "            fit_dir = os.path.join(region_dir, \"fit\")\n",
    "            \n",
    "            fit = fit_cabinetry.FitCabinetry.load(fit_dir)\n",
    "            fit_cabinetry_bkg.append(fit.yield_pre)\n",
    "            fit_cabinetry_err.append(fit.error_pre)\n",
    "            \n",
    "            fit = fit_cabinetry_post.FitCabinetryPost.load(fit_dir)\n",
    "            fit_cabinetry_post_bkg.append(fit.yield_post)\n",
    "            fit_cabinetry_post_err.append(fit.error_post)\n",
    "            \n",
    "            # limits\n",
    "            limit_dir = os.path.join(fit_dir, \"limit\")\n",
    "            \n",
    "            lim = limit.LimitScan.load(limit_dir, suffix=\"_cabinetry_observed\")\n",
    "            assert lim.levels[6:8] == [-2, -3], lim.levels[6:8]\n",
    "            limit_cabinetry_obs_2.append(lim.points[6][-1])\n",
    "            limit_cabinetry_obs_3.append(lim.points[7][-1])\n",
    "            \n",
    "            lim = limit.LimitScan.load(limit_dir, suffix=\"_cabinetry_post_observed\")\n",
    "            assert lim.levels[6:8] == [-2, -3], lim.levels[6:8]\n",
    "            limit_cabinetry_post_obs_2.append(lim.points[6][-1])\n",
    "            limit_cabinetry_post_obs_3.append(lim.points[7][-1])\n",
    "            \n",
    "            lim = _load_mcmc_limits(limit_dir, suffix=\"observed\")\n",
    "            assert lim.levels[6:8] == [-2, -3], lim.levels[6:8]\n",
    "            limit_mcmc_obs_2.append(lim.points[6][-1])\n",
    "            limit_mcmc_obs_3.append(lim.points[7][-1])\n",
    "            \n",
    "    \n",
    "    return dict(\n",
    "        # labels\n",
    "        search_=search_,\n",
    "        region_=region_,\n",
    "        # reported\n",
    "        reported_n=reported_n,\n",
    "        reported_bkg=reported_bkg,\n",
    "        reported_bkg_hi=reported_bkg_hi,\n",
    "        reported_bkg_lo=reported_bkg_lo,\n",
    "        reported_s95obs=reported_s95obs,\n",
    "        reported_s95exp=reported_s95exp,\n",
    "        reported_s95exp_hi=reported_s95exp_hi,\n",
    "        reported_s95exp_lo=reported_s95exp_lo,\n",
    "        region_n=region_n,\n",
    "        # fits\n",
    "        fit_cabinetry_bkg=fit_cabinetry_bkg,\n",
    "        fit_cabinetry_err=fit_cabinetry_err,\n",
    "        fit_cabinetry_post_bkg=fit_cabinetry_post_bkg,\n",
    "        fit_cabinetry_post_err=fit_cabinetry_post_err,\n",
    "        # limits\n",
    "        limit_cabinetry_obs_2=limit_cabinetry_obs_2,\n",
    "        limit_cabinetry_obs_3=limit_cabinetry_obs_3,\n",
    "        limit_cabinetry_post_obs_2=limit_cabinetry_post_obs_2,\n",
    "        limit_cabinetry_post_obs_3=limit_cabinetry_post_obs_3,\n",
    "        limit_mcmc_obs_2=limit_mcmc_obs_2,\n",
    "        limit_mcmc_obs_3=limit_mcmc_obs_3,\n",
    "    )\n",
    "        \n",
    "\n",
    "FRAME = load_frame()"
   ]
  },
  {
   "cell_type": "code",
   "execution_count": 14,
   "id": "3b5b9dfc",
   "metadata": {
    "scrolled": true
   },
   "outputs": [
    {
     "name": "stdout",
     "output_type": "stream",
     "text": [
      "True\n"
     ]
    }
   ],
   "source": [
    "print(FRAME[\"reported_n\"] == FRAME[\"region_n\"])"
   ]
  },
  {
   "cell_type": "code",
   "execution_count": 15,
   "id": "d4c74921",
   "metadata": {
    "scrolled": true
   },
   "outputs": [
    {
     "name": "stdout",
     "output_type": "stream",
     "text": [
      "['atlas_susy_1Lbb_2020', 'atlas_susy_1Ljets_2021', 'atlas_susy_2L0J_2019', 'atlas_susy_2Ljets_2022', 'atlas_susy_2hadtau_2020', 'atlas_susy_3LRJmimic_2020', 'atlas_susy_3L_2021', 'atlas_susy_3Lresonance_2020', 'atlas_susy_3Lss_2019', 'atlas_susy_4L_2021', 'atlas_susy_DVmuon_2020', 'atlas_susy_compressed_2020', 'atlas_susy_hb_2019', 'atlas_susy_jets_2021']\n"
     ]
    }
   ],
   "source": [
    "print(load_searches())"
   ]
  },
  {
   "cell_type": "code",
   "execution_count": 16,
   "id": "b46671de",
   "metadata": {},
   "outputs": [
    {
     "data": {
      "image/png": "[encoded data removed]",
      "text/plain": [
       "<Figure size 432x288 with 1 Axes>"
      ]
     },
     "metadata": {
      "needs_background": "light"
     },
     "output_type": "display_data"
    }
   ],
   "source": [
    "def plot_bkgs():\n",
    "    repored_bkg = numpy.array(FRAME[\"reported_bkg\"])\n",
    "    fit_cabinetry_bkg = numpy.array(FRAME[\"fit_cabinetry_bkg\"])\n",
    "\n",
    "    y = fit_cabinetry_bkg / repored_bkg\n",
    "    x = numpy.arange(len(y)) + 0.5\n",
    "    \n",
    "    pyplot.scatter(x, y, lw=0, s=2, marker=\",\")\n",
    "    \n",
    "    pyplot.ylim(0, 2)\n",
    "    pyplot.show()\n",
    "    \n",
    "plot_bkgs()"
   ]
  },
  {
   "cell_type": "code",
   "execution_count": 17,
   "id": "5793bba2",
   "metadata": {},
   "outputs": [
    {
     "data": {
      "image/png": "[encoded data removed]",
      "text/plain": [
       "<Figure size 432x288 with 1 Axes>"
      ]
     },
     "metadata": {
      "needs_background": "light"
     },
     "output_type": "display_data"
    }
   ],
   "source": [
    "def plot_bkgs_post():\n",
    "    repored_bkg = numpy.array(FRAME[\"reported_bkg\"])\n",
    "    fit_cabinetry_bkg = numpy.array(FRAME[\"fit_cabinetry_post_bkg\"])\n",
    "\n",
    "    y = fit_cabinetry_bkg / repored_bkg\n",
    "    x = numpy.arange(len(y)) + 0.5\n",
    "    \n",
    "    pyplot.scatter(x, y, lw=0, s=2, marker=\",\")\n",
    "    \n",
    "    pyplot.ylim(0, 2)\n",
    "    pyplot.show()\n",
    "    \n",
    "plot_bkgs_post()"
   ]
  },
  {
   "cell_type": "code",
   "execution_count": 9,
   "id": "b6aed5c3",
   "metadata": {},
   "outputs": [
    {
     "data": {
      "image/png": "[encoded data removed]",
      "text/plain": [
       "<Figure size 432x288 with 1 Axes>"
      ]
     },
     "metadata": {
      "needs_background": "light"
     },
     "output_type": "display_data"
    }
   ],
   "source": [
    "def plot_limits():\n",
    "    repored_obs = numpy.array(FRAME[\"reported_s95obs\"])\n",
    "    cabinetry_obs_2 = numpy.array(FRAME[\"limit_cabinetry_obs_2\"])\n",
    "    cabinetry_obs_3 = numpy.array(FRAME[\"limit_cabinetry_obs_3\"])\n",
    "\n",
    "    y2 = cabinetry_obs_2\n",
    "    y3 = cabinetry_obs_3\n",
    "    x = repored_obs\n",
    "    \n",
    "    pyplot.scatter(y2, x, color=\"r\", lw=0, s=2, marker=\",\")\n",
    "    pyplot.scatter(y3, x, color=\"b\", lw=0, s=2, marker=\",\")\n",
    "    pyplot.plot([0, 200], [0, 200], \"k\", alpha=0.2)\n",
    "    \n",
    "    pyplot.yscale(\"log\")\n",
    "    pyplot.xscale(\"log\")\n",
    "    pyplot.show()\n",
    "\n",
    "\n",
    "plot_limits()"
   ]
  },
  {
   "cell_type": "code",
   "execution_count": 18,
   "id": "1dab6b2c",
   "metadata": {},
   "outputs": [
    {
     "data": {
      "image/png": "[encoded data removed]",
      "text/plain": [
       "<Figure size 432x288 with 1 Axes>"
      ]
     },
     "metadata": {
      "needs_background": "light"
     },
     "output_type": "display_data"
    }
   ],
   "source": [
    "def plot_limits_post():\n",
    "    repored_obs = numpy.array(FRAME[\"reported_s95obs\"])\n",
    "    cabinetry_obs_2 = numpy.array(FRAME[\"limit_cabinetry_post_obs_2\"])\n",
    "    cabinetry_obs_3 = numpy.array(FRAME[\"limit_cabinetry_post_obs_3\"])\n",
    "\n",
    "    y2 = cabinetry_obs_2\n",
    "    y3 = cabinetry_obs_3\n",
    "    x = repored_obs\n",
    "    \n",
    "    pyplot.scatter(y2, x, color=\"r\", lw=0, s=2, marker=\",\")\n",
    "    pyplot.scatter(y3, x, color=\"b\", lw=0, s=2, marker=\",\")\n",
    "    pyplot.plot([0, 200], [0, 200], \"k\", alpha=0.2)\n",
    "    \n",
    "    pyplot.yscale(\"log\")\n",
    "    pyplot.xscale(\"log\")\n",
    "    pyplot.show()\n",
    "\n",
    "\n",
    "plot_limits_post()"
   ]
  },
  {
   "cell_type": "code",
   "execution_count": 10,
   "id": "0b5b7b29",
   "metadata": {},
   "outputs": [
    {
     "data": {
      "image/png": "[encoded data removed]",
      "text/plain": [
       "<Figure size 432x288 with 1 Axes>"
      ]
     },
     "metadata": {
      "needs_background": "light"
     },
     "output_type": "display_data"
    }
   ],
   "source": [
    "def plot_limits_mcmc():\n",
    "    repored_obs = numpy.array(FRAME[\"reported_s95obs\"])\n",
    "    mcmc_obs_2 = numpy.array(FRAME[\"limit_mcmc_obs_2\"])\n",
    "    mcmc_obs_3 = numpy.array(FRAME[\"limit_mcmc_obs_3\"])\n",
    "\n",
    "    y2 = mcmc_obs_2\n",
    "    y3 = mcmc_obs_3\n",
    "    x = repored_obs\n",
    "    \n",
    "    pyplot.scatter(y2, x, color=\"r\", lw=0, s=2, marker=\",\")\n",
    "    pyplot.scatter(y3, x, color=\"b\", lw=0, s=2, marker=\",\")\n",
    "    pyplot.plot([0, 200], [0, 200], \"k\", alpha=0.2)\n",
    "    \n",
    "    pyplot.yscale(\"log\")\n",
    "    pyplot.xscale(\"log\")\n",
    "    pyplot.show()\n",
    "\n",
    "\n",
    "plot_limits_mcmc()"
   ]
  }
 ],
 "metadata": {
  "kernelspec": {
   "display_name": "Python 3 (ipykernel)",
   "language": "python",
   "name": "python3"
  },
  "language_info": {
   "codemirror_mode": {
    "name": "ipython",
    "version": 3
   },
   "file_extension": ".py",
   "mimetype": "text/x-python",
   "name": "python",
   "nbconvert_exporter": "python",
   "pygments_lexer": "ipython3",
   "version": "3.10.4"
  }
 },
 "nbformat": 4,
 "nbformat_minor": 5
}
