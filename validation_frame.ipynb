{
 "cells": [
  {
   "cell_type": "code",
   "execution_count": 1,
   "id": "20e4ccba",
   "metadata": {
    "scrolled": false
   },
   "outputs": [],
   "source": [
    "import os\n",
    "import json\n",
    "import functools\n",
    "\n",
    "import numpy\n",
    "import matplotlib\n",
    "from matplotlib import pyplot\n",
    "\n",
    "from discohisto import (\n",
    "    fit_normal,\n",
    "    fit_cabinetry,\n",
    "    fit_cabinetry_post,\n",
    "    fit_linspace,\n",
    "    fit_mcmc_mix,\n",
    "    fit_mcmc_tfp_ham,\n",
    "    region,\n",
    "    limit,\n",
    "    stats,\n",
    ")"
   ]
  },
  {
   "cell_type": "code",
   "execution_count": 2,
   "id": "d4179e79",
   "metadata": {},
   "outputs": [],
   "source": [
    "SEARCHES_PATH = \"searches/\""
   ]
  },
  {
   "cell_type": "code",
   "execution_count": 3,
   "id": "f366b6f0",
   "metadata": {},
   "outputs": [],
   "source": [
    "@functools.cache\n",
    "def load_searches():\n",
    "    searches = []\n",
    "    for item in os.scandir(SEARCHES_PATH):\n",
    "        if not item.is_dir():\n",
    "            continue\n",
    "        searches.append(item.name)\n",
    "        \n",
    "    return sorted(searches)\n",
    "\n",
    "\n",
    "def load_reported(search):\n",
    "    path = os.path.join(SEARCHES_PATH, search, \"reported.json\")\n",
    "    with open(path) as file_:\n",
    "        reported = json.load(file_)\n",
    "    return reported\n",
    "\n",
    "\n",
    "def _get_n_region(reg):\n",
    "    sr_name = reg.signal_region_name\n",
    "    observations = reg.workspace\n",
    "\n",
    "    for obs in reg.workspace[\"observations\"]:\n",
    "        if obs[\"name\"] == sr_name:\n",
    "            return obs[\"data\"][0]\n",
    "\n",
    "    raise ValueError(sr_name)\n",
    "\n",
    "\n",
    "def _load_mcmc_limits(path, *, suffix):\n",
    "    mcmc_types = [\"mix\", \"tfp_ham\"]\n",
    "    lim = None\n",
    "    for mcmc_type in mcmc_types:\n",
    "        suffix_i = \"_mcmc_%s_%s\" % (mcmc_type, suffix)\n",
    "        try:\n",
    "            lim = limit.LimitScan.load(path, suffix=suffix_i)\n",
    "        except FileNotFoundError:\n",
    "            ...\n",
    "    assert lim is not None\n",
    "    return lim\n",
    "\n",
    "\n",
    "def _load_limit(limit_dir, suffix):\n",
    "    lim = limit.LimitScan.load(limit_dir, suffix=suffix)\n",
    "    assert lim.levels[6:8] == [-2, -3], lim.levels[6:8]\n",
    "    return lim\n",
    "\n",
    "\n",
    "def _limit_logl(lim):\n",
    "    return numpy.log(numpy.mean(lim.integral_zero))"
   ]
  },
  {
   "cell_type": "code",
   "execution_count": 4,
   "id": "3e1e31b5",
   "metadata": {},
   "outputs": [],
   "source": [
    "def load_frame():\n",
    "    searches = load_searches()\n",
    "    \n",
    "    # frame entries\n",
    "    search_ = []\n",
    "    region_ = []\n",
    "    reported_n = []\n",
    "    reported_bkg = []\n",
    "    reported_bkg_hi = []\n",
    "    reported_bkg_lo = []\n",
    "    reported_s95obs = []\n",
    "    reported_s95exp = []\n",
    "    reported_s95exp_hi = []\n",
    "    reported_s95exp_lo = []\n",
    "    \n",
    "    region_n = []\n",
    "    \n",
    "    fit_cabinetry_bkg = []\n",
    "    fit_cabinetry_err = []\n",
    "    fit_cabinetry_post_bkg = []\n",
    "    fit_cabinetry_post_err = []\n",
    "    \n",
    "    limit_cabinetry_obs_2 = []\n",
    "    limit_cabinetry_obs_3 = []\n",
    "    limit_cabinetry_log_like = []\n",
    "    \n",
    "    limit_cabinetry_post_obs_2 = []\n",
    "    limit_cabinetry_post_obs_3 = []\n",
    "    \n",
    "    limit_normal_obs_2 = []\n",
    "    limit_normal_obs_3 = []\n",
    "    limit_normal_log_like = []\n",
    "    \n",
    "    limit_normal_log_obs_2 = []\n",
    "    limit_normal_log_obs_3 = []\n",
    "    limit_normal_log_log_like = []\n",
    "    \n",
    "    limit_delta_obs_2 = []\n",
    "    limit_delta_obs_3 = []\n",
    "    limit_delta_log_like = []\n",
    "    \n",
    "    limit_linspace_obs_2 = []\n",
    "    limit_linspace_obs_3 = []\n",
    "    limit_linspace_log_like = []\n",
    "    \n",
    "    limit_mcmc_obs_2 = []\n",
    "    limit_mcmc_obs_3 = []\n",
    "    limit_mcmc_log_like = []\n",
    "    \n",
    "    for search in searches:\n",
    "        reported = load_reported(search)\n",
    "        for region_name in reported:\n",
    "            search_.append(search)\n",
    "            region_.append(region_name)\n",
    "            \n",
    "            # reported\n",
    "            reported_reg = reported[region_name]\n",
    "            \n",
    "            n_observed = reported_reg[\"n\"]\n",
    "            reported_n.append(n_observed)\n",
    "            reported_bkg.append(reported_reg[\"bkg\"])\n",
    "            reported_bkg_hi.append(reported_reg[\"bkg_hi\"])\n",
    "            reported_bkg_lo.append(reported_reg[\"bkg_lo\"])\n",
    "            reported_s95obs.append(reported_reg[\"s95obs\"])\n",
    "            reported_s95exp.append(reported_reg[\"s95exp\"])\n",
    "            reported_s95exp_hi.append(reported_reg[\"s95exp_hi\"])\n",
    "            reported_s95exp_lo.append(reported_reg[\"s95exp_lo\"])\n",
    "            \n",
    "            # region\n",
    "            region_dir = os.path.join(SEARCHES_PATH, search, region_name)\n",
    "            region_i = region.Region.load(region_dir)\n",
    "            region_n.append(_get_n_region(region_i))\n",
    "            \n",
    "            # standard fits\n",
    "            fit_dir = os.path.join(region_dir, \"fit\")\n",
    "            \n",
    "            fit = fit_cabinetry.FitCabinetry.load(fit_dir)\n",
    "            fit_cabinetry_bkg.append(fit.yield_pre)\n",
    "            fit_cabinetry_err.append(fit.error_pre)\n",
    "            \n",
    "            fit = fit_cabinetry_post.FitCabinetryPost.load(fit_dir)\n",
    "            fit_cabinetry_post_bkg.append(fit.yield_post)\n",
    "            fit_cabinetry_post_err.append(fit.error_post)\n",
    "            \n",
    "            fit = fit_normal.FitNormal.load(fit_dir)\n",
    "            mu_delta = fit.yield_linear\n",
    "            \n",
    "            # limits\n",
    "            limit_dir = os.path.join(fit_dir, \"limit\")\n",
    "            load_limit = functools.partial(_load_limit, limit_dir)\n",
    "            \n",
    "            lim = load_limit(\"_cabinetry_observed\")\n",
    "            limit_cabinetry_obs_2.append(lim.points[6][-1])\n",
    "            limit_cabinetry_obs_3.append(lim.points[7][-1])\n",
    "            limit_cabinetry_log_like.append(_limit_logl(lim))\n",
    "            \n",
    "            lim = load_limit(\"_cabinetry_post_observed\")\n",
    "            limit_cabinetry_post_obs_2.append(lim.points[6][-1])\n",
    "            limit_cabinetry_post_obs_3.append(lim.points[7][-1])\n",
    "            \n",
    "            lim = load_limit(\"_linspace_observed\")\n",
    "            limit_linspace_obs_2.append(lim.points[6][-1])\n",
    "            limit_linspace_obs_3.append(lim.points[7][-1])\n",
    "            limit_linspace_log_like.append(_limit_logl(lim))\n",
    "            \n",
    "            lim = load_limit(\"_normal_observed\")\n",
    "            limit_normal_obs_2.append(lim.points[6][-1])\n",
    "            limit_normal_obs_3.append(lim.points[7][-1])\n",
    "            limit_normal_log_like.append(_limit_logl(lim))\n",
    "            \n",
    "            lim = load_limit(\"_normal_log_observed\")\n",
    "            limit_normal_log_obs_2.append(lim.points[6][-1])\n",
    "            limit_normal_log_obs_3.append(lim.points[7][-1])\n",
    "            limit_normal_log_log_like.append(_limit_logl(lim))\n",
    "                        \n",
    "            lim = limit.LimitScanDelta.load(limit_dir, suffix=\"_observed\")\n",
    "            assert lim.levels[6:8] == [-2, -3], lim.levels[6:8]\n",
    "            limit_delta_obs_2.append(lim.points[6][-1])\n",
    "            limit_delta_obs_3.append(lim.points[7][-1])\n",
    "            limit_delta_log_like.append(stats.poisson_log_minus_max(n_observed, mu_delta))\n",
    "            \n",
    "            lim = _load_mcmc_limits(limit_dir, suffix=\"observed\")\n",
    "            assert lim.levels[6:8] == [-2, -3], lim.levels[6:8]\n",
    "            limit_mcmc_obs_2.append(lim.points[6][-1])\n",
    "            limit_mcmc_obs_3.append(lim.points[7][-1])\n",
    "            limit_mcmc_log_like.append(_limit_logl(lim))\n",
    "\n",
    "    out = dict(\n",
    "        # labels\n",
    "        search_=search_,\n",
    "        region_=region_,\n",
    "        # reported\n",
    "        reported_n=reported_n,\n",
    "        reported_bkg=reported_bkg,\n",
    "        reported_bkg_hi=reported_bkg_hi,\n",
    "        reported_bkg_lo=reported_bkg_lo,\n",
    "        reported_s95obs=reported_s95obs,\n",
    "        reported_s95exp=reported_s95exp,\n",
    "        reported_s95exp_hi=reported_s95exp_hi,\n",
    "        reported_s95exp_lo=reported_s95exp_lo,\n",
    "        region_n=region_n,\n",
    "        # fits\n",
    "        fit_cabinetry_bkg=fit_cabinetry_bkg,\n",
    "        fit_cabinetry_err=fit_cabinetry_err,\n",
    "        fit_cabinetry_post_bkg=fit_cabinetry_post_bkg,\n",
    "        fit_cabinetry_post_err=fit_cabinetry_post_err,\n",
    "        # limits\n",
    "        limit_cabinetry_obs_2=limit_cabinetry_obs_2,\n",
    "        limit_cabinetry_obs_3=limit_cabinetry_obs_3,\n",
    "        limit_cabinetry_log_like=limit_cabinetry_log_like,\n",
    "        limit_cabinetry_post_obs_2=limit_cabinetry_post_obs_2,\n",
    "        limit_cabinetry_post_obs_3=limit_cabinetry_post_obs_3,\n",
    "        limit_normal_obs_2=limit_normal_obs_2,\n",
    "        limit_normal_obs_3=limit_normal_obs_3,\n",
    "        limit_normal_log_like=limit_normal_log_like,\n",
    "        limit_normal_log_obs_2=limit_normal_log_obs_2,\n",
    "        limit_normal_log_obs_3=limit_normal_log_obs_3,\n",
    "        limit_normal_log_log_like=limit_normal_log_log_like,\n",
    "        limit_delta_obs_2=limit_delta_obs_2,\n",
    "        limit_delta_obs_3=limit_delta_obs_3,\n",
    "        limit_delta_log_like=limit_delta_log_like,\n",
    "        limit_linspace_obs_2=limit_linspace_obs_2,\n",
    "        limit_linspace_obs_3=limit_linspace_obs_3,\n",
    "        limit_linspace_log_like=limit_linspace_log_like,\n",
    "        limit_mcmc_obs_2=limit_mcmc_obs_2,\n",
    "        limit_mcmc_obs_3=limit_mcmc_obs_3,\n",
    "        limit_mcmc_log_like=limit_mcmc_log_like,\n",
    "    )\n",
    "    \n",
    "    return {key: numpy.array(value) for key, value in out.items()}\n",
    "        \n",
    "\n",
    "FRAME = load_frame()"
   ]
  },
  {
   "cell_type": "code",
   "execution_count": 5,
   "id": "3b5b9dfc",
   "metadata": {
    "scrolled": true
   },
   "outputs": [
    {
     "name": "stdout",
     "output_type": "stream",
     "text": [
      "True\n"
     ]
    }
   ],
   "source": [
    "print(numpy.array_equal(FRAME[\"reported_n\"], FRAME[\"region_n\"]))"
   ]
  },
  {
   "cell_type": "code",
   "execution_count": 6,
   "id": "d4c74921",
   "metadata": {
    "scrolled": true
   },
   "outputs": [
    {
     "name": "stdout",
     "output_type": "stream",
     "text": [
      "['atlas_susy_1Lbb_2020', 'atlas_susy_1Ljets_2021', 'atlas_susy_2L0J_2019', 'atlas_susy_2Ljets_2022', 'atlas_susy_2hadtau_2020', 'atlas_susy_3LRJmimic_2020', 'atlas_susy_3L_2021', 'atlas_susy_3Lresonance_2020', 'atlas_susy_3Lss_2019', 'atlas_susy_4L_2021', 'atlas_susy_DVmuon_2020', 'atlas_susy_compressed_2020', 'atlas_susy_hb_2019', 'atlas_susy_jets_2021']\n"
     ]
    }
   ],
   "source": [
    "print(load_searches())"
   ]
  },
  {
   "cell_type": "code",
   "execution_count": 7,
   "id": "8e7f702f",
   "metadata": {},
   "outputs": [
    {
     "name": "stdout",
     "output_type": "stream",
     "text": [
      "      cabinetry -0.632  0.000\n",
      "         normal -0.633 -0.001\n",
      "     normal_log -0.632 -0.001\n",
      "          delta -0.692 -0.060\n",
      "       linspace -0.675 -0.043\n",
      "           mcmc -0.822 -0.190\n"
     ]
    }
   ],
   "source": [
    "def print_mean_log_likes():\n",
    "    name_to_mean_log_like = {\n",
    "        \"cabinetry\": numpy.mean(FRAME[\"limit_cabinetry_log_like\"]),\n",
    "        \"normal\": numpy.mean(FRAME[\"limit_normal_log_like\"]),\n",
    "        \"normal_log\": numpy.mean(FRAME[\"limit_normal_log_log_like\"]),\n",
    "        \"delta\": numpy.mean(FRAME[\"limit_delta_log_like\"]),\n",
    "        \"linspace\": numpy.mean(FRAME[\"limit_linspace_log_like\"]),\n",
    "        \"mcmc\": numpy.mean(FRAME[\"limit_mcmc_log_like\"]),\n",
    "    }\n",
    "    \n",
    "    ref = max(name_to_mean_log_like.values())\n",
    "    \n",
    "    for name, q in name_to_mean_log_like.items():\n",
    "        print(\"%15s %6.3f %6.3f\" % (name, q, q - ref))\n",
    "\n",
    "\n",
    "print_mean_log_likes()    "
   ]
  },
  {
   "cell_type": "code",
   "execution_count": 8,
   "id": "b46671de",
   "metadata": {},
   "outputs": [
    {
     "data": {
      "image/png": "[encoded data removed]",
      "text/plain": [
       "<Figure size 432x288 with 1 Axes>"
      ]
     },
     "metadata": {
      "needs_background": "light"
     },
     "output_type": "display_data"
    }
   ],
   "source": [
    "def plot_bkgs():\n",
    "    repored_bkg = numpy.array(FRAME[\"reported_bkg\"])\n",
    "    fit_cabinetry_bkg = numpy.array(FRAME[\"fit_cabinetry_bkg\"])\n",
    "\n",
    "    y = fit_cabinetry_bkg / repored_bkg\n",
    "    x = numpy.arange(len(y)) + 0.5\n",
    "    \n",
    "    pyplot.scatter(x, y, lw=0, s=2, marker=\",\")\n",
    "    \n",
    "    pyplot.ylim(0, 2)\n",
    "    pyplot.show()\n",
    "    \n",
    "plot_bkgs()"
   ]
  },
  {
   "cell_type": "code",
   "execution_count": 9,
   "id": "5793bba2",
   "metadata": {},
   "outputs": [
    {
     "data": {
      "image/png": "[encoded data removed]",
      "text/plain": [
       "<Figure size 432x288 with 1 Axes>"
      ]
     },
     "metadata": {
      "needs_background": "light"
     },
     "output_type": "display_data"
    }
   ],
   "source": [
    "def plot_bkgs_post():\n",
    "    repored_bkg = numpy.array(FRAME[\"reported_bkg\"])\n",
    "    fit_cabinetry_bkg = numpy.array(FRAME[\"fit_cabinetry_post_bkg\"])\n",
    "\n",
    "    y = fit_cabinetry_bkg / repored_bkg\n",
    "    x = numpy.arange(len(y)) + 0.5\n",
    "    \n",
    "    pyplot.scatter(x, y, lw=0, s=2, marker=\",\")\n",
    "    \n",
    "    pyplot.ylim(0, 2)\n",
    "    pyplot.show()\n",
    "    \n",
    "plot_bkgs_post()"
   ]
  },
  {
   "cell_type": "code",
   "execution_count": 10,
   "id": "278e89e4",
   "metadata": {},
   "outputs": [],
   "source": [
    "def plot_limits(label):\n",
    "    repored_obs = numpy.array(FRAME[\"reported_s95obs\"])\n",
    "    cabinetry_obs_2 = numpy.array(FRAME[\"limit_%s_obs_2\" % label])\n",
    "    cabinetry_obs_3 = numpy.array(FRAME[\"limit_%s_obs_3\" % label])\n",
    "\n",
    "    y2 = cabinetry_obs_2\n",
    "    y3 = cabinetry_obs_3\n",
    "    x = repored_obs\n",
    "    \n",
    "    pyplot.scatter(x, y2, color=\"r\", lw=0, s=2, marker=\",\")\n",
    "    pyplot.scatter(x, y3, color=\"b\", lw=0, s=2, marker=\",\")\n",
    "    pyplot.plot([0, 200], [0, 200], \"k\", alpha=0.2)\n",
    "    \n",
    "    pyplot.yscale(\"log\")\n",
    "    pyplot.xscale(\"log\")\n",
    "    pyplot.axis(\"equal\")\n",
    "    \n",
    "    pyplot.show()\n"
   ]
  },
  {
   "cell_type": "code",
   "execution_count": 11,
   "id": "c9990e2c",
   "metadata": {},
   "outputs": [
    {
     "data": {
      "image/png": "[encoded data removed]",
      "text/plain": [
       "<Figure size 432x288 with 1 Axes>"
      ]
     },
     "metadata": {
      "needs_background": "light"
     },
     "output_type": "display_data"
    }
   ],
   "source": [
    "plot_limits(\"cabinetry\")"
   ]
  },
  {
   "cell_type": "code",
   "execution_count": 12,
   "id": "0f2ec3d1",
   "metadata": {},
   "outputs": [
    {
     "data": {
      "image/png": "[encoded data removed]",
      "text/plain": [
       "<Figure size 432x288 with 1 Axes>"
      ]
     },
     "metadata": {
      "needs_background": "light"
     },
     "output_type": "display_data"
    }
   ],
   "source": [
    "plot_limits(\"cabinetry_post\")"
   ]
  },
  {
   "cell_type": "code",
   "execution_count": 13,
   "id": "4e9497c9",
   "metadata": {},
   "outputs": [
    {
     "data": {
      "image/png": "[encoded data removed]",
      "text/plain": [
       "<Figure size 432x288 with 1 Axes>"
      ]
     },
     "metadata": {
      "needs_background": "light"
     },
     "output_type": "display_data"
    }
   ],
   "source": [
    "plot_limits(\"normal\")"
   ]
  },
  {
   "cell_type": "code",
   "execution_count": 14,
   "id": "343891f7",
   "metadata": {},
   "outputs": [
    {
     "data": {
      "image/png": "[encoded data removed]",
      "text/plain": [
       "<Figure size 432x288 with 1 Axes>"
      ]
     },
     "metadata": {
      "needs_background": "light"
     },
     "output_type": "display_data"
    }
   ],
   "source": [
    "plot_limits(\"normal_log\")"
   ]
  },
  {
   "cell_type": "code",
   "execution_count": 15,
   "id": "e82a186b",
   "metadata": {
    "scrolled": true
   },
   "outputs": [
    {
     "data": {
      "image/png": "[encoded data removed]",
      "text/plain": [
       "<Figure size 432x288 with 1 Axes>"
      ]
     },
     "metadata": {
      "needs_background": "light"
     },
     "output_type": "display_data"
    }
   ],
   "source": [
    "plot_limits(\"delta\")"
   ]
  },
  {
   "cell_type": "code",
   "execution_count": 16,
   "id": "5cfdcb77",
   "metadata": {},
   "outputs": [
    {
     "data": {
      "image/png": "[encoded data removed]",
      "text/plain": [
       "<Figure size 432x288 with 1 Axes>"
      ]
     },
     "metadata": {
      "needs_background": "light"
     },
     "output_type": "display_data"
    }
   ],
   "source": [
    "plot_limits(\"linspace\")"
   ]
  },
  {
   "cell_type": "code",
   "execution_count": 17,
   "id": "3bb29b63",
   "metadata": {},
   "outputs": [
    {
     "data": {
      "image/png": "[encoded data removed]",
      "text/plain": [
       "<Figure size 432x288 with 1 Axes>"
      ]
     },
     "metadata": {
      "needs_background": "light"
     },
     "output_type": "display_data"
    }
   ],
   "source": [
    "plot_limits(\"mcmc\")"
   ]
  },
  {
   "cell_type": "code",
   "execution_count": 18,
   "id": "bec881be",
   "metadata": {},
   "outputs": [],
   "source": [
    "# TODO inspect anomalies\n",
    "# TODO add quantiles as error bars"
   ]
  },
  {
   "cell_type": "code",
   "execution_count": 19,
   "id": "4fedb344",
   "metadata": {},
   "outputs": [
    {
     "data": {
      "text/plain": [
       "(2.8853900817779268, 7.38905609893065)"
      ]
     },
     "execution_count": 19,
     "metadata": {},
     "output_type": "execute_result"
    }
   ],
   "source": [
    "2 / numpy.log(2), numpy.exp(2)"
   ]
  },
  {
   "cell_type": "code",
   "execution_count": 20,
   "id": "94512c2f",
   "metadata": {},
   "outputs": [
    {
     "data": {
      "text/plain": [
       "(4.328085122666891, 20.085536923187668)"
      ]
     },
     "execution_count": 20,
     "metadata": {},
     "output_type": "execute_result"
    }
   ],
   "source": [
    "3 / numpy.log(2), numpy.exp(3)"
   ]
  }
 ],
 "metadata": {
  "kernelspec": {
   "display_name": "Python 3 (ipykernel)",
   "language": "python",
   "name": "python3"
  },
  "language_info": {
   "codemirror_mode": {
    "name": "ipython",
    "version": 3
   },
   "file_extension": ".py",
   "mimetype": "text/x-python",
   "name": "python",
   "nbconvert_exporter": "python",
   "pygments_lexer": "ipython3",
   "version": "3.10.4"
  }
 },
 "nbformat": 4,
 "nbformat_minor": 5
}
