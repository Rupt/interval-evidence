{
 "cells": [
  {
   "cell_type": "code",
   "execution_count": null,
   "id": "20e4ccba",
   "metadata": {
    "scrolled": false
   },
   "outputs": [],
   "source": [
    "import os\n",
    "import json\n",
    "import functools\n",
    "from types import SimpleNamespace\n",
    "\n",
    "import numpy\n",
    "import matplotlib\n",
    "from matplotlib import pyplot\n",
    "import scipy.special\n",
    "import scipy.optimize\n",
    "\n",
    "from discohisto import (\n",
    "    fit_normal,\n",
    "    fit_cabinetry,\n",
    "    fit_cabinetry_post,\n",
    "    fit_linspace,\n",
    "    fit_mcmc_mix,\n",
    "    fit_mcmc_tfp_ham,\n",
    "    region,\n",
    "    limit,\n",
    "    stats,\n",
    ")\n",
    "\n",
    "import report.frame"
   ]
  },
  {
   "cell_type": "code",
   "execution_count": null,
   "id": "1d5824cb",
   "metadata": {},
   "outputs": [],
   "source": [
    "pyplot.rcParams.update(\n",
    "    {\n",
    "        \"text.usetex\": True,\n",
    "        \"font.family\": \"serif\",\n",
    "        \"font.size\": 10,\n",
    "        \"figure.facecolor\": \"w\",\n",
    "    }\n",
    ")"
   ]
  },
  {
   "cell_type": "code",
   "execution_count": null,
   "id": "3e1e31b5",
   "metadata": {},
   "outputs": [],
   "source": [
    "FRAME = report.frame.load(\"report/results.csv\")"
   ]
  },
  {
   "cell_type": "code",
   "execution_count": null,
   "id": "3b5b9dfc",
   "metadata": {
    "scrolled": true
   },
   "outputs": [],
   "source": [
    "print(numpy.array_equal(FRAME.reported_n, FRAME.region_n))"
   ]
  },
  {
   "cell_type": "markdown",
   "id": "0e00ddce",
   "metadata": {},
   "source": [
    "# Compare fitted backgrounds"
   ]
  },
  {
   "cell_type": "code",
   "execution_count": null,
   "id": "9e532df6",
   "metadata": {},
   "outputs": [],
   "source": [
    "len(set(FRAME.search_))"
   ]
  },
  {
   "cell_type": "code",
   "execution_count": null,
   "id": "9b8f6f14",
   "metadata": {},
   "outputs": [],
   "source": [
    "len(FRAME.fit_cabinetry_bkg)"
   ]
  },
  {
   "cell_type": "code",
   "execution_count": null,
   "id": "1c9c05f0",
   "metadata": {},
   "outputs": [],
   "source": [
    "# TODO error bars"
   ]
  },
  {
   "cell_type": "code",
   "execution_count": null,
   "id": "b46671de",
   "metadata": {
    "scrolled": false
   },
   "outputs": [],
   "source": [
    "def plot_bkgs():\n",
    "    repored_bkg = FRAME.reported_bkg\n",
    "    fit_cabinetry_bkg = FRAME.fit_cabinetry_bkg\n",
    "\n",
    "    y = fit_cabinetry_bkg / repored_bkg\n",
    "    x = numpy.arange(len(y)) + 0.5\n",
    "    \n",
    "    figure, axis = pyplot.subplots(\n",
    "        dpi=400,\n",
    "        figsize=numpy.array([10, 3]) * 0.7,\n",
    "        gridspec_kw={\n",
    "            \"top\": 0.97,\n",
    "            \"right\": 0.995,\n",
    "            \"bottom\": 0.05,\n",
    "            \"left\": 0.07,\n",
    "        },\n",
    "    )\n",
    "    \n",
    "    print(len(y))\n",
    "    \n",
    "    axis.scatter(x, y, lw=0, s=4 ** 2, marker=\".\", color=\"xkcd:blue\")\n",
    "    \n",
    "    axis.axhline(1.0, color=\"k\", alpha=0.1, zorder=0.5)\n",
    "    \n",
    "    axis.set_xlim(-1, len(y) + 1)\n",
    "    axis.set_ylim(0, 2)\n",
    "    axis.set_ylabel(\"fit / reported\")\n",
    "    \n",
    "    axis.set_xticks([])\n",
    "    \n",
    "    figure.savefig(\"validation_frame_plot_bkgs.png\")\n",
    "    pyplot.show()\n",
    "    pyplot.close(figure)\n",
    "    \n",
    "plot_bkgs()"
   ]
  },
  {
   "cell_type": "code",
   "execution_count": null,
   "id": "5793bba2",
   "metadata": {},
   "outputs": [],
   "source": [
    "def plot_bkgs_post():\n",
    "    repored_bkg = FRAME.reported_bkg\n",
    "    fit_cabinetry_bkg = FRAME.fit_cabinetry_post_bkg\n",
    "\n",
    "    y = fit_cabinetry_bkg / repored_bkg\n",
    "    x = numpy.arange(len(y)) + 0.5\n",
    "    \n",
    "    pyplot.scatter(x, y, lw=0, s=2, marker=\",\")\n",
    "    \n",
    "    pyplot.ylim(0, 2)\n",
    "    pyplot.show()\n",
    "    \n",
    "plot_bkgs_post()"
   ]
  },
  {
   "cell_type": "markdown",
   "id": "573da142",
   "metadata": {},
   "source": [
    "# Inspect mean log likelihoods"
   ]
  },
  {
   "cell_type": "code",
   "execution_count": null,
   "id": "8e7f702f",
   "metadata": {},
   "outputs": [],
   "source": [
    "def print_mean_logls():\n",
    "    name_to_mean_logl = {\n",
    "        \"cabinetry\": FRAME.limit_cabinetry_logl.mean(),\n",
    "        \"normal\": FRAME.limit_normal_logl.mean(),\n",
    "        \"normal_log\": FRAME.limit_normal_log_logl.mean(),\n",
    "        \"delta\": FRAME.limit_delta_logl.mean(),\n",
    "        \"linspace\": FRAME.limit_linspace_logl.mean(),\n",
    "        \"mcmc\": FRAME.limit_mcmc_logl.mean(),\n",
    "    }\n",
    "    \n",
    "    ref = max(name_to_mean_logl.values())\n",
    "    \n",
    "    for name, q in name_to_mean_logl.items():\n",
    "        print(\"%15s %7.4f %7.4f\" % (name, q, q - ref))\n",
    "\n",
    "print_mean_logls()    "
   ]
  },
  {
   "cell_type": "code",
   "execution_count": null,
   "id": "9ed76d73",
   "metadata": {},
   "outputs": [],
   "source": [
    "def print_optimized_mixture():\n",
    "    name_to_mixture_part = {\n",
    "        \"cabinetry\": FRAME.limit_cabinetry_logl,\n",
    "        \"normal_log\": FRAME.limit_normal_log_logl,\n",
    "        \"linspace\": FRAME.limit_linspace_logl,\n",
    "        \"mcmc\": FRAME.limit_mcmc_logl,\n",
    "    }\n",
    "    \n",
    "    parts = numpy.stack(list(name_to_mixture_part.values())).T\n",
    "    \n",
    "    def mixture_mean_logl(x):\n",
    "        log_weights = log_softmax(x)\n",
    "        return scipy.special.logsumexp(parts + log_weights, axis=1).mean()\n",
    "    \n",
    "    # logit coordinates have a shift freedom. Constrain it by setting x[-1]=0\n",
    "    def loss(x_start):\n",
    "        x = numpy.append(x_start, 0.0)\n",
    "        return -mixture_mean_logl(x)\n",
    "    \n",
    "    result = scipy.optimize.minimize(\n",
    "        loss,\n",
    "        [0.0] * (len(name_to_mixture_part) - 1)\n",
    "    )\n",
    "    print(result)\n",
    "    \n",
    "    result_weights = numpy.exp(log_softmax(numpy.append(result.x, 0.0)))\n",
    "    print(\"weights\", result_weights)\n",
    "    \n",
    "    print(\"%15s %7.4f _______\" % (\"mixture\", -loss(result.x)))\n",
    "    x_p6_p4 = _safe_log([0.6, 0.4, 0])\n",
    "    # offset to wash out the appended zero\n",
    "    print(\"%15s %7.4f _______\" % (\".6, .4\", -loss(x_p6_p4 + 300)))\n",
    "    \n",
    "    # plot a scan\n",
    "    x = numpy.linspace(0, 1, 100)\n",
    "    y = []\n",
    "    for xi in x:\n",
    "        log_weights = _safe_log([xi, 1 - xi, 0])\n",
    "        # offset to wash out the appended zero\n",
    "        y.append(-loss(log_weights + 700))\n",
    "    pyplot.plot(x, y)\n",
    "    pyplot.show()\n",
    "    \n",
    "    \n",
    "def log_softmax(x):\n",
    "    # log(e^xi / sum e^xi)\n",
    "    s = x - x.max()\n",
    "    return s - numpy.log(numpy.exp(s).sum())\n",
    "\n",
    "\n",
    "def _safe_log(x):\n",
    "    x = numpy.asarray(x)\n",
    "    iszero = x == 0\n",
    "    return numpy.where(iszero, -numpy.inf, numpy.log(x + iszero))\n",
    "\n",
    "\n",
    "print_optimized_mixture()"
   ]
  },
  {
   "cell_type": "markdown",
   "id": "9f26f90f",
   "metadata": {},
   "source": [
    "# Compare observed limits"
   ]
  },
  {
   "cell_type": "code",
   "execution_count": null,
   "id": "278e89e4",
   "metadata": {},
   "outputs": [],
   "source": [
    "def plot_limits(label):\n",
    "    reported_obs = FRAME.reported_s95obs\n",
    "    label_2obs = getattr(FRAME, \"limit_%s_2obs\" % label)\n",
    "    label_3obs = getattr(FRAME, \"limit_%s_3obs\" % label)\n",
    "    \n",
    "    figure, axis = pyplot.subplots(\n",
    "        dpi=400,\n",
    "        figsize=numpy.array([4, 4]) * 0.7,\n",
    "        gridspec_kw={\n",
    "            \"top\": 0.97,\n",
    "            \"right\": 0.995,\n",
    "            \"bottom\": 0.05,\n",
    "            \"left\": 0.07,\n",
    "        },\n",
    "    )\n",
    "    \n",
    "    axis.scatter(reported_obs, label_2obs, color=\"xkcd:red\", lw=0, s=3 ** 2, marker=\".\")\n",
    "    axis.scatter(reported_obs, label_3obs, color=\"xkcd:blue\", lw=0, s=3 ** 2, marker=\".\")\n",
    "    axis.plot([0, 400], [0, 400], \"k\", alpha=0.1, zorder=0.5)\n",
    "    \n",
    "    axis.set_yscale(\"log\")\n",
    "    axis.set_xscale(\"log\")\n",
    "    axis.set_xlim(1.5, 400)\n",
    "    axis.set_ylim(1.5, 400)\n",
    "    \n",
    "    axis.set_xlabel(\"reported limit\")\n",
    "    axis.set_ylabel(\"our limit\")\n",
    "    \n",
    "    pyplot.show()\n"
   ]
  },
  {
   "cell_type": "code",
   "execution_count": null,
   "id": "c9990e2c",
   "metadata": {},
   "outputs": [],
   "source": [
    "plot_limits(\"cabinetry\")"
   ]
  },
  {
   "cell_type": "code",
   "execution_count": null,
   "id": "0f2ec3d1",
   "metadata": {},
   "outputs": [],
   "source": [
    "plot_limits(\"cabinetry_post\")"
   ]
  },
  {
   "cell_type": "code",
   "execution_count": null,
   "id": "4e9497c9",
   "metadata": {},
   "outputs": [],
   "source": [
    "plot_limits(\"normal\")"
   ]
  },
  {
   "cell_type": "code",
   "execution_count": null,
   "id": "343891f7",
   "metadata": {},
   "outputs": [],
   "source": [
    "plot_limits(\"normal_log\")"
   ]
  },
  {
   "cell_type": "code",
   "execution_count": null,
   "id": "e82a186b",
   "metadata": {
    "scrolled": false
   },
   "outputs": [],
   "source": [
    "plot_limits(\"delta\")"
   ]
  },
  {
   "cell_type": "code",
   "execution_count": null,
   "id": "5cfdcb77",
   "metadata": {},
   "outputs": [],
   "source": [
    "plot_limits(\"linspace\")"
   ]
  },
  {
   "cell_type": "code",
   "execution_count": null,
   "id": "3bb29b63",
   "metadata": {},
   "outputs": [],
   "source": [
    "plot_limits(\"mcmc\")"
   ]
  },
  {
   "cell_type": "code",
   "execution_count": null,
   "id": "4fedb344",
   "metadata": {},
   "outputs": [],
   "source": [
    "2 / numpy.log(2), numpy.exp(2)"
   ]
  },
  {
   "cell_type": "code",
   "execution_count": null,
   "id": "94512c2f",
   "metadata": {},
   "outputs": [],
   "source": [
    "3 / numpy.log(2), numpy.exp(3)"
   ]
  },
  {
   "cell_type": "markdown",
   "id": "cb6b14e9",
   "metadata": {},
   "source": [
    "# Inspect anomalous differences"
   ]
  },
  {
   "cell_type": "code",
   "execution_count": null,
   "id": "01ff703d",
   "metadata": {},
   "outputs": [],
   "source": [
    "def print_anomalies(label):\n",
    "    search_ = FRAME.search_\n",
    "    region_ = FRAME.region_\n",
    "    reported_obs = FRAME.reported_s95obs\n",
    "    label_2obs = getattr(FRAME, \"limit_%s_2obs\" % label)\n",
    "    \n",
    "    parts = zip(search_, region_, reported_obs, label_2obs)\n",
    "    \n",
    "    for search_i, region_i, reported_i, label_i in parts:\n",
    "        error = numpy.log(label_i / reported_i)\n",
    "        if not abs(error) > 0.3:\n",
    "            continue\n",
    "            \n",
    "        print(\n",
    "            \"%28s %28s %6.1f %6.1f %6.1f\" % \n",
    "            (search_i, region_i, reported_i, label_i, error)\n",
    "        )"
   ]
  },
  {
   "cell_type": "code",
   "execution_count": null,
   "id": "bc7c95fd",
   "metadata": {},
   "outputs": [],
   "source": [
    "print_anomalies(\"cabinetry\")"
   ]
  },
  {
   "cell_type": "code",
   "execution_count": null,
   "id": "e07c8ba9",
   "metadata": {},
   "outputs": [],
   "source": [
    "print_anomalies(\"linspace\")"
   ]
  },
  {
   "cell_type": "markdown",
   "id": "28f6d9df",
   "metadata": {},
   "source": [
    "# Check orderings re expected"
   ]
  },
  {
   "cell_type": "code",
   "execution_count": null,
   "id": "97cce11f",
   "metadata": {},
   "outputs": [],
   "source": [
    "def print_orderings(label):\n",
    "    search_ = FRAME.search_\n",
    "    region_ = FRAME.region_\n",
    "    nobs = FRAME.reported_n\n",
    "    nexp = getattr(FRAME, f\"limit_{label}_nexp\")\n",
    "    nexp_hi = getattr(FRAME, f\"limit_{label}_nexp_hi\")\n",
    "    nexp_lo = getattr(FRAME, f\"limit_{label}_nexp_lo\")\n",
    "    obs = getattr(FRAME, f\"limit_{label}_3obs\")\n",
    "    exp = getattr(FRAME, f\"limit_{label}_3exp\")\n",
    "    exp_hi = getattr(FRAME, f\"limit_{label}_3exp_hi\")\n",
    "    exp_lo = getattr(FRAME, f\"limit_{label}_3exp_lo\")\n",
    "    \n",
    "    parts = zip(\n",
    "        search_, \n",
    "        region_,\n",
    "        nobs,\n",
    "        nexp,\n",
    "        nexp_hi,\n",
    "        nexp_lo,\n",
    "        obs,\n",
    "        exp,\n",
    "        exp_hi,\n",
    "        exp_lo,\n",
    "    )\n",
    "    \n",
    "    any_ = False\n",
    "    \n",
    "    for items in parts:\n",
    "        (\n",
    "            search_i, \n",
    "            region_i,\n",
    "            nobs_i,\n",
    "            nexp_i,\n",
    "            nexp_hi_i,\n",
    "            nexp_lo_i,\n",
    "            obs_i,\n",
    "            exp_i,\n",
    "            exp_hi_i,\n",
    "            exp_lo_i,\n",
    "        ) = items\n",
    "        \n",
    "        # central\n",
    "        excess_data = nobs_i > nexp_i\n",
    "        excess_limit = obs_i > exp_i\n",
    "        \n",
    "        if excess_data != excess_limit:\n",
    "            any_ = True\n",
    "            print(\n",
    "                \"%28s %28s %6d %6.1f %6.1f %6.1f\" % \n",
    "                (search_i, region_i, nobs_i, nexp_i, obs_i, exp_i)\n",
    "            )\n",
    "        \n",
    "        # hi\n",
    "        excess_data = nobs_i > nexp_hi_i\n",
    "        excess_limit = obs_i > exp_hi_i\n",
    "        \n",
    "        if excess_data != excess_limit:\n",
    "            any_ = True\n",
    "            print(\n",
    "                \"%28s %28s %6d %6.1f %6.1f %6.1f\" % \n",
    "                (search_i, region_i, nobs_i, nexp_hi_i, obs_i, exp_hi_i)\n",
    "            )\n",
    "            \n",
    "        # lo\n",
    "        excess_data = nobs_i > nexp_lo_i\n",
    "        excess_limit = obs_i > exp_lo_i\n",
    "        \n",
    "        if excess_data != excess_limit:\n",
    "            any_ = True\n",
    "            print(\n",
    "                \"%28s %28s %6d %6.1f %6.1f %6.1f\" % \n",
    "                (search_i, region_i, nobs_i, nexp_lo_i, obs_i, exp_lo_i)\n",
    "            )\n",
    "        \n",
    "    if not any_:\n",
    "        print(\"ALL OK %r\" % label)"
   ]
  },
  {
   "cell_type": "code",
   "execution_count": null,
   "id": "06c75aaf",
   "metadata": {
    "scrolled": false
   },
   "outputs": [],
   "source": [
    "print_orderings(\"cabinetry\")"
   ]
  },
  {
   "cell_type": "code",
   "execution_count": null,
   "id": "8aadba47",
   "metadata": {
    "scrolled": false
   },
   "outputs": [],
   "source": [
    "print_orderings(\"normal\")"
   ]
  },
  {
   "cell_type": "code",
   "execution_count": null,
   "id": "9117df10",
   "metadata": {
    "scrolled": false
   },
   "outputs": [],
   "source": [
    "print_orderings(\"normal_log\")"
   ]
  },
  {
   "cell_type": "code",
   "execution_count": null,
   "id": "77f17d0c",
   "metadata": {
    "scrolled": false
   },
   "outputs": [],
   "source": [
    "print_orderings(\"linspace\")"
   ]
  },
  {
   "cell_type": "code",
   "execution_count": null,
   "id": "37b3dda5",
   "metadata": {
    "scrolled": false
   },
   "outputs": [],
   "source": [
    "print_orderings(\"delta\")"
   ]
  },
  {
   "cell_type": "code",
   "execution_count": null,
   "id": "5ca7d684",
   "metadata": {
    "scrolled": false
   },
   "outputs": [],
   "source": [
    "print_orderings(\"mcmc\")"
   ]
  }
 ],
 "metadata": {
  "kernelspec": {
   "display_name": "Python 3 (ipykernel)",
   "language": "python",
   "name": "python3"
  },
  "language_info": {
   "codemirror_mode": {
    "name": "ipython",
    "version": 3
   },
   "file_extension": ".py",
   "mimetype": "text/x-python",
   "name": "python",
   "nbconvert_exporter": "python",
   "pygments_lexer": "ipython3",
   "version": "3.10.4"
  }
 },
 "nbformat": 4,
 "nbformat_minor": 5
}
