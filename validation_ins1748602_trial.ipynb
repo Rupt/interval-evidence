{
 "cells": [
  {
   "cell_type": "code",
   "execution_count": null,
   "id": "20e4ccba",
   "metadata": {},
   "outputs": [],
   "source": [
    "import os\n",
    "\n",
    "import numpy\n",
    "import matplotlib\n",
    "from matplotlib import pyplot\n",
    "\n",
    "from pyhf_stuff import (\n",
    "    fit_normal,\n",
    "    fit_cabinetry,\n",
    "    fit_linspace,\n",
    "    fit_mcmc_mix,\n",
    ")"
   ]
  },
  {
   "cell_type": "code",
   "execution_count": null,
   "id": "e9aa75fc",
   "metadata": {},
   "outputs": [],
   "source": [
    "BASENAME = \"/home/tombs/Cambridge/interval-evidence/searches/ins1748602/\""
   ]
  },
  {
   "cell_type": "code",
   "execution_count": null,
   "id": "9140ea39",
   "metadata": {},
   "outputs": [],
   "source": [
    "def plot_fits(\n",
    "    region_name,\n",
    "    cabinetry_class=fit_cabinetry.FitCabinetry,\n",
    "    normal_class=fit_normal.FitNormal,\n",
    "    linspace_class=fit_linspace.FitLinspace,\n",
    "    mcmc_class=fit_mcmc_mix.FitMcmcMix,\n",
    "):\n",
    "    path = os.path.join(BASENAME, region_name, \"fit\")\n",
    "    \n",
    "    cabinetry = cabinetry_class.load(path)\n",
    "    normal = normal_class.load(path)\n",
    "    linspace = linspace_class.load(path)\n",
    "    mcmc = mcmc_class.load(path)\n",
    "    \n",
    "    figure, axis = pyplot.subplots(tight_layout=(0, 0, 0))\n",
    "    \n",
    "    # TODO functions\n",
    "    # plot cabinetry bar\n",
    "    axis.plot(\n",
    "        [\n",
    "            cabinetry.yield_pre - cabinetry.error_pre, \n",
    "            cabinetry.yield_pre + cabinetry.error_pre,\n",
    "        ],\n",
    "        [0.1] * 2,\n",
    "        color=\"xkcd:mahogany\",\n",
    "        linewidth=2,\n",
    "    )\n",
    "    axis.scatter(\n",
    "        [cabinetry.yield_pre], \n",
    "        [0.1],\n",
    "        s=10 ** 2,\n",
    "        color=\"xkcd:mahogany\",\n",
    "        marker=\"o\",\n",
    "        linewidth=2,\n",
    "        facecolor=\"w\",\n",
    "        zorder=2.2\n",
    "    )\n",
    "    \n",
    "    \n",
    "    # plot normal bar\n",
    "    axis.plot(\n",
    "        [\n",
    "            normal.yield_linear - normal.error_linear, \n",
    "            normal.yield_linear + normal.error_linear,\n",
    "        ],\n",
    "        [0.18] * 2,\n",
    "        \"k\",\n",
    "        linewidth=2,\n",
    "    )\n",
    "    axis.scatter(\n",
    "        [normal.yield_linear], \n",
    "        [0.18],\n",
    "        s=10 ** 2,\n",
    "        color=\"k\",\n",
    "        marker=\"D\",\n",
    "        linewidth=2,\n",
    "        facecolor=\"w\",\n",
    "        zorder=2.2\n",
    "    )\n",
    "    \n",
    "    # plot linear\n",
    "    linspace_levels = numpy.array(linspace.levels)\n",
    "    linspace_logy = linspace_levels.min() - linspace_levels\n",
    "    linspace_x = numpy.linspace(linspace.start, linspace.stop, len(linspace.levels))\n",
    "    pyplot.plot(\n",
    "        linspace_x, \n",
    "        numpy.exp(linspace_logy), \n",
    "        \"b\",\n",
    "        linewidth=2,\n",
    "    )\n",
    "    \n",
    "    # plot mcmc\n",
    "    mcmc_x = numpy.linspace(*mcmc.range_, mcmc.nbins + 1)\n",
    "    mcmc_yields = numpy.array(mcmc.yields + mcmc.yields[-1:])\n",
    "    scale = mcmc_yields.max()\n",
    "    mcmc_y = mcmc_yields / scale\n",
    "    pyplot.plot(\n",
    "        mcmc_x,\n",
    "        mcmc_y,\n",
    "        \"r\",\n",
    "        linewidth=2,\n",
    "        drawstyle=\"steps-post\",\n",
    "    )\n",
    "    \n",
    "    pyplot.show()\n",
    "    "
   ]
  },
  {
   "cell_type": "code",
   "execution_count": null,
   "id": "7f062658",
   "metadata": {
    "scrolled": false
   },
   "outputs": [],
   "source": [
    "plot_fits(\"SRA\")"
   ]
  },
  {
   "cell_type": "code",
   "execution_count": null,
   "id": "cdd64d8e",
   "metadata": {
    "scrolled": false
   },
   "outputs": [],
   "source": [
    "plot_fits(\"SRB\")"
   ]
  },
  {
   "cell_type": "code",
   "execution_count": null,
   "id": "b6d06c01",
   "metadata": {
    "scrolled": false
   },
   "outputs": [],
   "source": [
    "plot_fits(\"SRC\")"
   ]
  }
 ],
 "metadata": {
  "kernelspec": {
   "display_name": "Python 3 (ipykernel)",
   "language": "python",
   "name": "python3"
  },
  "language_info": {
   "codemirror_mode": {
    "name": "ipython",
    "version": 3
   },
   "file_extension": ".py",
   "mimetype": "text/x-python",
   "name": "python",
   "nbconvert_exporter": "python",
   "pygments_lexer": "ipython3",
   "version": "3.10.4"
  }
 },
 "nbformat": 4,
 "nbformat_minor": 5
}
