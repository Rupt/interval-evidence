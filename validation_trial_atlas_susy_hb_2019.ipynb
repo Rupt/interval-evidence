{
 "cells": [
  {
   "cell_type": "code",
   "execution_count": 1,
   "id": "20e4ccba",
   "metadata": {},
   "outputs": [],
   "source": [
    "import os\n",
    "import json\n",
    "\n",
    "import numpy\n",
    "import matplotlib\n",
    "from matplotlib import pyplot\n",
    "\n",
    "from discohist import (\n",
    "    fit_normal,\n",
    "    fit_cabinetry,\n",
    "    fit_linspace,\n",
    "    fit_mcmc_mix,\n",
    "    region,\n",
    ")"
   ]
  },
  {
   "cell_type": "code",
   "execution_count": 2,
   "id": "e9aa75fc",
   "metadata": {},
   "outputs": [],
   "source": [
    "BASENAME = \"/home/tombs/Documents/interval-evidence/searches/atlas_susy_hb_2019/\""
   ]
  },
  {
   "cell_type": "code",
   "execution_count": 3,
   "id": "2cbd3354",
   "metadata": {},
   "outputs": [],
   "source": [
    "def load_reported():\n",
    "    path = os.path.join(BASENAME, \"reported.json\")\n",
    "    with open(path) as file_:\n",
    "        reported = json.load(file_)\n",
    "    return reported\n",
    "\n",
    "REPORTED = load_reported()"
   ]
  },
  {
   "cell_type": "code",
   "execution_count": 4,
   "id": "9140ea39",
   "metadata": {},
   "outputs": [],
   "source": [
    "def plot_fits(\n",
    "    region_name,\n",
    "    cabinetry_class=fit_cabinetry.FitCabinetry,\n",
    "    normal_class=fit_normal.FitNormal,\n",
    "    linspace_class=fit_linspace.FitLinspace,\n",
    "    mcmc_class=fit_mcmc_mix.FitMcmcMix,\n",
    "):\n",
    "    print(region_name)\n",
    "    path = os.path.join(BASENAME, region_name, \"fit\")\n",
    "    \n",
    "    region_i = region.Region.load(os.path.join(BASENAME, region_name))\n",
    "    n_region = _get_n_region(region_i)\n",
    "    \n",
    "    n_reported = REPORTED[region_name][\"n\"]\n",
    "    mismatch = \", !!!!!\" * (n_region != n_reported)\n",
    "    print(\"n = %d (%d%s)\" % (n_reported, n_region, mismatch))\n",
    "    \n",
    "    bkg = REPORTED[region_name][\"bkg\"]\n",
    "    bkg_hi = REPORTED[region_name][\"bkg_hi\"]\n",
    "    bkg_lo = REPORTED[region_name][\"bkg_lo\"]\n",
    "    print(f\"bkg = {bkg:6.1f} {bkg_hi:+6.1f} {bkg_lo:+6.1f}\")\n",
    "    \n",
    "    cabinetry = cabinetry_class.load(path)\n",
    "    normal = normal_class.load(path)\n",
    "    linspace = linspace_class.load(path)\n",
    "    mcmc = mcmc_class.load(path)\n",
    "    \n",
    "    figure, axis = pyplot.subplots(tight_layout=(0, 0, 0))\n",
    "    \n",
    "    # TODO split to functions\n",
    "    # TODO normalize to area, not maximum\n",
    "    \n",
    "    # plot reported\n",
    "    axis.plot(\n",
    "        [bkg + bkg_hi, bkg + bkg_lo],\n",
    "        [-5] * 2,\n",
    "        color=\"xkcd:barney purple\",\n",
    "        linewidth=2,\n",
    "    )\n",
    "    axis.scatter(\n",
    "        [bkg], \n",
    "        [-5],\n",
    "        s=10 ** 2,\n",
    "        color=\"xkcd:barney purple\",\n",
    "        marker=\"*\",\n",
    "        linewidth=2,\n",
    "        facecolor=\"w\",\n",
    "        zorder=2.2\n",
    "    )\n",
    "    \n",
    "    # plot cabinetry bar\n",
    "    axis.plot(\n",
    "        [\n",
    "            cabinetry.yield_pre - cabinetry.error_pre, \n",
    "            cabinetry.yield_pre + cabinetry.error_pre,\n",
    "        ],\n",
    "        [-4] * 2,\n",
    "        color=\"xkcd:mahogany\",\n",
    "        linewidth=2,\n",
    "    )\n",
    "    axis.scatter(\n",
    "        [cabinetry.yield_pre], \n",
    "        [-4],\n",
    "        s=10 ** 2,\n",
    "        color=\"xkcd:mahogany\",\n",
    "        marker=\"o\",\n",
    "        linewidth=2,\n",
    "        facecolor=\"w\",\n",
    "        zorder=2.2\n",
    "    )\n",
    "    \n",
    "    # plot normal bar\n",
    "    axis.plot(\n",
    "        [\n",
    "            normal.yield_linear - normal.error_linear, \n",
    "            normal.yield_linear + normal.error_linear,\n",
    "        ],\n",
    "        [-3] * 2,\n",
    "        \"k\",\n",
    "        linewidth=2,\n",
    "    )\n",
    "    axis.scatter(\n",
    "        [normal.yield_linear], \n",
    "        [-3],\n",
    "        s=10 ** 2,\n",
    "        color=\"k\",\n",
    "        marker=\"D\",\n",
    "        linewidth=2,\n",
    "        facecolor=\"w\",\n",
    "        zorder=2.2\n",
    "    )\n",
    "    \n",
    "    # plot linear\n",
    "    linspace_levels = numpy.array(linspace.levels)\n",
    "    linspace_logy = linspace_levels.min() - linspace_levels\n",
    "    linspace_x = numpy.linspace(linspace.start, linspace.stop, len(linspace.levels))\n",
    "    pyplot.plot(\n",
    "        linspace_x, \n",
    "        linspace_logy,\n",
    "        \"b\",\n",
    "        linewidth=2,\n",
    "    )\n",
    "    \n",
    "    # plot mcmc\n",
    "    nbins = 50\n",
    "    mcmc_x = numpy.linspace(*mcmc.range_, nbins + 1)\n",
    "    yields = _rebin(mcmc.yields, nbins)\n",
    "    mcmc_yields = numpy.append(yields, yields[-1])\n",
    "    scale = yields.max()\n",
    "    mcmc_y = _safe_log(mcmc_yields / scale)\n",
    "    pyplot.plot(\n",
    "        mcmc_x,\n",
    "        mcmc_y,\n",
    "        \"r\",\n",
    "        linewidth=2,\n",
    "        drawstyle=\"steps-post\",\n",
    "    )\n",
    "\n",
    "    xmin = min(linspace.start, mcmc.range_[0])\n",
    "    xmax = max(linspace.stop, mcmc.range_[1])\n",
    "    pyplot.xlim(xmin, xmax)\n",
    "    pyplot.ylim(-8, 0.5)\n",
    "    \n",
    "    pyplot.show()\n",
    "    \n",
    "    \n",
    "def _rebin(array, len_new):\n",
    "    return numpy.reshape(array, (len_new, -1)).sum(axis=-1)\n",
    "\n",
    "    \n",
    "def _safe_log(x):\n",
    "    is_zero = x == 0\n",
    "    return numpy.where(\n",
    "        is_zero,\n",
    "        -numpy.inf,\n",
    "        numpy.log(x + is_zero),\n",
    "    )\n",
    "\n",
    "\n",
    "def _get_n_region(reg):\n",
    "    sr_name = reg.signal_region_name\n",
    "    observations = reg.workspace\n",
    "\n",
    "    for obs in reg.workspace[\"observations\"]:\n",
    "        if obs[\"name\"] == sr_name:\n",
    "            return obs[\"data\"][0]\n",
    "\n",
    "    raise ValueError(sr_name)"
   ]
  },
  {
   "cell_type": "code",
   "execution_count": 5,
   "id": "9eae2c1c",
   "metadata": {},
   "outputs": [
    {
     "name": "stdout",
     "output_type": "stream",
     "text": [
      "SRA\n",
      "n = 17 (17)\n",
      "bkg =   17.1   +2.8   -2.8\n"
     ]
    },
    {
     "data": {
      "image/png": "[encoded data removed]",
      "text/plain": [
       "<Figure size 432x288 with 1 Axes>"
      ]
     },
     "metadata": {
      "needs_background": "light"
     },
     "output_type": "display_data"
    },
    {
     "name": "stdout",
     "output_type": "stream",
     "text": [
      "SRB\n",
      "n = 3 (3)\n",
      "bkg =    3.3   +0.9   -0.9\n"
     ]
    },
    {
     "data": {
      "image/png": "[encoded data removed]",
      "text/plain": [
       "<Figure size 432x288 with 1 Axes>"
      ]
     },
     "metadata": {
      "needs_background": "light"
     },
     "output_type": "display_data"
    },
    {
     "name": "stdout",
     "output_type": "stream",
     "text": [
      "SRC\n",
      "n = 47 (47)\n",
      "bkg =   37.9   +6.2   -6.2\n"
     ]
    },
    {
     "data": {
      "image/png": "[encoded data removed]",
      "text/plain": [
       "<Figure size 432x288 with 1 Axes>"
      ]
     },
     "metadata": {
      "needs_background": "light"
     },
     "output_type": "display_data"
    }
   ],
   "source": [
    "def main():\n",
    "    for sr_name in REPORTED:\n",
    "        plot_fits(sr_name)\n",
    "\n",
    "main()"
   ]
  }
 ],
 "metadata": {
  "kernelspec": {
   "display_name": "Python 3 (ipykernel)",
   "language": "python",
   "name": "python3"
  },
  "language_info": {
   "codemirror_mode": {
    "name": "ipython",
    "version": 3
   },
   "file_extension": ".py",
   "mimetype": "text/x-python",
   "name": "python",
   "nbconvert_exporter": "python",
   "pygments_lexer": "ipython3",
   "version": "3.10.4"
  }
 },
 "nbformat": 4,
 "nbformat_minor": 5
}
