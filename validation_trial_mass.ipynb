{
 "cells": [
  {
   "cell_type": "code",
   "execution_count": null,
   "id": "20e4ccba",
   "metadata": {
    "scrolled": false
   },
   "outputs": [],
   "source": [
    "import os\n",
    "import json\n",
    "\n",
    "import numpy\n",
    "import matplotlib\n",
    "from matplotlib import pyplot\n",
    "\n",
    "from discohisto import (\n",
    "    fit_normal,\n",
    "    fit_cabinetry,\n",
    "    fit_cabinetry_post,\n",
    "    fit_linspace,\n",
    "    fit_mcmc_mix,\n",
    "    fit_mcmc_tfp_ham,\n",
    "    region,\n",
    ")"
   ]
  },
  {
   "cell_type": "code",
   "execution_count": null,
   "id": "9140ea39",
   "metadata": {
    "scrolled": false
   },
   "outputs": [],
   "source": [
    "def plot_fits(\n",
    "    region_name,\n",
    "    cabinetry_class=fit_cabinetry.FitCabinetry,\n",
    "    cabinetry_post_class=fit_cabinetry_post.FitCabinetryPost,\n",
    "    normal_class=fit_normal.FitNormal,\n",
    "    linspace_class=fit_linspace.FitLinspace,\n",
    "):\n",
    "    print(region_name)\n",
    "    path = os.path.join(BASENAME, region_name, \"fit\")\n",
    "    \n",
    "    region_i = region.Region.load(os.path.join(BASENAME, region_name))\n",
    "    n_region = _get_n_region(region_i)\n",
    "    \n",
    "    n_reported = REPORTED[region_name][\"n\"]\n",
    "    mismatch = \", !!!!!!!!!!!!!!\" * (n_region != n_reported)\n",
    "    print(\"n = %d (%d%s)\" % (n_reported, n_region, mismatch))\n",
    "    \n",
    "    bkg = REPORTED[region_name][\"bkg\"]\n",
    "    bkg_hi = REPORTED[region_name][\"bkg_hi\"]\n",
    "    bkg_lo = REPORTED[region_name][\"bkg_lo\"]\n",
    "    \n",
    "    cabinetry = cabinetry_class.load(path)\n",
    "    cabinetry_post = cabinetry_post_class.load(path)\n",
    "    normal = normal_class.load(path)\n",
    "    linspace = linspace_class.load(path)\n",
    "    # disgusting hack TODO\n",
    "    mcmc = None\n",
    "    for mcmc_class in [fit_mcmc_mix.FitMcmcMix, fit_mcmc_tfp_ham.FitMcmcTfpHam]:\n",
    "        try:\n",
    "            mcmc = mcmc_class.load(path)\n",
    "        except FileNotFoundError:\n",
    "            ...\n",
    "    assert mcmc is not None\n",
    "    \n",
    "    figure, axis = pyplot.subplots(tight_layout=(0, 0, 0))\n",
    "    \n",
    "    # TODO split to functions\n",
    "    # TODO normalize to area, not maximum\n",
    "    \n",
    "    # plot reported\n",
    "    axis.plot(\n",
    "        [bkg + bkg_hi, bkg + bkg_lo],\n",
    "        [-5] * 2,\n",
    "        color=\"xkcd:barney purple\",\n",
    "        linewidth=2,\n",
    "    )\n",
    "    axis.scatter(\n",
    "        [bkg], \n",
    "        [-5],\n",
    "        s=10 ** 2,\n",
    "        color=\"xkcd:barney purple\",\n",
    "        marker=\"*\",\n",
    "        linewidth=2,\n",
    "        facecolor=\"w\",\n",
    "        zorder=2.2\n",
    "    )\n",
    "    \n",
    "    # plot cabinetry bar\n",
    "    axis.plot(\n",
    "        [\n",
    "            cabinetry.yield_pre - cabinetry.error_pre, \n",
    "            cabinetry.yield_pre + cabinetry.error_pre,\n",
    "        ],\n",
    "        [-4] * 2,\n",
    "        color=\"xkcd:mahogany\",\n",
    "        linewidth=2,\n",
    "    )\n",
    "    axis.scatter(\n",
    "        [cabinetry.yield_pre], \n",
    "        [-4],\n",
    "        s=10 ** 2,\n",
    "        color=\"xkcd:mahogany\",\n",
    "        marker=\"o\",\n",
    "        linewidth=2,\n",
    "        facecolor=\"w\",\n",
    "        zorder=2.2\n",
    "    )\n",
    "    \n",
    "    axis.plot(\n",
    "        [\n",
    "            cabinetry_post.yield_post - cabinetry_post.error_post, \n",
    "            cabinetry_post.yield_post + cabinetry_post.error_post,\n",
    "        ],\n",
    "        [-4.5] * 2,\n",
    "        color=\"xkcd:green\",\n",
    "        linewidth=2,\n",
    "    )\n",
    "    axis.scatter(\n",
    "        [cabinetry_post.yield_post], \n",
    "        [-4.5],\n",
    "        s=10 ** 2,\n",
    "        color=\"xkcd:green\",\n",
    "        marker=\"o\",\n",
    "        linewidth=2,\n",
    "        facecolor=\"w\",\n",
    "        zorder=2.2\n",
    "    )\n",
    "    \n",
    "    # plot normal bar\n",
    "    axis.plot(\n",
    "        [\n",
    "            normal.yield_linear - normal.error_linear, \n",
    "            normal.yield_linear + normal.error_linear,\n",
    "        ],\n",
    "        [-3] * 2,\n",
    "        \"k\",\n",
    "        linewidth=2,\n",
    "    )\n",
    "    axis.scatter(\n",
    "        [normal.yield_linear], \n",
    "        [-3],\n",
    "        s=10 ** 2,\n",
    "        color=\"k\",\n",
    "        marker=\"D\",\n",
    "        linewidth=2,\n",
    "        facecolor=\"w\",\n",
    "        zorder=2.2\n",
    "    )\n",
    "    \n",
    "    # plot linspace\n",
    "    linspace_y = _linspace_density(linspace)\n",
    "    linspace_x = numpy.linspace(linspace.start, linspace.stop, len(linspace.levels))\n",
    "    pyplot.plot(\n",
    "        linspace_x, \n",
    "        _safe_log(linspace_y),\n",
    "        \"b\",\n",
    "        linewidth=2,\n",
    "    )\n",
    "    \n",
    "    # plot mcmc\n",
    "    mcmc_y = _mcmc_density(mcmc, 50)\n",
    "    mcmc_x = numpy.linspace(*mcmc.range_, len(mcmc_y))\n",
    "    pyplot.plot(\n",
    "        mcmc_x,\n",
    "        _safe_log(mcmc_y),\n",
    "        \"r\",\n",
    "        linewidth=2,\n",
    "        drawstyle=\"steps-post\",\n",
    "    )\n",
    "\n",
    "    xmin = min(linspace.start, mcmc.range_[0])\n",
    "    xmax = max(linspace.stop, mcmc.range_[1])\n",
    "    pyplot.xlim(xmin, xmax)\n",
    "    pyplot.ylim(-8, 0.5)\n",
    "    \n",
    "    pyplot.show()\n",
    "    \n",
    "    \n",
    "def _rebin(array, len_new):\n",
    "    return numpy.reshape(array, (len_new, -1)).sum(axis=-1)\n",
    "\n",
    "    \n",
    "def _safe_log(x):\n",
    "    is_zero = x == 0\n",
    "    return numpy.where(\n",
    "        is_zero,\n",
    "        -numpy.inf,\n",
    "        numpy.log(x + is_zero),\n",
    "    )\n",
    "\n",
    "def _get_n_region(reg):\n",
    "    sr_name = reg.signal_region_name\n",
    "    observations = reg.workspace\n",
    "\n",
    "    for obs in reg.workspace[\"observations\"]:\n",
    "        if obs[\"name\"] == sr_name:\n",
    "            return obs[\"data\"][0]\n",
    "\n",
    "    raise ValueError(sr_name)\n",
    "\n",
    "\n",
    "def _linspace_density(linspace):\n",
    "    levels = numpy.array(linspace.levels)\n",
    "    y = numpy.exp(levels.min() - levels)\n",
    "    norm = numpy.trapz(y, dx=(linspace.stop - linspace.start) / (len(levels) - 1))\n",
    "    return y / norm\n",
    "\n",
    "\n",
    "def _mcmc_density(mcmc, nbins):\n",
    "    y = _rebin(mcmc.yields, nbins)\n",
    "    norm = y.sum() * ((mcmc.range_[1] - mcmc.range_[0]) / nbins)\n",
    "    y = y / norm\n",
    "    return numpy.append(y, y[-1])"
   ]
  },
  {
   "cell_type": "code",
   "execution_count": null,
   "id": "277cb25a",
   "metadata": {
    "scrolled": false
   },
   "outputs": [],
   "source": [
    "def load_reported():\n",
    "    path = os.path.join(BASENAME, \"reported.json\")\n",
    "    with open(path) as file_:\n",
    "        reported = json.load(file_)\n",
    "    return reported"
   ]
  },
  {
   "cell_type": "code",
   "execution_count": null,
   "id": "9eae2c1c",
   "metadata": {
    "scrolled": false
   },
   "outputs": [],
   "source": [
    "def main(search):\n",
    "    # disgusting hack TODO\n",
    "    global BASENAME, REPORTED\n",
    "    \n",
    "    BASENAME = f\"/home/tombs/Cambridge/interval-evidence/searches/{search}/\"\n",
    "    REPORTED = load_reported()\n",
    "    \n",
    "    print(\"#\", search)\n",
    "    for sr_name in REPORTED:\n",
    "        try:\n",
    "            plot_fits(sr_name)\n",
    "        except FileNotFoundError as e:\n",
    "            print(\"!!! missing\", sr_name, e)"
   ]
  },
  {
   "cell_type": "code",
   "execution_count": null,
   "id": "8aed3595",
   "metadata": {
    "scrolled": false
   },
   "outputs": [],
   "source": [
    "main(\"atlas_susy_1Lbb_2020\")"
   ]
  },
  {
   "cell_type": "code",
   "execution_count": null,
   "id": "9e7e3512",
   "metadata": {
    "scrolled": true
   },
   "outputs": [],
   "source": [
    "main(\"atlas_susy_1Ljets_2021\")"
   ]
  },
  {
   "cell_type": "code",
   "execution_count": null,
   "id": "3b3d90b7",
   "metadata": {
    "scrolled": true
   },
   "outputs": [],
   "source": [
    "main(\"atlas_susy_2hadtau_2020\")"
   ]
  },
  {
   "cell_type": "code",
   "execution_count": null,
   "id": "95fa95db",
   "metadata": {
    "scrolled": false
   },
   "outputs": [],
   "source": [
    "main(\"atlas_susy_2L0J_2019\")"
   ]
  },
  {
   "cell_type": "code",
   "execution_count": null,
   "id": "3b646370",
   "metadata": {
    "scrolled": false
   },
   "outputs": [],
   "source": [
    "main(\"atlas_susy_2Ljets_2022\")"
   ]
  },
  {
   "cell_type": "code",
   "execution_count": null,
   "id": "a39e263c",
   "metadata": {
    "scrolled": true
   },
   "outputs": [],
   "source": [
    "main(\"atlas_susy_3L_2021\")"
   ]
  },
  {
   "cell_type": "code",
   "execution_count": null,
   "id": "fe7b7660",
   "metadata": {
    "scrolled": true
   },
   "outputs": [],
   "source": [
    "main(\"atlas_susy_3Lresonance_2020\")"
   ]
  },
  {
   "cell_type": "code",
   "execution_count": null,
   "id": "74fd341a",
   "metadata": {
    "scrolled": true
   },
   "outputs": [],
   "source": [
    "main(\"atlas_susy_3LRJmimic_2020\")"
   ]
  },
  {
   "cell_type": "code",
   "execution_count": null,
   "id": "6c8e008a",
   "metadata": {
    "scrolled": true
   },
   "outputs": [],
   "source": [
    "main(\"atlas_susy_3Lss_2019\")"
   ]
  },
  {
   "cell_type": "code",
   "execution_count": null,
   "id": "d92784a7",
   "metadata": {
    "scrolled": false
   },
   "outputs": [],
   "source": [
    "main(\"atlas_susy_4L_2021\")"
   ]
  },
  {
   "cell_type": "code",
   "execution_count": null,
   "id": "5ff7fae3",
   "metadata": {
    "scrolled": false
   },
   "outputs": [],
   "source": [
    "main(\"atlas_susy_compressed_2020\")"
   ]
  },
  {
   "cell_type": "code",
   "execution_count": null,
   "id": "a5a982a1",
   "metadata": {
    "scrolled": false
   },
   "outputs": [],
   "source": [
    "main(\"atlas_susy_DVmuon_2020\")"
   ]
  },
  {
   "cell_type": "code",
   "execution_count": null,
   "id": "1b6bb610",
   "metadata": {
    "scrolled": false
   },
   "outputs": [],
   "source": [
    "main(\"atlas_susy_hb_2019\")"
   ]
  },
  {
   "cell_type": "code",
   "execution_count": null,
   "id": "d6172c8b",
   "metadata": {
    "scrolled": false
   },
   "outputs": [],
   "source": [
    "main(\"atlas_susy_jets_2021\")"
   ]
  }
 ],
 "metadata": {
  "kernelspec": {
   "display_name": "Python 3 (ipykernel)",
   "language": "python",
   "name": "python3"
  },
  "language_info": {
   "codemirror_mode": {
    "name": "ipython",
    "version": 3
   },
   "file_extension": ".py",
   "mimetype": "text/x-python",
   "name": "python",
   "nbconvert_exporter": "python",
   "pygments_lexer": "ipython3",
   "version": "3.10.4"
  }
 },
 "nbformat": 4,
 "nbformat_minor": 5
}
