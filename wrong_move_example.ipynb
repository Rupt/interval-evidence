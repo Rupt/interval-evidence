{
 "cells": [
  {
   "cell_type": "code",
   "execution_count": 1,
   "id": "b108927a",
   "metadata": {},
   "outputs": [],
   "source": [
    "import scipy.stats\n",
    "import scipy.special\n",
    "from matplotlib import pyplot\n",
    "import numpy"
   ]
  },
  {
   "cell_type": "code",
   "execution_count": 2,
   "id": "d4da0bbf",
   "metadata": {},
   "outputs": [
    {
     "name": "stdout",
     "output_type": "stream",
     "text": [
      "-0.5 -0.5\n",
      "-1.1931471805599454 -1.1931471805599454\n",
      "-1.204338675272643 -inf\n"
     ]
    }
   ],
   "source": [
    "def log_poisson(n, x):\n",
    "    return -x + scipy.special.xlogy(n, x) - scipy.special.loggamma(n + 1)\n",
    "    \n",
    "def log_poisson_test(n, x):\n",
    "    return scipy.stats.poisson.logpmf(n, x)\n",
    "\n",
    "print(log_poisson(0, 0.5), log_poisson_test(0, 0.5))\n",
    "print(log_poisson(1, 0.5), log_poisson_test(1, 0.5))\n",
    "print(log_poisson(1.01, 0.5), log_poisson_test(1.01, 0.5))"
   ]
  },
  {
   "cell_type": "code",
   "execution_count": 3,
   "id": "eff236fa",
   "metadata": {},
   "outputs": [],
   "source": [
    "def plot_r(n0, nplus, deltas, range_):\n",
    "    x = numpy.linspace(*range_, 1001)\n",
    "    \n",
    "    def logl(n, x):\n",
    "        parts = [\n",
    "            log_poisson(n, x + delta)\n",
    "            for delta in deltas\n",
    "        ]\n",
    "        \n",
    "        # log mean exp\n",
    "        return scipy.special.logsumexp(parts, axis=0) - numpy.log(len(deltas))\n",
    "    \n",
    "    pyplot.plot(x, logl(n0, x) - logl(n0, 0), \"b\")\n",
    "    pyplot.plot(x, logl(n0 + nplus, x) - logl(n0 + nplus, 0), \"r\")\n",
    "    \n",
    "    pyplot.axhline(-3)\n",
    "    \n",
    "    pyplot.ylim(-6, 0.5)\n",
    "    pyplot.show()"
   ]
  },
  {
   "cell_type": "code",
   "execution_count": 4,
   "id": "8db767ce",
   "metadata": {},
   "outputs": [
    {
     "data": {
      "image/png": "[encoded data removed]",
      "text/plain": [
       "<Figure size 432x288 with 1 Axes>"
      ]
     },
     "metadata": {
      "needs_background": "light"
     },
     "output_type": "display_data"
    }
   ],
   "source": [
    "plot_r(\n",
    "    12,\n",
    "    0.5,\n",
    "    [0] + [20] * 99,\n",
    "    [0, 20],\n",
    ")"
   ]
  }
 ],
 "metadata": {
  "kernelspec": {
   "display_name": "Python 3 (ipykernel)",
   "language": "python",
   "name": "python3"
  },
  "language_info": {
   "codemirror_mode": {
    "name": "ipython",
    "version": 3
   },
   "file_extension": ".py",
   "mimetype": "text/x-python",
   "name": "python",
   "nbconvert_exporter": "python",
   "pygments_lexer": "ipython3",
   "version": "3.10.4"
  }
 },
 "nbformat": 4,
 "nbformat_minor": 5
}
